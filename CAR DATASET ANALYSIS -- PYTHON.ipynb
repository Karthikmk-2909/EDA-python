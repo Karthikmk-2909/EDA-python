{
 "cells": [
  {
   "cell_type": "code",
   "execution_count": 1014,
   "id": "6c8d2658",
   "metadata": {},
   "outputs": [],
   "source": [
    "import pandas as pd\n",
    "import numpy as np"
   ]
  },
  {
   "cell_type": "markdown",
   "id": "ffca2381",
   "metadata": {},
   "source": [
    "# importing pandas and numpy libraries"
   ]
  },
  {
   "cell_type": "code",
   "execution_count": 1015,
   "id": "0a1c12b4",
   "metadata": {},
   "outputs": [],
   "source": [
    "filepath = \"https://cf-courses-data.s3.us.cloud-object-storage.appdomain.cloud/IBMDeveloperSkillsNetwork-DA0101EN-SkillsNetwork/labs/Data%20files/auto.csv\"\n",
    "df = pd.read_csv(filepath) "
   ]
  },
  {
   "cell_type": "code",
   "execution_count": 1016,
   "id": "29f5b516",
   "metadata": {},
   "outputs": [
    {
     "data": {
      "text/plain": [
       "'     3    ?    alfa-romero     gas    std   two  convertible  rwd  front   88.6  168.8  64.1  48.8  2548   dohc    four  130  mpfi  3.47  2.68    9.0  111  5000  21  27  13495\\n0    3    ?    alfa-romero     gas    std   two  convertible  rwd  front   88.6  168.8  64.1  48.8  2548   dohc    four  130  mpfi  3.47  2.68   9.00  111  5000  21  27  16500\\n1    1    ?    alfa-romero     gas    std   two    hatchback  rwd  front   94.5  171.2  65.5  52.4  2823   ohcv     six  152  mpfi  2.68  3.47   9.00  154  5000  19  26  16500\\n2    2  164           audi     gas    std  four        sedan  fwd  front   99.8  176.6  66.2  54.3  2337    ohc    four  109  mpfi  3.19  3.40  10.00  102  5500  24  30  13950\\n3    2  164           audi     gas    std  four        sedan  4wd  front   99.4  176.6  66.4  54.3  2824    ohc    five  136  mpfi  3.19  3.40   8.00  115  5500  18  22  17450\\n4    2    ?           audi     gas    std   two        sedan  fwd  front   99.8  177.3  66.3  53.1  2507    ohc    five  136  mpfi  3.19  3.40   8.50  110  5500  19  25  15250\\n5    1  158           audi     gas    std  four        sedan  fwd  front  105.8  192.7  71.4  55.7  2844    ohc    five  136  mpfi  3.19  3.40   8.50  110  5500  19  25  17710\\n6    1    ?           audi     gas    std  four        wagon  fwd  front  105.8  192.7  71.4  55.7  2954    ohc    five  136  mpfi  3.19  3.40   8.50  110  5500  19  25  18920\\n7    1  158           audi     gas  turbo  four        sedan  fwd  front  105.8  192.7  71.4  55.9  3086    ohc    five  131  mpfi  3.13  3.40   8.30  140  5500  17  20  23875\\n8    0    ?           audi     gas  turbo   two    hatchback  4wd  front   99.5  178.2  67.9  52.0  3053    ohc    five  131  mpfi  3.13  3.40   7.00  160  5500  16  22      ?\\n9    2  192            bmw     gas    std   two        sedan  rwd  front  101.2  176.8  64.8  54.3  2395    ohc    four  108  mpfi  3.50  2.80   8.80  101  5800  23  29  16430\\n10   0  192            bmw     gas    std  four        sedan  rwd  front  101.2  176.8  64.8  54.3  2395    ohc    four  108  mpfi  3.50  2.80   8.80  101  5800  23  29  16925\\n11   0  188            bmw     gas    std   two        sedan  rwd  front  101.2  176.8  64.8  54.3  2710    ohc     six  164  mpfi  3.31  3.19   9.00  121  4250  21  28  20970\\n12   0  188            bmw     gas    std  four        sedan  rwd  front  101.2  176.8  64.8  54.3  2765    ohc     six  164  mpfi  3.31  3.19   9.00  121  4250  21  28  21105\\n13   1    ?            bmw     gas    std  four        sedan  rwd  front  103.5  189.0  66.9  55.7  3055    ohc     six  164  mpfi  3.31  3.19   9.00  121  4250  20  25  24565\\n14   0    ?            bmw     gas    std  four        sedan  rwd  front  103.5  189.0  66.9  55.7  3230    ohc     six  209  mpfi  3.62  3.39   8.00  182  5400  16  22  30760\\n15   0    ?            bmw     gas    std   two        sedan  rwd  front  103.5  193.8  67.9  53.7  3380    ohc     six  209  mpfi  3.62  3.39   8.00  182  5400  16  22  41315\\n16   0    ?            bmw     gas    std  four        sedan  rwd  front  110.0  197.0  70.9  56.3  3505    ohc     six  209  mpfi  3.62  3.39   8.00  182  5400  15  20  36880\\n17   2  121      chevrolet     gas    std   two    hatchback  fwd  front   88.4  141.1  60.3  53.2  1488      l   three   61  2bbl  2.91  3.03   9.50   48  5100  47  53   5151\\n18   1   98      chevrolet     gas    std   two    hatchback  fwd  front   94.5  155.9  63.6  52.0  1874    ohc    four   90  2bbl  3.03  3.11   9.60   70  5400  38  43   6295\\n19   0   81      chevrolet     gas    std  four        sedan  fwd  front   94.5  158.8  63.6  52.0  1909    ohc    four   90  2bbl  3.03  3.11   9.60   70  5400  38  43   6575\\n20   1  118          dodge     gas    std   two    hatchback  fwd  front   93.7  157.3  63.8  50.8  1876    ohc    four   90  2bbl  2.97  3.23   9.41   68  5500  37  41   5572\\n21   1  118          dodge     gas    std   two    hatchback  fwd  front   93.7  157.3  63.8  50.8  1876    ohc    four   90  2bbl  2.97  3.23   9.40   68  5500  31  38   6377\\n22   1  118          dodge     gas  turbo   two    hatchback  fwd  front   93.7  157.3  63.8  50.8  2128    ohc    four   98  mpfi  3.03  3.39   7.60  102  5500  24  30   7957\\n23   1  148          dodge     gas    std  four    hatchback  fwd  front   93.7  157.3  63.8  50.6  1967    ohc    four   90  2bbl  2.97  3.23   9.40   68  5500  31  38   6229\\n24   1  148          dodge     gas    std  four        sedan  fwd  front   93.7  157.3  63.8  50.6  1989    ohc    four   90  2bbl  2.97  3.23   9.40   68  5500  31  38   6692\\n25   1  148          dodge     gas    std  four        sedan  fwd  front   93.7  157.3  63.8  50.6  1989    ohc    four   90  2bbl  2.97  3.23   9.40   68  5500  31  38   7609\\n26   1  148          dodge     gas  turbo     ?        sedan  fwd  front   93.7  157.3  63.8  50.6  2191    ohc    four   98  mpfi  3.03  3.39   7.60  102  5500  24  30   8558\\n27  -1  110          dodge     gas    std  four        wagon  fwd  front  103.3  174.6  64.6  59.8  2535    ohc    four  122  2bbl  3.34  3.46   8.50   88  5000  24  30   8921\\n28   3  145          dodge     gas  turbo   two    hatchback  fwd  front   95.9  173.2  66.3  50.2  2811    ohc    four  156   mfi  3.60  3.90   7.00  145  5000  19  24  12964\\n29   2  137          honda     gas    std   two    hatchback  fwd  front   86.6  144.6  63.9  50.8  1713    ohc    four   92  1bbl  2.91  3.41   9.60   58  4800  49  54   6479\\n30   2  137          honda     gas    std   two    hatchback  fwd  front   86.6  144.6  63.9  50.8  1819    ohc    four   92  1bbl  2.91  3.41   9.20   76  6000  31  38   6855\\n31   1  101          honda     gas    std   two    hatchback  fwd  front   93.7  150.0  64.0  52.6  1837    ohc    four   79  1bbl  2.91  3.07  10.10   60  5500  38  42   5399\\n32   1  101          honda     gas    std   two    hatchback  fwd  front   93.7  150.0  64.0  52.6  1940    ohc    four   92  1bbl  2.91  3.41   9.20   76  6000  30  34   6529\\n33   1  101          honda     gas    std   two    hatchback  fwd  front   93.7  150.0  64.0  52.6  1956    ohc    four   92  1bbl  2.91  3.41   9.20   76  6000  30  34   7129\\n34   0  110          honda     gas    std  four        sedan  fwd  front   96.5  163.4  64.0  54.5  2010    ohc    four   92  1bbl  2.91  3.41   9.20   76  6000  30  34   7295\\n35   0   78          honda     gas    std  four        wagon  fwd  front   96.5  157.1  63.9  58.3  2024    ohc    four   92  1bbl  2.92  3.41   9.20   76  6000  30  34   7295\\n36   0  106          honda     gas    std   two    hatchback  fwd  front   96.5  167.5  65.2  53.3  2236    ohc    four  110  1bbl  3.15  3.58   9.00   86  5800  27  33   7895\\n37   0  106          honda     gas    std   two    hatchback  fwd  front   96.5  167.5  65.2  53.3  2289    ohc    four  110  1bbl  3.15  3.58   9.00   86  5800  27  33   9095\\n38   0   85          honda     gas    std  four        sedan  fwd  front   96.5  175.4  65.2  54.1  2304    ohc    four  110  1bbl  3.15  3.58   9.00   86  5800  27  33   8845\\n39   0   85          honda     gas    std  four        sedan  fwd  front   96.5  175.4  62.5  54.1  2372    ohc    four  110  1bbl  3.15  3.58   9.00   86  5800  27  33  10295\\n40   0   85          honda     gas    std  four        sedan  fwd  front   96.5  175.4  65.2  54.1  2465    ohc    four  110  mpfi  3.15  3.58   9.00  101  5800  24  28  12945\\n41   1  107          honda     gas    std   two        sedan  fwd  front   96.5  169.1  66.0  51.0  2293    ohc    four  110  2bbl  3.15  3.58   9.10  100  5500  25  31  10345\\n42   0    ?          isuzu     gas    std  four        sedan  rwd  front   94.3  170.7  61.8  53.5  2337    ohc    four  111  2bbl  3.31  3.23   8.50   78  4800  24  29   6785\\n43   1    ?          isuzu     gas    std   two        sedan  fwd  front   94.5  155.9  63.6  52.0  1874    ohc    four   90  2bbl  3.03  3.11   9.60   70  5400  38  43      ?\\n44   0    ?          isuzu     gas    std  four        sedan  fwd  front   94.5  155.9  63.6  52.0  1909    ohc    four   90  2bbl  3.03  3.11   9.60   70  5400  38  43      ?\\n45   2    ?          isuzu     gas    std   two    hatchback  rwd  front   96.0  172.6  65.2  51.4  2734    ohc    four  119  spfi  3.43  3.23   9.20   90  5000  24  29  11048\\n46   0  145         jaguar     gas    std  four        sedan  rwd  front  113.0  199.6  69.6  52.8  4066   dohc     six  258  mpfi  3.63  4.17   8.10  176  4750  15  19  32250\\n47   0    ?         jaguar     gas    std  four        sedan  rwd  front  113.0  199.6  69.6  52.8  4066   dohc     six  258  mpfi  3.63  4.17   8.10  176  4750  15  19  35550\\n48   0    ?         jaguar     gas    std   two        sedan  rwd  front  102.0  191.7  70.6  47.8  3950   ohcv  twelve  326  mpfi  3.54  2.76  11.50  262  5000  13  17  36000\\n49   1  104          mazda     gas    std   two    hatchback  fwd  front   93.1  159.1  64.2  54.1  1890    ohc    four   91  2bbl  3.03  3.15   9.00   68  5000  30  31   5195\\n50   1  104          mazda     gas    std   two    hatchback  fwd  front   93.1  159.1  64.2  54.1  1900    ohc    four   91  2bbl  3.03  3.15   9.00   68  5000  31  38   6095\\n51   1  104          mazda     gas    std   two    hatchback  fwd  front   93.1  159.1  64.2  54.1  1905    ohc    four   91  2bbl  3.03  3.15   9.00   68  5000  31  38   6795\\n52   1  113          mazda     gas    std  four        sedan  fwd  front   93.1  166.8  64.2  54.1  1945    ohc    four   91  2bbl  3.03  3.15   9.00   68  5000  31  38   6695\\n53   1  113          mazda     gas    std  four        sedan  fwd  front   93.1  166.8  64.2  54.1  1950    ohc    four   91  2bbl  3.08  3.15   9.00   68  5000  31  38   7395\\n54   3  150          mazda     gas    std   two    hatchback  rwd  front   95.3  169.0  65.7  49.6  2380  rotor     two   70  4bbl     ?     ?   9.40  101  6000  17  23  10945\\n55   3  150          mazda     gas    std   two    hatchback  rwd  front   95.3  169.0  65.7  49.6  2380  rotor     two   70  4bbl     ?     ?   9.40  101  6000  17  23  11845\\n56   3  150          mazda     gas    std   two    hatchback  rwd  front   95.3  169.0  65.7  49.6  2385  rotor     two   70  4bbl     ?     ?   9.40  101  6000  17  23  13645\\n57   3  150          mazda     gas    std   two    hatchback  rwd  front   95.3  169.0  65.7  49.6  2500  rotor     two   80  mpfi     ?     ?   9.40  135  6000  16  23  15645\\n58   1  129          mazda     gas    std   two    hatchback  fwd  front   98.8  177.8  66.5  53.7  2385    ohc    four  122  2bbl  3.39  3.39   8.60   84  4800  26  32   8845\\n59   0  115          mazda     gas    std  four        sedan  fwd  front   98.8  177.8  66.5  55.5  2410    ohc    four  122  2bbl  3.39  3.39   8.60   84  4800  26  32   8495\\n60   1  129          mazda     gas    std   two    hatchback  fwd  front   98.8  177.8  66.5  53.7  2385    ohc    four  122  2bbl  3.39  3.39   8.60   84  4800  26  32  10595\\n61   0  115          mazda     gas    std  four        sedan  fwd  front   98.8  177.8  66.5  55.5  2410    ohc    four  122  2bbl  3.39  3.39   8.60   84  4800  26  32  10245\\n62   0    ?          mazda  diesel    std     ?        sedan  fwd  front   98.8  177.8  66.5  55.5  2443    ohc    four  122   idi  3.39  3.39  22.70   64  4650  36  42  10795\\n63   0  115          mazda     gas    std  four    hatchback  fwd  front   98.8  177.8  66.5  55.5  2425    ohc    four  122  2bbl  3.39  3.39   8.60   84  4800  26  32  11245\\n64   0  118          mazda     gas    std  four        sedan  rwd  front  104.9  175.0  66.1  54.4  2670    ohc    four  140  mpfi  3.76  3.16   8.00  120  5000  19  27  18280\\n65   0    ?          mazda  diesel    std  four        sedan  rwd  front  104.9  175.0  66.1  54.4  2700    ohc    four  134   idi  3.43  3.64  22.00   72  4200  31  39  18344\\n66  -1   93  mercedes-benz  diesel  turbo  four        sedan  rwd  front  110.0  190.9  70.3  56.5  3515    ohc    five  183   idi  3.58  3.64  21.50  123  4350  22  25  25552\\n67  -1   93  mercedes-benz  diesel  turbo  four        wagon  rwd  front  110.0  190.9  70.3  58.7  3750    ohc    five  183   idi  3.58  3.64  21.50  123  4350  22  25  28248\\n68   0   93  mercedes-benz  diesel  turbo   two      hardtop  rwd  front  106.7  187.5  70.3  54.9  3495    ohc    five  183   idi  3.58  3.64  21.50  123  4350  22  25  28176\\n69  -1   93  mercedes-benz  diesel  turbo  four        sedan  rwd  front  115.6  202.6  71.7  56.3  3770    ohc    five  183   idi  3.58  3.64  21.50  123  4350  22  25  31600\\n70  -1    ?  mercedes-benz     gas    std  four        sedan  rwd  front  115.6  202.6  71.7  56.5  3740   ohcv   eight  234  mpfi  3.46  3.10   8.30  155  4750  16  18  34184\\n71   3  142  mercedes-benz     gas    std   two  convertible  rwd  front   96.6  180.3  70.5  50.8  3685   ohcv   eight  234  mpfi  3.46  3.10   8.30  155  4750  16  18  35056\\n72   0    ?  mercedes-benz     gas    std  four        sedan  rwd  front  120.9  208.1  71.7  56.7  3900   ohcv   eight  308  mpfi  3.80  3.35   8.00  184  4500  14  16  40960\\n73   1    ?  mercedes-benz     gas    std   two      hardtop  rwd  front  112.0  199.2  72.0  55.4  3715   ohcv   eight  304  mpfi  3.80  3.35   8.00  184  4500  14  16  45400\\n74   1    ?        mercury     gas  turbo   two    hatchback  rwd  front  102.7  178.4  68.0  54.8  2910    ohc    four  140  mpfi  3.78  3.12   8.00  175  5000  19  24  16503\\n75   2  161     mitsubishi     gas    std   two    hatchback  fwd  front   93.7  157.3  64.4  50.8  1918    ohc    four   92  2bbl  2.97  3.23   9.40   68  5500  37  41   5389\\n76   2  161     mitsubishi     gas    std   two    hatchback  fwd  front   93.7  157.3  64.4  50.8  1944    ohc    four   92  2bbl  2.97  3.23   9.40   68  5500  31  38   6189\\n77   2  161     mitsubishi     gas    std   two    hatchback  fwd  front   93.7  157.3  64.4  50.8  2004    ohc    four   92  2bbl  2.97  3.23   9.40   68  5500  31  38   6669\\n78   1  161     mitsubishi     gas  turbo   two    hatchback  fwd  front   93.0  157.3  63.8  50.8  2145    ohc    four   98  spdi  3.03  3.39   7.60  102  5500  24  30   7689\\n79   3  153     mitsubishi     gas  turbo   two    hatchback  fwd  front   96.3  173.0  65.4  49.4  2370    ohc    four  110  spdi  3.17  3.46   7.50  116  5500  23  30   9959\\n80   3  153     mitsubishi     gas    std   two    hatchback  fwd  front   96.3  173.0  65.4  49.4  2328    ohc    four  122  2bbl  3.35  3.46   8.50   88  5000  25  32   8499\\n81   3    ?     mitsubishi     gas  turbo   two    hatchback  fwd  front   95.9  173.2  66.3  50.2  2833    ohc    four  156  spdi  3.58  3.86   7.00  145  5000  19  24  12629\\n82   3    ?     mitsubishi     gas  turbo   two    hatchback  fwd  front   95.9  173.2  66.3  50.2  2921    ohc    four  156  spdi  3.59  3.86   7.00  145  5000  19  24  14869\\n83   3    ?     mitsubishi     gas  turbo   two    hatchback  fwd  front   95.9  173.2  66.3  50.2  2926    ohc    four  156  spdi  3.59  3.86   7.00  145  5000  19  24  14489\\n84   1  125     mitsubishi     gas    std  four        sedan  fwd  front   96.3  172.4  65.4  51.6  2365    ohc    four  122  2bbl  3.35  3.46   8.50   88  5000  25  32   6989\\n85   1  125     mitsubishi     gas    std  four        sedan  fwd  front   96.3  172.4  65.4  51.6  2405    ohc    four  122  2bbl  3.35  3.46   8.50   88  5000  25  32   8189\\n86   1  125     mitsubishi     gas  turbo  four        sedan  fwd  front   96.3  172.4  65.4  51.6  2403    ohc    four  110  spdi  3.17  3.46   7.50  116  5500  23  30   9279\\n87  -1  137     mitsubishi     gas    std  four        sedan  fwd  front   96.3  172.4  65.4  51.6  2403    ohc    four  110  spdi  3.17  3.46   7.50  116  5500  23  30   9279\\n88   1  128         nissan     gas    std   two        sedan  fwd  front   94.5  165.3  63.8  54.5  1889    ohc    four   97  2bbl  3.15  3.29   9.40   69  5200  31  37   5499\\n89   1  128         nissan  diesel    std   two        sedan  fwd  front   94.5  165.3  63.8  54.5  2017    ohc    four  103   idi  2.99  3.47  21.90   55  4800  45  50   7099\\n90   1  128         nissan     gas    std   two        sedan  fwd  front   94.5  165.3  63.8  54.5  1918    ohc    four   97  2bbl  3.15  3.29   9.40   69  5200  31  37   6649\\n91   1  122         nissan     gas    std  four        sedan  fwd  front   94.5  165.3  63.8  54.5  1938    ohc    four   97  2bbl  3.15  3.29   9.40   69  5200  31  37   6849\\n92   1  103         nissan     gas    std  four        wagon  fwd  front   94.5  170.2  63.8  53.5  2024    ohc    four   97  2bbl  3.15  3.29   9.40   69  5200  31  37   7349\\n93   1  128         nissan     gas    std   two        sedan  fwd  front   94.5  165.3  63.8  54.5  1951    ohc    four   97  2bbl  3.15  3.29   9.40   69  5200  31  37   7299\\n94   1  128         nissan     gas    std   two    hatchback  fwd  front   94.5  165.6  63.8  53.3  2028    ohc    four   97  2bbl  3.15  3.29   9.40   69  5200  31  37   7799\\n95   1  122         nissan     gas    std  four        sedan  fwd  front   94.5  165.3  63.8  54.5  1971    ohc    four   97  2bbl  3.15  3.29   9.40   69  5200  31  37   7499\\n96   1  103         nissan     gas    std  four        wagon  fwd  front   94.5  170.2  63.8  53.5  2037    ohc    four   97  2bbl  3.15  3.29   9.40   69  5200  31  37   7999\\n97   2  168         nissan     gas    std   two      hardtop  fwd  front   95.1  162.4  63.8  53.3  2008    ohc    four   97  2bbl  3.15  3.29   9.40   69  5200  31  37   8249\\n98   0  106         nissan     gas    std  four    hatchback  fwd  front   97.2  173.4  65.2  54.7  2324    ohc    four  120  2bbl  3.33  3.47   8.50   97  5200  27  34   8949\\n99   0  106         nissan     gas    std  four        sedan  fwd  front   97.2  173.4  65.2  54.7  2302    ohc    four  120  2bbl  3.33  3.47   8.50   97  5200  27  34   9549\\n100  0  128         nissan     gas    std  four        sedan  fwd  front  100.4  181.7  66.5  55.1  3095   ohcv     six  181  mpfi  3.43  3.27   9.00  152  5200  17  22  13499\\n101  0  108         nissan     gas    std  four        wagon  fwd  front  100.4  184.6  66.5  56.1  3296   ohcv     six  181  mpfi  3.43  3.27   9.00  152  5200  17  22  14399\\n102  0  108         nissan     gas    std  four        sedan  fwd  front  100.4  184.6  66.5  55.1  3060   ohcv     six  181  mpfi  3.43  3.27   9.00  152  5200  19  25  13499\\n103  3  194         nissan     gas    std   two    hatchback  rwd  front   91.3  170.7  67.9  49.7  3071   ohcv     six  181  mpfi  3.43  3.27   9.00  160  5200  19  25  17199\\n104  3  194         nissan     gas  turbo   two    hatchback  rwd  front   91.3  170.7  67.9  49.7  3139   ohcv     six  181  mpfi  3.43  3.27   7.80  200  5200  17  23  19699\\n105  1  231         nissan     gas    std   two    hatchback  rwd  front   99.2  178.5  67.9  49.7  3139   ohcv     six  181  mpfi  3.43  3.27   9.00  160  5200  19  25  18399\\n106  0  161         peugot     gas    std  four        sedan  rwd  front  107.9  186.7  68.4  56.7  3020      l    four  120  mpfi  3.46  3.19   8.40   97  5000  19  24  11900\\n107  0  161         peugot  diesel  turbo  four        sedan  rwd  front  107.9  186.7  68.4  56.7  3197      l    four  152   idi  3.70  3.52  21.00   95  4150  28  33  13200\\n108  0    ?         peugot     gas    std  four        wagon  rwd  front  114.2  198.9  68.4  58.7  3230      l    four  120  mpfi  3.46  3.19   8.40   97  5000  19  24  12440\\n109  0    ?         peugot  diesel  turbo  four        wagon  rwd  front  114.2  198.9  68.4  58.7  3430      l    four  152   idi  3.70  3.52  21.00   95  4150  25  25  13860\\n110  0  161         peugot     gas    std  four        sedan  rwd  front  107.9  186.7  68.4  56.7  3075      l    four  120  mpfi  3.46  2.19   8.40   95  5000  19  24  15580\\n111  0  161         peugot  diesel  turbo  four        sedan  rwd  front  107.9  186.7  68.4  56.7  3252      l    four  152   idi  3.70  3.52  21.00   95  4150  28  33  16900\\n112  0    ?         peugot     gas    std  four        wagon  rwd  front  114.2  198.9  68.4  56.7  3285      l    four  120  mpfi  3.46  2.19   8.40   95  5000  19  24  16695\\n113  0    ?         peugot  diesel  turbo  four        wagon  rwd  front  114.2  198.9  68.4  58.7  3485      l    four  152   idi  3.70  3.52  21.00   95  4150  25  25  17075\\n114  0  161         peugot     gas    std  four        sedan  rwd  front  107.9  186.7  68.4  56.7  3075      l    four  120  mpfi  3.46  3.19   8.40   97  5000  19  24  16630\\n115  0  161         peugot  diesel  turbo  four        sedan  rwd  front  107.9  186.7  68.4  56.7  3252      l    four  152   idi  3.70  3.52  21.00   95  4150  28  33  17950\\n116  0  161         peugot     gas  turbo  four        sedan  rwd  front  108.0  186.7  68.3  56.0  3130      l    four  134  mpfi  3.61  3.21   7.00  142  5600  18  24  18150\\n117  1  119       plymouth     gas    std   two    hatchback  fwd  front   93.7  157.3  63.8  50.8  1918    ohc    four   90  2bbl  2.97  3.23   9.40   68  5500  37  41   5572\\n118  1  119       plymouth     gas  turbo   two    hatchback  fwd  front   93.7  157.3  63.8  50.8  2128    ohc    four   98  spdi  3.03  3.39   7.60  102  5500  24  30   7957\\n119  1  154       plymouth     gas    std  four    hatchback  fwd  front   93.7  157.3  63.8  50.6  1967    ohc    four   90  2bbl  2.97  3.23   9.40   68  5500  31  38   6229\\n120  1  154       plymouth     gas    std  four        sedan  fwd  front   93.7  167.3  63.8  50.8  1989    ohc    four   90  2bbl  2.97  3.23   9.40   68  5500  31  38   6692\\n121  1  154       plymouth     gas    std  four        sedan  fwd  front   93.7  167.3  63.8  50.8  2191    ohc    four   98  2bbl  2.97  3.23   9.40   68  5500  31  38   7609\\n122 -1   74       plymouth     gas    std  four        wagon  fwd  front  103.3  174.6  64.6  59.8  2535    ohc    four  122  2bbl  3.35  3.46   8.50   88  5000  24  30   8921\\n123  3    ?       plymouth     gas  turbo   two    hatchback  rwd  front   95.9  173.2  66.3  50.2  2818    ohc    four  156  spdi  3.59  3.86   7.00  145  5000  19  24  12764\\n124  3  186        porsche     gas    std   two    hatchback  rwd  front   94.5  168.9  68.3  50.2  2778    ohc    four  151  mpfi  3.94  3.11   9.50  143  5500  19  27  22018\\n125  3    ?        porsche     gas    std   two      hardtop  rwd   rear   89.5  168.9  65.0  51.6  2756   ohcf     six  194  mpfi  3.74  2.90   9.50  207  5900  17  25  32528\\n126  3    ?        porsche     gas    std   two      hardtop  rwd   rear   89.5  168.9  65.0  51.6  2756   ohcf     six  194  mpfi  3.74  2.90   9.50  207  5900  17  25  34028\\n127  3    ?        porsche     gas    std   two  convertible  rwd   rear   89.5  168.9  65.0  51.6  2800   ohcf     six  194  mpfi  3.74  2.90   9.50  207  5900  17  25  37028\\n128  1    ?        porsche     gas    std   two    hatchback  rwd  front   98.4  175.7  72.3  50.5  3366  dohcv   eight  203  mpfi  3.94  3.11  10.00  288  5750  17  28      ?\\n129  0    ?        renault     gas    std  four        wagon  fwd  front   96.1  181.5  66.5  55.2  2579    ohc    four  132  mpfi  3.46  3.90   8.70    ?     ?  23  31   9295\\n130  2    ?        renault     gas    std   two    hatchback  fwd  front   96.1  176.8  66.6  50.5  2460    ohc    four  132  mpfi  3.46  3.90   8.70    ?     ?  23  31   9895\\n131  3  150           saab     gas    std   two    hatchback  fwd  front   99.1  186.6  66.5  56.1  2658    ohc    four  121  mpfi  3.54  3.07   9.31  110  5250  21  28  11850\\n132  2  104           saab     gas    std  four        sedan  fwd  front   99.1  186.6  66.5  56.1  2695    ohc    four  121  mpfi  3.54  3.07   9.30  110  5250  21  28  12170\\n133  3  150           saab     gas    std   two    hatchback  fwd  front   99.1  186.6  66.5  56.1  2707    ohc    four  121  mpfi  2.54  2.07   9.30  110  5250  21  28  15040\\n134  2  104           saab     gas    std  four        sedan  fwd  front   99.1  186.6  66.5  56.1  2758    ohc    four  121  mpfi  3.54  3.07   9.30  110  5250  21  28  15510\\n135  3  150           saab     gas  turbo   two    hatchback  fwd  front   99.1  186.6  66.5  56.1  2808   dohc    four  121  mpfi  3.54  3.07   9.00  160  5500  19  26  18150\\n136  2  104           saab     gas  turbo  four        sedan  fwd  front   99.1  186.6  66.5  56.1  2847   dohc    four  121  mpfi  3.54  3.07   9.00  160  5500  19  26  18620\\n137  2   83         subaru     gas    std   two    hatchback  fwd  front   93.7  156.9  63.4  53.7  2050   ohcf    four   97  2bbl  3.62  2.36   9.00   69  4900  31  36   5118\\n138  2   83         subaru     gas    std   two    hatchback  fwd  front   93.7  157.9  63.6  53.7  2120   ohcf    four  108  2bbl  3.62  2.64   8.70   73  4400  26  31   7053\\n139  2   83         subaru     gas    std   two    hatchback  4wd  front   93.3  157.3  63.8  55.7  2240   ohcf    four  108  2bbl  3.62  2.64   8.70   73  4400  26  31   7603\\n140  0  102         subaru     gas    std  four        sedan  fwd  front   97.2  172.0  65.4  52.5  2145   ohcf    four  108  2bbl  3.62  2.64   9.50   82  4800  32  37   7126\\n141  0  102         subaru     gas    std  four        sedan  fwd  front   97.2  172.0  65.4  52.5  2190   ohcf    four  108  2bbl  3.62  2.64   9.50   82  4400  28  33   7775\\n142  0  102         subaru     gas    std  four        sedan  fwd  front   97.2  172.0  65.4  52.5  2340   ohcf    four  108  mpfi  3.62  2.64   9.00   94  5200  26  32   9960\\n143  0  102         subaru     gas    std  four        sedan  4wd  front   97.0  172.0  65.4  54.3  2385   ohcf    four  108  2bbl  3.62  2.64   9.00   82  4800  24  25   9233\\n144  0  102         subaru     gas  turbo  four        sedan  4wd  front   97.0  172.0  65.4  54.3  2510   ohcf    four  108  mpfi  3.62  2.64   7.70  111  4800  24  29  11259\\n145  0   89         subaru     gas    std  four        wagon  fwd  front   97.0  173.5  65.4  53.0  2290   ohcf    four  108  2bbl  3.62  2.64   9.00   82  4800  28  32   7463\\n146  0   89         subaru     gas    std  four        wagon  fwd  front   97.0  173.5  65.4  53.0  2455   ohcf    four  108  mpfi  3.62  2.64   9.00   94  5200  25  31  10198\\n147  0   85         subaru     gas    std  four        wagon  4wd  front   96.9  173.6  65.4  54.9  2420   ohcf    four  108  2bbl  3.62  2.64   9.00   82  4800  23  29   8013\\n148  0   85         subaru     gas  turbo  four        wagon  4wd  front   96.9  173.6  65.4  54.9  2650   ohcf    four  108  mpfi  3.62  2.64   7.70  111  4800  23  23  11694\\n149  1   87         toyota     gas    std   two    hatchback  fwd  front   95.7  158.7  63.6  54.5  1985    ohc    four   92  2bbl  3.05  3.03   9.00   62  4800  35  39   5348\\n150  1   87         toyota     gas    std   two    hatchback  fwd  front   95.7  158.7  63.6  54.5  2040    ohc    four   92  2bbl  3.05  3.03   9.00   62  4800  31  38   6338\\n151  1   74         toyota     gas    std  four    hatchback  fwd  front   95.7  158.7  63.6  54.5  2015    ohc    four   92  2bbl  3.05  3.03   9.00   62  4800  31  38   6488\\n152  0   77         toyota     gas    std  four        wagon  fwd  front   95.7  169.7  63.6  59.1  2280    ohc    four   92  2bbl  3.05  3.03   9.00   62  4800  31  37   6918\\n153  0   81         toyota     gas    std  four        wagon  4wd  front   95.7  169.7  63.6  59.1  2290    ohc    four   92  2bbl  3.05  3.03   9.00   62  4800  27  32   7898\\n154  0   91         toyota     gas    std  four        wagon  4wd  front   95.7  169.7  63.6  59.1  3110    ohc    four   92  2bbl  3.05  3.03   9.00   62  4800  27  32   8778\\n155  0   91         toyota     gas    std  four        sedan  fwd  front   95.7  166.3  64.4  53.0  2081    ohc    four   98  2bbl  3.19  3.03   9.00   70  4800  30  37   6938\\n156  0   91         toyota     gas    std  four    hatchback  fwd  front   95.7  166.3  64.4  52.8  2109    ohc    four   98  2bbl  3.19  3.03   9.00   70  4800  30  37   7198\\n157  0   91         toyota  diesel    std  four        sedan  fwd  front   95.7  166.3  64.4  53.0  2275    ohc    four  110   idi  3.27  3.35  22.50   56  4500  34  36   7898\\n158  0   91         toyota  diesel    std  four    hatchback  fwd  front   95.7  166.3  64.4  52.8  2275    ohc    four  110   idi  3.27  3.35  22.50   56  4500  38  47   7788\\n159  0   91         toyota     gas    std  four        sedan  fwd  front   95.7  166.3  64.4  53.0  2094    ohc    four   98  2bbl  3.19  3.03   9.00   70  4800  38  47   7738\\n160  0   91         toyota     gas    std  four    hatchback  fwd  front   95.7  166.3  64.4  52.8  2122    ohc    four   98  2bbl  3.19  3.03   9.00   70  4800  28  34   8358\\n161  0   91         toyota     gas    std  four        sedan  fwd  front   95.7  166.3  64.4  52.8  2140    ohc    four   98  2bbl  3.19  3.03   9.00   70  4800  28  34   9258\\n162  1  168         toyota     gas    std   two        sedan  rwd  front   94.5  168.7  64.0  52.6  2169    ohc    four   98  2bbl  3.19  3.03   9.00   70  4800  29  34   8058\\n163  1  168         toyota     gas    std   two    hatchback  rwd  front   94.5  168.7  64.0  52.6  2204    ohc    four   98  2bbl  3.19  3.03   9.00   70  4800  29  34   8238\\n164  1  168         toyota     gas    std   two        sedan  rwd  front   94.5  168.7  64.0  52.6  2265   dohc    four   98  mpfi  3.24  3.08   9.40  112  6600  26  29   9298\\n165  1  168         toyota     gas    std   two    hatchback  rwd  front   94.5  168.7  64.0  52.6  2300   dohc    four   98  mpfi  3.24  3.08   9.40  112  6600  26  29   9538\\n166  2  134         toyota     gas    std   two      hardtop  rwd  front   98.4  176.2  65.6  52.0  2540    ohc    four  146  mpfi  3.62  3.50   9.30  116  4800  24  30   8449\\n167  2  134         toyota     gas    std   two      hardtop  rwd  front   98.4  176.2  65.6  52.0  2536    ohc    four  146  mpfi  3.62  3.50   9.30  116  4800  24  30   9639\\n168  2  134         toyota     gas    std   two    hatchback  rwd  front   98.4  176.2  65.6  52.0  2551    ohc    four  146  mpfi  3.62  3.50   9.30  116  4800  24  30   9989\\n169  2  134         toyota     gas    std   two      hardtop  rwd  front   98.4  176.2  65.6  52.0  2679    ohc    four  146  mpfi  3.62  3.50   9.30  116  4800  24  30  11199\\n170  2  134         toyota     gas    std   two    hatchback  rwd  front   98.4  176.2  65.6  52.0  2714    ohc    four  146  mpfi  3.62  3.50   9.30  116  4800  24  30  11549\\n171  2  134         toyota     gas    std   two  convertible  rwd  front   98.4  176.2  65.6  53.0  2975    ohc    four  146  mpfi  3.62  3.50   9.30  116  4800  24  30  17669\\n172 -1   65         toyota     gas    std  four        sedan  fwd  front  102.4  175.6  66.5  54.9  2326    ohc    four  122  mpfi  3.31  3.54   8.70   92  4200  29  34   8948\\n173 -1   65         toyota  diesel  turbo  four        sedan  fwd  front  102.4  175.6  66.5  54.9  2480    ohc    four  110   idi  3.27  3.35  22.50   73  4500  30  33  10698\\n174 -1   65         toyota     gas    std  four    hatchback  fwd  front  102.4  175.6  66.5  53.9  2414    ohc    four  122  mpfi  3.31  3.54   8.70   92  4200  27  32   9988\\n175 -1   65         toyota     gas    std  four        sedan  fwd  front  102.4  175.6  66.5  54.9  2414    ohc    four  122  mpfi  3.31  3.54   8.70   92  4200  27  32  10898\\n176 -1   65         toyota     gas    std  four    hatchback  fwd  front  102.4  175.6  66.5  53.9  2458    ohc    four  122  mpfi  3.31  3.54   8.70   92  4200  27  32  11248\\n177  3  197         toyota     gas    std   two    hatchback  rwd  front  102.9  183.5  67.7  52.0  2976   dohc     six  171  mpfi  3.27  3.35   9.30  161  5200  20  24  16558\\n178  3  197         toyota     gas    std   two    hatchback  rwd  front  102.9  183.5  67.7  52.0  3016   dohc     six  171  mpfi  3.27  3.35   9.30  161  5200  19  24  15998\\n179 -1   90         toyota     gas    std  four        sedan  rwd  front  104.5  187.8  66.5  54.1  3131   dohc     six  171  mpfi  3.27  3.35   9.20  156  5200  20  24  15690\\n180 -1    ?         toyota     gas    std  four        wagon  rwd  front  104.5  187.8  66.5  54.1  3151   dohc     six  161  mpfi  3.27  3.35   9.20  156  5200  19  24  15750\\n181  2  122     volkswagen  diesel    std   two        sedan  fwd  front   97.3  171.7  65.5  55.7  2261    ohc    four   97   idi  3.01  3.40  23.00   52  4800  37  46   7775\\n182  2  122     volkswagen     gas    std   two        sedan  fwd  front   97.3  171.7  65.5  55.7  2209    ohc    four  109  mpfi  3.19  3.40   9.00   85  5250  27  34   7975\\n183  2   94     volkswagen  diesel    std  four        sedan  fwd  front   97.3  171.7  65.5  55.7  2264    ohc    four   97   idi  3.01  3.40  23.00   52  4800  37  46   7995\\n184  2   94     volkswagen     gas    std  four        sedan  fwd  front   97.3  171.7  65.5  55.7  2212    ohc    four  109  mpfi  3.19  3.40   9.00   85  5250  27  34   8195\\n185  2   94     volkswagen     gas    std  four        sedan  fwd  front   97.3  171.7  65.5  55.7  2275    ohc    four  109  mpfi  3.19  3.40   9.00   85  5250  27  34   8495\\n186  2   94     volkswagen  diesel  turbo  four        sedan  fwd  front   97.3  171.7  65.5  55.7  2319    ohc    four   97   idi  3.01  3.40  23.00   68  4500  37  42   9495\\n187  2   94     volkswagen     gas    std  four        sedan  fwd  front   97.3  171.7  65.5  55.7  2300    ohc    four  109  mpfi  3.19  3.40  10.00  100  5500  26  32   9995\\n188  3    ?     volkswagen     gas    std   two  convertible  fwd  front   94.5  159.3  64.2  55.6  2254    ohc    four  109  mpfi  3.19  3.40   8.50   90  5500  24  29  11595\\n189  3  256     volkswagen     gas    std   two    hatchback  fwd  front   94.5  165.7  64.0  51.4  2221    ohc    four  109  mpfi  3.19  3.40   8.50   90  5500  24  29   9980\\n190  0    ?     volkswagen     gas    std  four        sedan  fwd  front  100.4  180.2  66.9  55.1  2661    ohc    five  136  mpfi  3.19  3.40   8.50  110  5500  19  24  13295\\n191  0    ?     volkswagen  diesel  turbo  four        sedan  fwd  front  100.4  180.2  66.9  55.1  2579    ohc    four   97   idi  3.01  3.40  23.00   68  4500  33  38  13845\\n192  0    ?     volkswagen     gas    std  four        wagon  fwd  front  100.4  183.1  66.9  55.1  2563    ohc    four  109  mpfi  3.19  3.40   9.00   88  5500  25  31  12290\\n193 -2  103          volvo     gas    std  four        sedan  rwd  front  104.3  188.8  67.2  56.2  2912    ohc    four  141  mpfi  3.78  3.15   9.50  114  5400  23  28  12940\\n194 -1   74          volvo     gas    std  four        wagon  rwd  front  104.3  188.8  67.2  57.5  3034    ohc    four  141  mpfi  3.78  3.15   9.50  114  5400  23  28  13415\\n195 -2  103          volvo     gas    std  four        sedan  rwd  front  104.3  188.8  67.2  56.2  2935    ohc    four  141  mpfi  3.78  3.15   9.50  114  5400  24  28  15985\\n196 -1   74          volvo     gas    std  four        wagon  rwd  front  104.3  188.8  67.2  57.5  3042    ohc    four  141  mpfi  3.78  3.15   9.50  114  5400  24  28  16515\\n197 -2  103          volvo     gas  turbo  four        sedan  rwd  front  104.3  188.8  67.2  56.2  3045    ohc    four  130  mpfi  3.62  3.15   7.50  162  5100  17  22  18420\\n198 -1   74          volvo     gas  turbo  four        wagon  rwd  front  104.3  188.8  67.2  57.5  3157    ohc    four  130  mpfi  3.62  3.15   7.50  162  5100  17  22  18950\\n199 -1   95          volvo     gas    std  four        sedan  rwd  front  109.1  188.8  68.9  55.5  2952    ohc    four  141  mpfi  3.78  3.15   9.50  114  5400  23  28  16845\\n200 -1   95          volvo     gas  turbo  four        sedan  rwd  front  109.1  188.8  68.8  55.5  3049    ohc    four  141  mpfi  3.78  3.15   8.70  160  5300  19  25  19045\\n201 -1   95          volvo     gas    std  four        sedan  rwd  front  109.1  188.8  68.9  55.5  3012   ohcv     six  173  mpfi  3.58  2.87   8.80  134  5500  18  23  21485\\n202 -1   95          volvo  diesel  turbo  four        sedan  rwd  front  109.1  188.8  68.9  55.5  3217    ohc     six  145   idi  3.01  3.40  23.00  106  4800  26  27  22470\\n203 -1   95          volvo     gas  turbo  four        sedan  rwd  front  109.1  188.8  68.9  55.5  3062    ohc    four  141  mpfi  3.78  3.15   9.50  114  5400  19  25  22625'"
      ]
     },
     "execution_count": 1016,
     "metadata": {},
     "output_type": "execute_result"
    }
   ],
   "source": [
    "df.to_string()"
   ]
  },
  {
   "cell_type": "code",
   "execution_count": 1017,
   "id": "e1765aa9",
   "metadata": {},
   "outputs": [],
   "source": [
    "headers = [\"symboling\",\"normalized-losses\",\"make\",\"fuel-type\",\"aspiration\", \"num-of-doors\",\"body-style\",\n",
    "         \"drive-wheels\",\"engine-location\",\"wheel-base\", \"length\",\"width\",\"height\",\"curb-weight\",\"engine-type\",\n",
    "         \"num-of-cylinders\", \"engine-size\",\"fuel-system\",\"bore\",\"stroke\",\"compression-ratio\",\"horsepower\",\n",
    "         \"peak-rpm\",\"city-mpg\",\"highway-mpg\",\"price\"]"
   ]
  },
  {
   "cell_type": "code",
   "execution_count": 1018,
   "id": "90157349",
   "metadata": {},
   "outputs": [],
   "source": [
    "df.columns = headers"
   ]
  },
  {
   "cell_type": "code",
   "execution_count": 1019,
   "id": "81b80375",
   "metadata": {},
   "outputs": [
    {
     "name": "stdout",
     "output_type": "stream",
     "text": [
      "     symboling normalized-losses           make fuel-type aspiration num-of-doors   body-style drive-wheels engine-location  wheel-base  length  width  height  curb-weight engine-type num-of-cylinders  engine-size fuel-system  bore stroke  compression-ratio horsepower peak-rpm  city-mpg  highway-mpg  price\n",
      "0            3                 ?    alfa-romero       gas        std          two  convertible          rwd           front        88.6   168.8   64.1    48.8         2548        dohc             four          130        mpfi  3.47   2.68               9.00        111     5000        21           27  16500\n",
      "1            1                 ?    alfa-romero       gas        std          two    hatchback          rwd           front        94.5   171.2   65.5    52.4         2823        ohcv              six          152        mpfi  2.68   3.47               9.00        154     5000        19           26  16500\n",
      "2            2               164           audi       gas        std         four        sedan          fwd           front        99.8   176.6   66.2    54.3         2337         ohc             four          109        mpfi  3.19   3.40              10.00        102     5500        24           30  13950\n",
      "3            2               164           audi       gas        std         four        sedan          4wd           front        99.4   176.6   66.4    54.3         2824         ohc             five          136        mpfi  3.19   3.40               8.00        115     5500        18           22  17450\n",
      "4            2                 ?           audi       gas        std          two        sedan          fwd           front        99.8   177.3   66.3    53.1         2507         ohc             five          136        mpfi  3.19   3.40               8.50        110     5500        19           25  15250\n",
      "5            1               158           audi       gas        std         four        sedan          fwd           front       105.8   192.7   71.4    55.7         2844         ohc             five          136        mpfi  3.19   3.40               8.50        110     5500        19           25  17710\n",
      "6            1                 ?           audi       gas        std         four        wagon          fwd           front       105.8   192.7   71.4    55.7         2954         ohc             five          136        mpfi  3.19   3.40               8.50        110     5500        19           25  18920\n",
      "7            1               158           audi       gas      turbo         four        sedan          fwd           front       105.8   192.7   71.4    55.9         3086         ohc             five          131        mpfi  3.13   3.40               8.30        140     5500        17           20  23875\n",
      "8            0                 ?           audi       gas      turbo          two    hatchback          4wd           front        99.5   178.2   67.9    52.0         3053         ohc             five          131        mpfi  3.13   3.40               7.00        160     5500        16           22      ?\n",
      "9            2               192            bmw       gas        std          two        sedan          rwd           front       101.2   176.8   64.8    54.3         2395         ohc             four          108        mpfi  3.50   2.80               8.80        101     5800        23           29  16430\n",
      "10           0               192            bmw       gas        std         four        sedan          rwd           front       101.2   176.8   64.8    54.3         2395         ohc             four          108        mpfi  3.50   2.80               8.80        101     5800        23           29  16925\n",
      "11           0               188            bmw       gas        std          two        sedan          rwd           front       101.2   176.8   64.8    54.3         2710         ohc              six          164        mpfi  3.31   3.19               9.00        121     4250        21           28  20970\n",
      "12           0               188            bmw       gas        std         four        sedan          rwd           front       101.2   176.8   64.8    54.3         2765         ohc              six          164        mpfi  3.31   3.19               9.00        121     4250        21           28  21105\n",
      "13           1                 ?            bmw       gas        std         four        sedan          rwd           front       103.5   189.0   66.9    55.7         3055         ohc              six          164        mpfi  3.31   3.19               9.00        121     4250        20           25  24565\n",
      "14           0                 ?            bmw       gas        std         four        sedan          rwd           front       103.5   189.0   66.9    55.7         3230         ohc              six          209        mpfi  3.62   3.39               8.00        182     5400        16           22  30760\n",
      "15           0                 ?            bmw       gas        std          two        sedan          rwd           front       103.5   193.8   67.9    53.7         3380         ohc              six          209        mpfi  3.62   3.39               8.00        182     5400        16           22  41315\n",
      "16           0                 ?            bmw       gas        std         four        sedan          rwd           front       110.0   197.0   70.9    56.3         3505         ohc              six          209        mpfi  3.62   3.39               8.00        182     5400        15           20  36880\n",
      "17           2               121      chevrolet       gas        std          two    hatchback          fwd           front        88.4   141.1   60.3    53.2         1488           l            three           61        2bbl  2.91   3.03               9.50         48     5100        47           53   5151\n",
      "18           1                98      chevrolet       gas        std          two    hatchback          fwd           front        94.5   155.9   63.6    52.0         1874         ohc             four           90        2bbl  3.03   3.11               9.60         70     5400        38           43   6295\n",
      "19           0                81      chevrolet       gas        std         four        sedan          fwd           front        94.5   158.8   63.6    52.0         1909         ohc             four           90        2bbl  3.03   3.11               9.60         70     5400        38           43   6575\n",
      "20           1               118          dodge       gas        std          two    hatchback          fwd           front        93.7   157.3   63.8    50.8         1876         ohc             four           90        2bbl  2.97   3.23               9.41         68     5500        37           41   5572\n",
      "21           1               118          dodge       gas        std          two    hatchback          fwd           front        93.7   157.3   63.8    50.8         1876         ohc             four           90        2bbl  2.97   3.23               9.40         68     5500        31           38   6377\n",
      "22           1               118          dodge       gas      turbo          two    hatchback          fwd           front        93.7   157.3   63.8    50.8         2128         ohc             four           98        mpfi  3.03   3.39               7.60        102     5500        24           30   7957\n",
      "23           1               148          dodge       gas        std         four    hatchback          fwd           front        93.7   157.3   63.8    50.6         1967         ohc             four           90        2bbl  2.97   3.23               9.40         68     5500        31           38   6229\n",
      "24           1               148          dodge       gas        std         four        sedan          fwd           front        93.7   157.3   63.8    50.6         1989         ohc             four           90        2bbl  2.97   3.23               9.40         68     5500        31           38   6692\n",
      "25           1               148          dodge       gas        std         four        sedan          fwd           front        93.7   157.3   63.8    50.6         1989         ohc             four           90        2bbl  2.97   3.23               9.40         68     5500        31           38   7609\n",
      "26           1               148          dodge       gas      turbo            ?        sedan          fwd           front        93.7   157.3   63.8    50.6         2191         ohc             four           98        mpfi  3.03   3.39               7.60        102     5500        24           30   8558\n",
      "27          -1               110          dodge       gas        std         four        wagon          fwd           front       103.3   174.6   64.6    59.8         2535         ohc             four          122        2bbl  3.34   3.46               8.50         88     5000        24           30   8921\n",
      "28           3               145          dodge       gas      turbo          two    hatchback          fwd           front        95.9   173.2   66.3    50.2         2811         ohc             four          156         mfi  3.60   3.90               7.00        145     5000        19           24  12964\n",
      "29           2               137          honda       gas        std          two    hatchback          fwd           front        86.6   144.6   63.9    50.8         1713         ohc             four           92        1bbl  2.91   3.41               9.60         58     4800        49           54   6479\n",
      "30           2               137          honda       gas        std          two    hatchback          fwd           front        86.6   144.6   63.9    50.8         1819         ohc             four           92        1bbl  2.91   3.41               9.20         76     6000        31           38   6855\n",
      "31           1               101          honda       gas        std          two    hatchback          fwd           front        93.7   150.0   64.0    52.6         1837         ohc             four           79        1bbl  2.91   3.07              10.10         60     5500        38           42   5399\n",
      "32           1               101          honda       gas        std          two    hatchback          fwd           front        93.7   150.0   64.0    52.6         1940         ohc             four           92        1bbl  2.91   3.41               9.20         76     6000        30           34   6529\n",
      "33           1               101          honda       gas        std          two    hatchback          fwd           front        93.7   150.0   64.0    52.6         1956         ohc             four           92        1bbl  2.91   3.41               9.20         76     6000        30           34   7129\n",
      "34           0               110          honda       gas        std         four        sedan          fwd           front        96.5   163.4   64.0    54.5         2010         ohc             four           92        1bbl  2.91   3.41               9.20         76     6000        30           34   7295\n",
      "35           0                78          honda       gas        std         four        wagon          fwd           front        96.5   157.1   63.9    58.3         2024         ohc             four           92        1bbl  2.92   3.41               9.20         76     6000        30           34   7295\n",
      "36           0               106          honda       gas        std          two    hatchback          fwd           front        96.5   167.5   65.2    53.3         2236         ohc             four          110        1bbl  3.15   3.58               9.00         86     5800        27           33   7895\n",
      "37           0               106          honda       gas        std          two    hatchback          fwd           front        96.5   167.5   65.2    53.3         2289         ohc             four          110        1bbl  3.15   3.58               9.00         86     5800        27           33   9095\n",
      "38           0                85          honda       gas        std         four        sedan          fwd           front        96.5   175.4   65.2    54.1         2304         ohc             four          110        1bbl  3.15   3.58               9.00         86     5800        27           33   8845\n",
      "39           0                85          honda       gas        std         four        sedan          fwd           front        96.5   175.4   62.5    54.1         2372         ohc             four          110        1bbl  3.15   3.58               9.00         86     5800        27           33  10295\n",
      "40           0                85          honda       gas        std         four        sedan          fwd           front        96.5   175.4   65.2    54.1         2465         ohc             four          110        mpfi  3.15   3.58               9.00        101     5800        24           28  12945\n",
      "41           1               107          honda       gas        std          two        sedan          fwd           front        96.5   169.1   66.0    51.0         2293         ohc             four          110        2bbl  3.15   3.58               9.10        100     5500        25           31  10345\n",
      "42           0                 ?          isuzu       gas        std         four        sedan          rwd           front        94.3   170.7   61.8    53.5         2337         ohc             four          111        2bbl  3.31   3.23               8.50         78     4800        24           29   6785\n",
      "43           1                 ?          isuzu       gas        std          two        sedan          fwd           front        94.5   155.9   63.6    52.0         1874         ohc             four           90        2bbl  3.03   3.11               9.60         70     5400        38           43      ?\n",
      "44           0                 ?          isuzu       gas        std         four        sedan          fwd           front        94.5   155.9   63.6    52.0         1909         ohc             four           90        2bbl  3.03   3.11               9.60         70     5400        38           43      ?\n",
      "45           2                 ?          isuzu       gas        std          two    hatchback          rwd           front        96.0   172.6   65.2    51.4         2734         ohc             four          119        spfi  3.43   3.23               9.20         90     5000        24           29  11048\n",
      "46           0               145         jaguar       gas        std         four        sedan          rwd           front       113.0   199.6   69.6    52.8         4066        dohc              six          258        mpfi  3.63   4.17               8.10        176     4750        15           19  32250\n",
      "47           0                 ?         jaguar       gas        std         four        sedan          rwd           front       113.0   199.6   69.6    52.8         4066        dohc              six          258        mpfi  3.63   4.17               8.10        176     4750        15           19  35550\n",
      "48           0                 ?         jaguar       gas        std          two        sedan          rwd           front       102.0   191.7   70.6    47.8         3950        ohcv           twelve          326        mpfi  3.54   2.76              11.50        262     5000        13           17  36000\n",
      "49           1               104          mazda       gas        std          two    hatchback          fwd           front        93.1   159.1   64.2    54.1         1890         ohc             four           91        2bbl  3.03   3.15               9.00         68     5000        30           31   5195\n",
      "50           1               104          mazda       gas        std          two    hatchback          fwd           front        93.1   159.1   64.2    54.1         1900         ohc             four           91        2bbl  3.03   3.15               9.00         68     5000        31           38   6095\n",
      "51           1               104          mazda       gas        std          two    hatchback          fwd           front        93.1   159.1   64.2    54.1         1905         ohc             four           91        2bbl  3.03   3.15               9.00         68     5000        31           38   6795\n",
      "52           1               113          mazda       gas        std         four        sedan          fwd           front        93.1   166.8   64.2    54.1         1945         ohc             four           91        2bbl  3.03   3.15               9.00         68     5000        31           38   6695\n",
      "53           1               113          mazda       gas        std         four        sedan          fwd           front        93.1   166.8   64.2    54.1         1950         ohc             four           91        2bbl  3.08   3.15               9.00         68     5000        31           38   7395\n",
      "54           3               150          mazda       gas        std          two    hatchback          rwd           front        95.3   169.0   65.7    49.6         2380       rotor              two           70        4bbl     ?      ?               9.40        101     6000        17           23  10945\n",
      "55           3               150          mazda       gas        std          two    hatchback          rwd           front        95.3   169.0   65.7    49.6         2380       rotor              two           70        4bbl     ?      ?               9.40        101     6000        17           23  11845\n",
      "56           3               150          mazda       gas        std          two    hatchback          rwd           front        95.3   169.0   65.7    49.6         2385       rotor              two           70        4bbl     ?      ?               9.40        101     6000        17           23  13645\n",
      "57           3               150          mazda       gas        std          two    hatchback          rwd           front        95.3   169.0   65.7    49.6         2500       rotor              two           80        mpfi     ?      ?               9.40        135     6000        16           23  15645\n",
      "58           1               129          mazda       gas        std          two    hatchback          fwd           front        98.8   177.8   66.5    53.7         2385         ohc             four          122        2bbl  3.39   3.39               8.60         84     4800        26           32   8845\n",
      "59           0               115          mazda       gas        std         four        sedan          fwd           front        98.8   177.8   66.5    55.5         2410         ohc             four          122        2bbl  3.39   3.39               8.60         84     4800        26           32   8495\n",
      "60           1               129          mazda       gas        std          two    hatchback          fwd           front        98.8   177.8   66.5    53.7         2385         ohc             four          122        2bbl  3.39   3.39               8.60         84     4800        26           32  10595\n",
      "61           0               115          mazda       gas        std         four        sedan          fwd           front        98.8   177.8   66.5    55.5         2410         ohc             four          122        2bbl  3.39   3.39               8.60         84     4800        26           32  10245\n",
      "62           0                 ?          mazda    diesel        std            ?        sedan          fwd           front        98.8   177.8   66.5    55.5         2443         ohc             four          122         idi  3.39   3.39              22.70         64     4650        36           42  10795\n",
      "63           0               115          mazda       gas        std         four    hatchback          fwd           front        98.8   177.8   66.5    55.5         2425         ohc             four          122        2bbl  3.39   3.39               8.60         84     4800        26           32  11245\n",
      "64           0               118          mazda       gas        std         four        sedan          rwd           front       104.9   175.0   66.1    54.4         2670         ohc             four          140        mpfi  3.76   3.16               8.00        120     5000        19           27  18280\n",
      "65           0                 ?          mazda    diesel        std         four        sedan          rwd           front       104.9   175.0   66.1    54.4         2700         ohc             four          134         idi  3.43   3.64              22.00         72     4200        31           39  18344\n",
      "66          -1                93  mercedes-benz    diesel      turbo         four        sedan          rwd           front       110.0   190.9   70.3    56.5         3515         ohc             five          183         idi  3.58   3.64              21.50        123     4350        22           25  25552\n",
      "67          -1                93  mercedes-benz    diesel      turbo         four        wagon          rwd           front       110.0   190.9   70.3    58.7         3750         ohc             five          183         idi  3.58   3.64              21.50        123     4350        22           25  28248\n",
      "68           0                93  mercedes-benz    diesel      turbo          two      hardtop          rwd           front       106.7   187.5   70.3    54.9         3495         ohc             five          183         idi  3.58   3.64              21.50        123     4350        22           25  28176\n",
      "69          -1                93  mercedes-benz    diesel      turbo         four        sedan          rwd           front       115.6   202.6   71.7    56.3         3770         ohc             five          183         idi  3.58   3.64              21.50        123     4350        22           25  31600\n",
      "70          -1                 ?  mercedes-benz       gas        std         four        sedan          rwd           front       115.6   202.6   71.7    56.5         3740        ohcv            eight          234        mpfi  3.46   3.10               8.30        155     4750        16           18  34184\n",
      "71           3               142  mercedes-benz       gas        std          two  convertible          rwd           front        96.6   180.3   70.5    50.8         3685        ohcv            eight          234        mpfi  3.46   3.10               8.30        155     4750        16           18  35056\n",
      "72           0                 ?  mercedes-benz       gas        std         four        sedan          rwd           front       120.9   208.1   71.7    56.7         3900        ohcv            eight          308        mpfi  3.80   3.35               8.00        184     4500        14           16  40960\n",
      "73           1                 ?  mercedes-benz       gas        std          two      hardtop          rwd           front       112.0   199.2   72.0    55.4         3715        ohcv            eight          304        mpfi  3.80   3.35               8.00        184     4500        14           16  45400\n",
      "74           1                 ?        mercury       gas      turbo          two    hatchback          rwd           front       102.7   178.4   68.0    54.8         2910         ohc             four          140        mpfi  3.78   3.12               8.00        175     5000        19           24  16503\n",
      "75           2               161     mitsubishi       gas        std          two    hatchback          fwd           front        93.7   157.3   64.4    50.8         1918         ohc             four           92        2bbl  2.97   3.23               9.40         68     5500        37           41   5389\n",
      "76           2               161     mitsubishi       gas        std          two    hatchback          fwd           front        93.7   157.3   64.4    50.8         1944         ohc             four           92        2bbl  2.97   3.23               9.40         68     5500        31           38   6189\n",
      "77           2               161     mitsubishi       gas        std          two    hatchback          fwd           front        93.7   157.3   64.4    50.8         2004         ohc             four           92        2bbl  2.97   3.23               9.40         68     5500        31           38   6669\n",
      "78           1               161     mitsubishi       gas      turbo          two    hatchback          fwd           front        93.0   157.3   63.8    50.8         2145         ohc             four           98        spdi  3.03   3.39               7.60        102     5500        24           30   7689\n",
      "79           3               153     mitsubishi       gas      turbo          two    hatchback          fwd           front        96.3   173.0   65.4    49.4         2370         ohc             four          110        spdi  3.17   3.46               7.50        116     5500        23           30   9959\n",
      "80           3               153     mitsubishi       gas        std          two    hatchback          fwd           front        96.3   173.0   65.4    49.4         2328         ohc             four          122        2bbl  3.35   3.46               8.50         88     5000        25           32   8499\n",
      "81           3                 ?     mitsubishi       gas      turbo          two    hatchback          fwd           front        95.9   173.2   66.3    50.2         2833         ohc             four          156        spdi  3.58   3.86               7.00        145     5000        19           24  12629\n",
      "82           3                 ?     mitsubishi       gas      turbo          two    hatchback          fwd           front        95.9   173.2   66.3    50.2         2921         ohc             four          156        spdi  3.59   3.86               7.00        145     5000        19           24  14869\n",
      "83           3                 ?     mitsubishi       gas      turbo          two    hatchback          fwd           front        95.9   173.2   66.3    50.2         2926         ohc             four          156        spdi  3.59   3.86               7.00        145     5000        19           24  14489\n",
      "84           1               125     mitsubishi       gas        std         four        sedan          fwd           front        96.3   172.4   65.4    51.6         2365         ohc             four          122        2bbl  3.35   3.46               8.50         88     5000        25           32   6989\n",
      "85           1               125     mitsubishi       gas        std         four        sedan          fwd           front        96.3   172.4   65.4    51.6         2405         ohc             four          122        2bbl  3.35   3.46               8.50         88     5000        25           32   8189\n",
      "86           1               125     mitsubishi       gas      turbo         four        sedan          fwd           front        96.3   172.4   65.4    51.6         2403         ohc             four          110        spdi  3.17   3.46               7.50        116     5500        23           30   9279\n",
      "87          -1               137     mitsubishi       gas        std         four        sedan          fwd           front        96.3   172.4   65.4    51.6         2403         ohc             four          110        spdi  3.17   3.46               7.50        116     5500        23           30   9279\n",
      "88           1               128         nissan       gas        std          two        sedan          fwd           front        94.5   165.3   63.8    54.5         1889         ohc             four           97        2bbl  3.15   3.29               9.40         69     5200        31           37   5499\n",
      "89           1               128         nissan    diesel        std          two        sedan          fwd           front        94.5   165.3   63.8    54.5         2017         ohc             four          103         idi  2.99   3.47              21.90         55     4800        45           50   7099\n",
      "90           1               128         nissan       gas        std          two        sedan          fwd           front        94.5   165.3   63.8    54.5         1918         ohc             four           97        2bbl  3.15   3.29               9.40         69     5200        31           37   6649\n",
      "91           1               122         nissan       gas        std         four        sedan          fwd           front        94.5   165.3   63.8    54.5         1938         ohc             four           97        2bbl  3.15   3.29               9.40         69     5200        31           37   6849\n",
      "92           1               103         nissan       gas        std         four        wagon          fwd           front        94.5   170.2   63.8    53.5         2024         ohc             four           97        2bbl  3.15   3.29               9.40         69     5200        31           37   7349\n",
      "93           1               128         nissan       gas        std          two        sedan          fwd           front        94.5   165.3   63.8    54.5         1951         ohc             four           97        2bbl  3.15   3.29               9.40         69     5200        31           37   7299\n",
      "94           1               128         nissan       gas        std          two    hatchback          fwd           front        94.5   165.6   63.8    53.3         2028         ohc             four           97        2bbl  3.15   3.29               9.40         69     5200        31           37   7799\n",
      "95           1               122         nissan       gas        std         four        sedan          fwd           front        94.5   165.3   63.8    54.5         1971         ohc             four           97        2bbl  3.15   3.29               9.40         69     5200        31           37   7499\n",
      "96           1               103         nissan       gas        std         four        wagon          fwd           front        94.5   170.2   63.8    53.5         2037         ohc             four           97        2bbl  3.15   3.29               9.40         69     5200        31           37   7999\n",
      "97           2               168         nissan       gas        std          two      hardtop          fwd           front        95.1   162.4   63.8    53.3         2008         ohc             four           97        2bbl  3.15   3.29               9.40         69     5200        31           37   8249\n",
      "98           0               106         nissan       gas        std         four    hatchback          fwd           front        97.2   173.4   65.2    54.7         2324         ohc             four          120        2bbl  3.33   3.47               8.50         97     5200        27           34   8949\n",
      "99           0               106         nissan       gas        std         four        sedan          fwd           front        97.2   173.4   65.2    54.7         2302         ohc             four          120        2bbl  3.33   3.47               8.50         97     5200        27           34   9549\n",
      "100          0               128         nissan       gas        std         four        sedan          fwd           front       100.4   181.7   66.5    55.1         3095        ohcv              six          181        mpfi  3.43   3.27               9.00        152     5200        17           22  13499\n",
      "101          0               108         nissan       gas        std         four        wagon          fwd           front       100.4   184.6   66.5    56.1         3296        ohcv              six          181        mpfi  3.43   3.27               9.00        152     5200        17           22  14399\n",
      "102          0               108         nissan       gas        std         four        sedan          fwd           front       100.4   184.6   66.5    55.1         3060        ohcv              six          181        mpfi  3.43   3.27               9.00        152     5200        19           25  13499\n",
      "103          3               194         nissan       gas        std          two    hatchback          rwd           front        91.3   170.7   67.9    49.7         3071        ohcv              six          181        mpfi  3.43   3.27               9.00        160     5200        19           25  17199\n",
      "104          3               194         nissan       gas      turbo          two    hatchback          rwd           front        91.3   170.7   67.9    49.7         3139        ohcv              six          181        mpfi  3.43   3.27               7.80        200     5200        17           23  19699\n",
      "105          1               231         nissan       gas        std          two    hatchback          rwd           front        99.2   178.5   67.9    49.7         3139        ohcv              six          181        mpfi  3.43   3.27               9.00        160     5200        19           25  18399\n",
      "106          0               161         peugot       gas        std         four        sedan          rwd           front       107.9   186.7   68.4    56.7         3020           l             four          120        mpfi  3.46   3.19               8.40         97     5000        19           24  11900\n",
      "107          0               161         peugot    diesel      turbo         four        sedan          rwd           front       107.9   186.7   68.4    56.7         3197           l             four          152         idi  3.70   3.52              21.00         95     4150        28           33  13200\n",
      "108          0                 ?         peugot       gas        std         four        wagon          rwd           front       114.2   198.9   68.4    58.7         3230           l             four          120        mpfi  3.46   3.19               8.40         97     5000        19           24  12440\n",
      "109          0                 ?         peugot    diesel      turbo         four        wagon          rwd           front       114.2   198.9   68.4    58.7         3430           l             four          152         idi  3.70   3.52              21.00         95     4150        25           25  13860\n",
      "110          0               161         peugot       gas        std         four        sedan          rwd           front       107.9   186.7   68.4    56.7         3075           l             four          120        mpfi  3.46   2.19               8.40         95     5000        19           24  15580\n",
      "111          0               161         peugot    diesel      turbo         four        sedan          rwd           front       107.9   186.7   68.4    56.7         3252           l             four          152         idi  3.70   3.52              21.00         95     4150        28           33  16900\n",
      "112          0                 ?         peugot       gas        std         four        wagon          rwd           front       114.2   198.9   68.4    56.7         3285           l             four          120        mpfi  3.46   2.19               8.40         95     5000        19           24  16695\n",
      "113          0                 ?         peugot    diesel      turbo         four        wagon          rwd           front       114.2   198.9   68.4    58.7         3485           l             four          152         idi  3.70   3.52              21.00         95     4150        25           25  17075\n",
      "114          0               161         peugot       gas        std         four        sedan          rwd           front       107.9   186.7   68.4    56.7         3075           l             four          120        mpfi  3.46   3.19               8.40         97     5000        19           24  16630\n",
      "115          0               161         peugot    diesel      turbo         four        sedan          rwd           front       107.9   186.7   68.4    56.7         3252           l             four          152         idi  3.70   3.52              21.00         95     4150        28           33  17950\n",
      "116          0               161         peugot       gas      turbo         four        sedan          rwd           front       108.0   186.7   68.3    56.0         3130           l             four          134        mpfi  3.61   3.21               7.00        142     5600        18           24  18150\n",
      "117          1               119       plymouth       gas        std          two    hatchback          fwd           front        93.7   157.3   63.8    50.8         1918         ohc             four           90        2bbl  2.97   3.23               9.40         68     5500        37           41   5572\n",
      "118          1               119       plymouth       gas      turbo          two    hatchback          fwd           front        93.7   157.3   63.8    50.8         2128         ohc             four           98        spdi  3.03   3.39               7.60        102     5500        24           30   7957\n",
      "119          1               154       plymouth       gas        std         four    hatchback          fwd           front        93.7   157.3   63.8    50.6         1967         ohc             four           90        2bbl  2.97   3.23               9.40         68     5500        31           38   6229\n",
      "120          1               154       plymouth       gas        std         four        sedan          fwd           front        93.7   167.3   63.8    50.8         1989         ohc             four           90        2bbl  2.97   3.23               9.40         68     5500        31           38   6692\n",
      "121          1               154       plymouth       gas        std         four        sedan          fwd           front        93.7   167.3   63.8    50.8         2191         ohc             four           98        2bbl  2.97   3.23               9.40         68     5500        31           38   7609\n",
      "122         -1                74       plymouth       gas        std         four        wagon          fwd           front       103.3   174.6   64.6    59.8         2535         ohc             four          122        2bbl  3.35   3.46               8.50         88     5000        24           30   8921\n",
      "123          3                 ?       plymouth       gas      turbo          two    hatchback          rwd           front        95.9   173.2   66.3    50.2         2818         ohc             four          156        spdi  3.59   3.86               7.00        145     5000        19           24  12764\n",
      "124          3               186        porsche       gas        std          two    hatchback          rwd           front        94.5   168.9   68.3    50.2         2778         ohc             four          151        mpfi  3.94   3.11               9.50        143     5500        19           27  22018\n",
      "125          3                 ?        porsche       gas        std          two      hardtop          rwd            rear        89.5   168.9   65.0    51.6         2756        ohcf              six          194        mpfi  3.74   2.90               9.50        207     5900        17           25  32528\n",
      "126          3                 ?        porsche       gas        std          two      hardtop          rwd            rear        89.5   168.9   65.0    51.6         2756        ohcf              six          194        mpfi  3.74   2.90               9.50        207     5900        17           25  34028\n",
      "127          3                 ?        porsche       gas        std          two  convertible          rwd            rear        89.5   168.9   65.0    51.6         2800        ohcf              six          194        mpfi  3.74   2.90               9.50        207     5900        17           25  37028\n",
      "128          1                 ?        porsche       gas        std          two    hatchback          rwd           front        98.4   175.7   72.3    50.5         3366       dohcv            eight          203        mpfi  3.94   3.11              10.00        288     5750        17           28      ?\n",
      "129          0                 ?        renault       gas        std         four        wagon          fwd           front        96.1   181.5   66.5    55.2         2579         ohc             four          132        mpfi  3.46   3.90               8.70          ?        ?        23           31   9295\n",
      "130          2                 ?        renault       gas        std          two    hatchback          fwd           front        96.1   176.8   66.6    50.5         2460         ohc             four          132        mpfi  3.46   3.90               8.70          ?        ?        23           31   9895\n",
      "131          3               150           saab       gas        std          two    hatchback          fwd           front        99.1   186.6   66.5    56.1         2658         ohc             four          121        mpfi  3.54   3.07               9.31        110     5250        21           28  11850\n",
      "132          2               104           saab       gas        std         four        sedan          fwd           front        99.1   186.6   66.5    56.1         2695         ohc             four          121        mpfi  3.54   3.07               9.30        110     5250        21           28  12170\n",
      "133          3               150           saab       gas        std          two    hatchback          fwd           front        99.1   186.6   66.5    56.1         2707         ohc             four          121        mpfi  2.54   2.07               9.30        110     5250        21           28  15040\n",
      "134          2               104           saab       gas        std         four        sedan          fwd           front        99.1   186.6   66.5    56.1         2758         ohc             four          121        mpfi  3.54   3.07               9.30        110     5250        21           28  15510\n",
      "135          3               150           saab       gas      turbo          two    hatchback          fwd           front        99.1   186.6   66.5    56.1         2808        dohc             four          121        mpfi  3.54   3.07               9.00        160     5500        19           26  18150\n",
      "136          2               104           saab       gas      turbo         four        sedan          fwd           front        99.1   186.6   66.5    56.1         2847        dohc             four          121        mpfi  3.54   3.07               9.00        160     5500        19           26  18620\n",
      "137          2                83         subaru       gas        std          two    hatchback          fwd           front        93.7   156.9   63.4    53.7         2050        ohcf             four           97        2bbl  3.62   2.36               9.00         69     4900        31           36   5118\n",
      "138          2                83         subaru       gas        std          two    hatchback          fwd           front        93.7   157.9   63.6    53.7         2120        ohcf             four          108        2bbl  3.62   2.64               8.70         73     4400        26           31   7053\n",
      "139          2                83         subaru       gas        std          two    hatchback          4wd           front        93.3   157.3   63.8    55.7         2240        ohcf             four          108        2bbl  3.62   2.64               8.70         73     4400        26           31   7603\n",
      "140          0               102         subaru       gas        std         four        sedan          fwd           front        97.2   172.0   65.4    52.5         2145        ohcf             four          108        2bbl  3.62   2.64               9.50         82     4800        32           37   7126\n",
      "141          0               102         subaru       gas        std         four        sedan          fwd           front        97.2   172.0   65.4    52.5         2190        ohcf             four          108        2bbl  3.62   2.64               9.50         82     4400        28           33   7775\n",
      "142          0               102         subaru       gas        std         four        sedan          fwd           front        97.2   172.0   65.4    52.5         2340        ohcf             four          108        mpfi  3.62   2.64               9.00         94     5200        26           32   9960\n",
      "143          0               102         subaru       gas        std         four        sedan          4wd           front        97.0   172.0   65.4    54.3         2385        ohcf             four          108        2bbl  3.62   2.64               9.00         82     4800        24           25   9233\n",
      "144          0               102         subaru       gas      turbo         four        sedan          4wd           front        97.0   172.0   65.4    54.3         2510        ohcf             four          108        mpfi  3.62   2.64               7.70        111     4800        24           29  11259\n",
      "145          0                89         subaru       gas        std         four        wagon          fwd           front        97.0   173.5   65.4    53.0         2290        ohcf             four          108        2bbl  3.62   2.64               9.00         82     4800        28           32   7463\n",
      "146          0                89         subaru       gas        std         four        wagon          fwd           front        97.0   173.5   65.4    53.0         2455        ohcf             four          108        mpfi  3.62   2.64               9.00         94     5200        25           31  10198\n",
      "147          0                85         subaru       gas        std         four        wagon          4wd           front        96.9   173.6   65.4    54.9         2420        ohcf             four          108        2bbl  3.62   2.64               9.00         82     4800        23           29   8013\n",
      "148          0                85         subaru       gas      turbo         four        wagon          4wd           front        96.9   173.6   65.4    54.9         2650        ohcf             four          108        mpfi  3.62   2.64               7.70        111     4800        23           23  11694\n",
      "149          1                87         toyota       gas        std          two    hatchback          fwd           front        95.7   158.7   63.6    54.5         1985         ohc             four           92        2bbl  3.05   3.03               9.00         62     4800        35           39   5348\n",
      "150          1                87         toyota       gas        std          two    hatchback          fwd           front        95.7   158.7   63.6    54.5         2040         ohc             four           92        2bbl  3.05   3.03               9.00         62     4800        31           38   6338\n",
      "151          1                74         toyota       gas        std         four    hatchback          fwd           front        95.7   158.7   63.6    54.5         2015         ohc             four           92        2bbl  3.05   3.03               9.00         62     4800        31           38   6488\n",
      "152          0                77         toyota       gas        std         four        wagon          fwd           front        95.7   169.7   63.6    59.1         2280         ohc             four           92        2bbl  3.05   3.03               9.00         62     4800        31           37   6918\n",
      "153          0                81         toyota       gas        std         four        wagon          4wd           front        95.7   169.7   63.6    59.1         2290         ohc             four           92        2bbl  3.05   3.03               9.00         62     4800        27           32   7898\n",
      "154          0                91         toyota       gas        std         four        wagon          4wd           front        95.7   169.7   63.6    59.1         3110         ohc             four           92        2bbl  3.05   3.03               9.00         62     4800        27           32   8778\n",
      "155          0                91         toyota       gas        std         four        sedan          fwd           front        95.7   166.3   64.4    53.0         2081         ohc             four           98        2bbl  3.19   3.03               9.00         70     4800        30           37   6938\n",
      "156          0                91         toyota       gas        std         four    hatchback          fwd           front        95.7   166.3   64.4    52.8         2109         ohc             four           98        2bbl  3.19   3.03               9.00         70     4800        30           37   7198\n",
      "157          0                91         toyota    diesel        std         four        sedan          fwd           front        95.7   166.3   64.4    53.0         2275         ohc             four          110         idi  3.27   3.35              22.50         56     4500        34           36   7898\n",
      "158          0                91         toyota    diesel        std         four    hatchback          fwd           front        95.7   166.3   64.4    52.8         2275         ohc             four          110         idi  3.27   3.35              22.50         56     4500        38           47   7788\n",
      "159          0                91         toyota       gas        std         four        sedan          fwd           front        95.7   166.3   64.4    53.0         2094         ohc             four           98        2bbl  3.19   3.03               9.00         70     4800        38           47   7738\n",
      "160          0                91         toyota       gas        std         four    hatchback          fwd           front        95.7   166.3   64.4    52.8         2122         ohc             four           98        2bbl  3.19   3.03               9.00         70     4800        28           34   8358\n",
      "161          0                91         toyota       gas        std         four        sedan          fwd           front        95.7   166.3   64.4    52.8         2140         ohc             four           98        2bbl  3.19   3.03               9.00         70     4800        28           34   9258\n",
      "162          1               168         toyota       gas        std          two        sedan          rwd           front        94.5   168.7   64.0    52.6         2169         ohc             four           98        2bbl  3.19   3.03               9.00         70     4800        29           34   8058\n",
      "163          1               168         toyota       gas        std          two    hatchback          rwd           front        94.5   168.7   64.0    52.6         2204         ohc             four           98        2bbl  3.19   3.03               9.00         70     4800        29           34   8238\n",
      "164          1               168         toyota       gas        std          two        sedan          rwd           front        94.5   168.7   64.0    52.6         2265        dohc             four           98        mpfi  3.24   3.08               9.40        112     6600        26           29   9298\n",
      "165          1               168         toyota       gas        std          two    hatchback          rwd           front        94.5   168.7   64.0    52.6         2300        dohc             four           98        mpfi  3.24   3.08               9.40        112     6600        26           29   9538\n",
      "166          2               134         toyota       gas        std          two      hardtop          rwd           front        98.4   176.2   65.6    52.0         2540         ohc             four          146        mpfi  3.62   3.50               9.30        116     4800        24           30   8449\n",
      "167          2               134         toyota       gas        std          two      hardtop          rwd           front        98.4   176.2   65.6    52.0         2536         ohc             four          146        mpfi  3.62   3.50               9.30        116     4800        24           30   9639\n",
      "168          2               134         toyota       gas        std          two    hatchback          rwd           front        98.4   176.2   65.6    52.0         2551         ohc             four          146        mpfi  3.62   3.50               9.30        116     4800        24           30   9989\n",
      "169          2               134         toyota       gas        std          two      hardtop          rwd           front        98.4   176.2   65.6    52.0         2679         ohc             four          146        mpfi  3.62   3.50               9.30        116     4800        24           30  11199\n",
      "170          2               134         toyota       gas        std          two    hatchback          rwd           front        98.4   176.2   65.6    52.0         2714         ohc             four          146        mpfi  3.62   3.50               9.30        116     4800        24           30  11549\n",
      "171          2               134         toyota       gas        std          two  convertible          rwd           front        98.4   176.2   65.6    53.0         2975         ohc             four          146        mpfi  3.62   3.50               9.30        116     4800        24           30  17669\n",
      "172         -1                65         toyota       gas        std         four        sedan          fwd           front       102.4   175.6   66.5    54.9         2326         ohc             four          122        mpfi  3.31   3.54               8.70         92     4200        29           34   8948\n",
      "173         -1                65         toyota    diesel      turbo         four        sedan          fwd           front       102.4   175.6   66.5    54.9         2480         ohc             four          110         idi  3.27   3.35              22.50         73     4500        30           33  10698\n",
      "174         -1                65         toyota       gas        std         four    hatchback          fwd           front       102.4   175.6   66.5    53.9         2414         ohc             four          122        mpfi  3.31   3.54               8.70         92     4200        27           32   9988\n",
      "175         -1                65         toyota       gas        std         four        sedan          fwd           front       102.4   175.6   66.5    54.9         2414         ohc             four          122        mpfi  3.31   3.54               8.70         92     4200        27           32  10898\n",
      "176         -1                65         toyota       gas        std         four    hatchback          fwd           front       102.4   175.6   66.5    53.9         2458         ohc             four          122        mpfi  3.31   3.54               8.70         92     4200        27           32  11248\n",
      "177          3               197         toyota       gas        std          two    hatchback          rwd           front       102.9   183.5   67.7    52.0         2976        dohc              six          171        mpfi  3.27   3.35               9.30        161     5200        20           24  16558\n",
      "178          3               197         toyota       gas        std          two    hatchback          rwd           front       102.9   183.5   67.7    52.0         3016        dohc              six          171        mpfi  3.27   3.35               9.30        161     5200        19           24  15998\n",
      "179         -1                90         toyota       gas        std         four        sedan          rwd           front       104.5   187.8   66.5    54.1         3131        dohc              six          171        mpfi  3.27   3.35               9.20        156     5200        20           24  15690\n",
      "180         -1                 ?         toyota       gas        std         four        wagon          rwd           front       104.5   187.8   66.5    54.1         3151        dohc              six          161        mpfi  3.27   3.35               9.20        156     5200        19           24  15750\n",
      "181          2               122     volkswagen    diesel        std          two        sedan          fwd           front        97.3   171.7   65.5    55.7         2261         ohc             four           97         idi  3.01   3.40              23.00         52     4800        37           46   7775\n",
      "182          2               122     volkswagen       gas        std          two        sedan          fwd           front        97.3   171.7   65.5    55.7         2209         ohc             four          109        mpfi  3.19   3.40               9.00         85     5250        27           34   7975\n",
      "183          2                94     volkswagen    diesel        std         four        sedan          fwd           front        97.3   171.7   65.5    55.7         2264         ohc             four           97         idi  3.01   3.40              23.00         52     4800        37           46   7995\n",
      "184          2                94     volkswagen       gas        std         four        sedan          fwd           front        97.3   171.7   65.5    55.7         2212         ohc             four          109        mpfi  3.19   3.40               9.00         85     5250        27           34   8195\n",
      "185          2                94     volkswagen       gas        std         four        sedan          fwd           front        97.3   171.7   65.5    55.7         2275         ohc             four          109        mpfi  3.19   3.40               9.00         85     5250        27           34   8495\n",
      "186          2                94     volkswagen    diesel      turbo         four        sedan          fwd           front        97.3   171.7   65.5    55.7         2319         ohc             four           97         idi  3.01   3.40              23.00         68     4500        37           42   9495\n",
      "187          2                94     volkswagen       gas        std         four        sedan          fwd           front        97.3   171.7   65.5    55.7         2300         ohc             four          109        mpfi  3.19   3.40              10.00        100     5500        26           32   9995\n",
      "188          3                 ?     volkswagen       gas        std          two  convertible          fwd           front        94.5   159.3   64.2    55.6         2254         ohc             four          109        mpfi  3.19   3.40               8.50         90     5500        24           29  11595\n",
      "189          3               256     volkswagen       gas        std          two    hatchback          fwd           front        94.5   165.7   64.0    51.4         2221         ohc             four          109        mpfi  3.19   3.40               8.50         90     5500        24           29   9980\n",
      "190          0                 ?     volkswagen       gas        std         four        sedan          fwd           front       100.4   180.2   66.9    55.1         2661         ohc             five          136        mpfi  3.19   3.40               8.50        110     5500        19           24  13295\n",
      "191          0                 ?     volkswagen    diesel      turbo         four        sedan          fwd           front       100.4   180.2   66.9    55.1         2579         ohc             four           97         idi  3.01   3.40              23.00         68     4500        33           38  13845\n",
      "192          0                 ?     volkswagen       gas        std         four        wagon          fwd           front       100.4   183.1   66.9    55.1         2563         ohc             four          109        mpfi  3.19   3.40               9.00         88     5500        25           31  12290\n",
      "193         -2               103          volvo       gas        std         four        sedan          rwd           front       104.3   188.8   67.2    56.2         2912         ohc             four          141        mpfi  3.78   3.15               9.50        114     5400        23           28  12940\n",
      "194         -1                74          volvo       gas        std         four        wagon          rwd           front       104.3   188.8   67.2    57.5         3034         ohc             four          141        mpfi  3.78   3.15               9.50        114     5400        23           28  13415\n",
      "195         -2               103          volvo       gas        std         four        sedan          rwd           front       104.3   188.8   67.2    56.2         2935         ohc             four          141        mpfi  3.78   3.15               9.50        114     5400        24           28  15985\n",
      "196         -1                74          volvo       gas        std         four        wagon          rwd           front       104.3   188.8   67.2    57.5         3042         ohc             four          141        mpfi  3.78   3.15               9.50        114     5400        24           28  16515\n",
      "197         -2               103          volvo       gas      turbo         four        sedan          rwd           front       104.3   188.8   67.2    56.2         3045         ohc             four          130        mpfi  3.62   3.15               7.50        162     5100        17           22  18420\n",
      "198         -1                74          volvo       gas      turbo         four        wagon          rwd           front       104.3   188.8   67.2    57.5         3157         ohc             four          130        mpfi  3.62   3.15               7.50        162     5100        17           22  18950\n",
      "199         -1                95          volvo       gas        std         four        sedan          rwd           front       109.1   188.8   68.9    55.5         2952         ohc             four          141        mpfi  3.78   3.15               9.50        114     5400        23           28  16845\n",
      "200         -1                95          volvo       gas      turbo         four        sedan          rwd           front       109.1   188.8   68.8    55.5         3049         ohc             four          141        mpfi  3.78   3.15               8.70        160     5300        19           25  19045\n",
      "201         -1                95          volvo       gas        std         four        sedan          rwd           front       109.1   188.8   68.9    55.5         3012        ohcv              six          173        mpfi  3.58   2.87               8.80        134     5500        18           23  21485\n",
      "202         -1                95          volvo    diesel      turbo         four        sedan          rwd           front       109.1   188.8   68.9    55.5         3217         ohc              six          145         idi  3.01   3.40              23.00        106     4800        26           27  22470\n",
      "203         -1                95          volvo       gas      turbo         four        sedan          rwd           front       109.1   188.8   68.9    55.5         3062         ohc             four          141        mpfi  3.78   3.15               9.50        114     5400        19           25  22625\n"
     ]
    }
   ],
   "source": [
    "print(df.to_string())"
   ]
  },
  {
   "cell_type": "code",
   "execution_count": 1020,
   "id": "5a0282b9",
   "metadata": {},
   "outputs": [],
   "source": [
    "# we can see that header is added"
   ]
  },
  {
   "cell_type": "code",
   "execution_count": 1021,
   "id": "63bd739b",
   "metadata": {},
   "outputs": [
    {
     "data": {
      "text/plain": [
       "symboling              int64\n",
       "normalized-losses     object\n",
       "make                  object\n",
       "fuel-type             object\n",
       "aspiration            object\n",
       "num-of-doors          object\n",
       "body-style            object\n",
       "drive-wheels          object\n",
       "engine-location       object\n",
       "wheel-base           float64\n",
       "length               float64\n",
       "width                float64\n",
       "height               float64\n",
       "curb-weight            int64\n",
       "engine-type           object\n",
       "num-of-cylinders      object\n",
       "engine-size            int64\n",
       "fuel-system           object\n",
       "bore                  object\n",
       "stroke                object\n",
       "compression-ratio    float64\n",
       "horsepower            object\n",
       "peak-rpm              object\n",
       "city-mpg               int64\n",
       "highway-mpg            int64\n",
       "price                 object\n",
       "dtype: object"
      ]
     },
     "execution_count": 1021,
     "metadata": {},
     "output_type": "execute_result"
    }
   ],
   "source": [
    "df.dtypes"
   ]
  },
  {
   "cell_type": "markdown",
   "id": "cbaa7e68",
   "metadata": {},
   "source": [
    "# IDENTIFYING THE MISSING VALUES"
   ]
  },
  {
   "cell_type": "code",
   "execution_count": 1022,
   "id": "2c2c37ae",
   "metadata": {
    "scrolled": true
   },
   "outputs": [
    {
     "data": {
      "text/html": [
       "<div>\n",
       "<style scoped>\n",
       "    .dataframe tbody tr th:only-of-type {\n",
       "        vertical-align: middle;\n",
       "    }\n",
       "\n",
       "    .dataframe tbody tr th {\n",
       "        vertical-align: top;\n",
       "    }\n",
       "\n",
       "    .dataframe thead th {\n",
       "        text-align: right;\n",
       "    }\n",
       "</style>\n",
       "<table border=\"1\" class=\"dataframe\">\n",
       "  <thead>\n",
       "    <tr style=\"text-align: right;\">\n",
       "      <th></th>\n",
       "      <th>symboling</th>\n",
       "      <th>normalized-losses</th>\n",
       "      <th>make</th>\n",
       "      <th>fuel-type</th>\n",
       "      <th>aspiration</th>\n",
       "      <th>num-of-doors</th>\n",
       "      <th>body-style</th>\n",
       "      <th>drive-wheels</th>\n",
       "      <th>engine-location</th>\n",
       "      <th>wheel-base</th>\n",
       "      <th>length</th>\n",
       "      <th>width</th>\n",
       "      <th>height</th>\n",
       "      <th>curb-weight</th>\n",
       "      <th>engine-type</th>\n",
       "      <th>num-of-cylinders</th>\n",
       "      <th>engine-size</th>\n",
       "      <th>fuel-system</th>\n",
       "      <th>bore</th>\n",
       "      <th>stroke</th>\n",
       "      <th>compression-ratio</th>\n",
       "      <th>horsepower</th>\n",
       "      <th>peak-rpm</th>\n",
       "      <th>city-mpg</th>\n",
       "      <th>highway-mpg</th>\n",
       "      <th>price</th>\n",
       "    </tr>\n",
       "  </thead>\n",
       "  <tbody>\n",
       "    <tr>\n",
       "      <th>0</th>\n",
       "      <td>3</td>\n",
       "      <td>?</td>\n",
       "      <td>alfa-romero</td>\n",
       "      <td>gas</td>\n",
       "      <td>std</td>\n",
       "      <td>two</td>\n",
       "      <td>convertible</td>\n",
       "      <td>rwd</td>\n",
       "      <td>front</td>\n",
       "      <td>88.6</td>\n",
       "      <td>168.8</td>\n",
       "      <td>64.1</td>\n",
       "      <td>48.8</td>\n",
       "      <td>2548</td>\n",
       "      <td>dohc</td>\n",
       "      <td>four</td>\n",
       "      <td>130</td>\n",
       "      <td>mpfi</td>\n",
       "      <td>3.47</td>\n",
       "      <td>2.68</td>\n",
       "      <td>9.0</td>\n",
       "      <td>111</td>\n",
       "      <td>5000</td>\n",
       "      <td>21</td>\n",
       "      <td>27</td>\n",
       "      <td>16500</td>\n",
       "    </tr>\n",
       "    <tr>\n",
       "      <th>1</th>\n",
       "      <td>1</td>\n",
       "      <td>?</td>\n",
       "      <td>alfa-romero</td>\n",
       "      <td>gas</td>\n",
       "      <td>std</td>\n",
       "      <td>two</td>\n",
       "      <td>hatchback</td>\n",
       "      <td>rwd</td>\n",
       "      <td>front</td>\n",
       "      <td>94.5</td>\n",
       "      <td>171.2</td>\n",
       "      <td>65.5</td>\n",
       "      <td>52.4</td>\n",
       "      <td>2823</td>\n",
       "      <td>ohcv</td>\n",
       "      <td>six</td>\n",
       "      <td>152</td>\n",
       "      <td>mpfi</td>\n",
       "      <td>2.68</td>\n",
       "      <td>3.47</td>\n",
       "      <td>9.0</td>\n",
       "      <td>154</td>\n",
       "      <td>5000</td>\n",
       "      <td>19</td>\n",
       "      <td>26</td>\n",
       "      <td>16500</td>\n",
       "    </tr>\n",
       "    <tr>\n",
       "      <th>2</th>\n",
       "      <td>2</td>\n",
       "      <td>164</td>\n",
       "      <td>audi</td>\n",
       "      <td>gas</td>\n",
       "      <td>std</td>\n",
       "      <td>four</td>\n",
       "      <td>sedan</td>\n",
       "      <td>fwd</td>\n",
       "      <td>front</td>\n",
       "      <td>99.8</td>\n",
       "      <td>176.6</td>\n",
       "      <td>66.2</td>\n",
       "      <td>54.3</td>\n",
       "      <td>2337</td>\n",
       "      <td>ohc</td>\n",
       "      <td>four</td>\n",
       "      <td>109</td>\n",
       "      <td>mpfi</td>\n",
       "      <td>3.19</td>\n",
       "      <td>3.40</td>\n",
       "      <td>10.0</td>\n",
       "      <td>102</td>\n",
       "      <td>5500</td>\n",
       "      <td>24</td>\n",
       "      <td>30</td>\n",
       "      <td>13950</td>\n",
       "    </tr>\n",
       "    <tr>\n",
       "      <th>3</th>\n",
       "      <td>2</td>\n",
       "      <td>164</td>\n",
       "      <td>audi</td>\n",
       "      <td>gas</td>\n",
       "      <td>std</td>\n",
       "      <td>four</td>\n",
       "      <td>sedan</td>\n",
       "      <td>4wd</td>\n",
       "      <td>front</td>\n",
       "      <td>99.4</td>\n",
       "      <td>176.6</td>\n",
       "      <td>66.4</td>\n",
       "      <td>54.3</td>\n",
       "      <td>2824</td>\n",
       "      <td>ohc</td>\n",
       "      <td>five</td>\n",
       "      <td>136</td>\n",
       "      <td>mpfi</td>\n",
       "      <td>3.19</td>\n",
       "      <td>3.40</td>\n",
       "      <td>8.0</td>\n",
       "      <td>115</td>\n",
       "      <td>5500</td>\n",
       "      <td>18</td>\n",
       "      <td>22</td>\n",
       "      <td>17450</td>\n",
       "    </tr>\n",
       "    <tr>\n",
       "      <th>4</th>\n",
       "      <td>2</td>\n",
       "      <td>?</td>\n",
       "      <td>audi</td>\n",
       "      <td>gas</td>\n",
       "      <td>std</td>\n",
       "      <td>two</td>\n",
       "      <td>sedan</td>\n",
       "      <td>fwd</td>\n",
       "      <td>front</td>\n",
       "      <td>99.8</td>\n",
       "      <td>177.3</td>\n",
       "      <td>66.3</td>\n",
       "      <td>53.1</td>\n",
       "      <td>2507</td>\n",
       "      <td>ohc</td>\n",
       "      <td>five</td>\n",
       "      <td>136</td>\n",
       "      <td>mpfi</td>\n",
       "      <td>3.19</td>\n",
       "      <td>3.40</td>\n",
       "      <td>8.5</td>\n",
       "      <td>110</td>\n",
       "      <td>5500</td>\n",
       "      <td>19</td>\n",
       "      <td>25</td>\n",
       "      <td>15250</td>\n",
       "    </tr>\n",
       "  </tbody>\n",
       "</table>\n",
       "</div>"
      ],
      "text/plain": [
       "   symboling normalized-losses         make fuel-type aspiration num-of-doors  \\\n",
       "0          3                 ?  alfa-romero       gas        std          two   \n",
       "1          1                 ?  alfa-romero       gas        std          two   \n",
       "2          2               164         audi       gas        std         four   \n",
       "3          2               164         audi       gas        std         four   \n",
       "4          2                 ?         audi       gas        std          two   \n",
       "\n",
       "    body-style drive-wheels engine-location  wheel-base  length  width  \\\n",
       "0  convertible          rwd           front        88.6   168.8   64.1   \n",
       "1    hatchback          rwd           front        94.5   171.2   65.5   \n",
       "2        sedan          fwd           front        99.8   176.6   66.2   \n",
       "3        sedan          4wd           front        99.4   176.6   66.4   \n",
       "4        sedan          fwd           front        99.8   177.3   66.3   \n",
       "\n",
       "   height  curb-weight engine-type num-of-cylinders  engine-size fuel-system  \\\n",
       "0    48.8         2548        dohc             four          130        mpfi   \n",
       "1    52.4         2823        ohcv              six          152        mpfi   \n",
       "2    54.3         2337         ohc             four          109        mpfi   \n",
       "3    54.3         2824         ohc             five          136        mpfi   \n",
       "4    53.1         2507         ohc             five          136        mpfi   \n",
       "\n",
       "   bore stroke  compression-ratio horsepower peak-rpm  city-mpg  highway-mpg  \\\n",
       "0  3.47   2.68                9.0        111     5000        21           27   \n",
       "1  2.68   3.47                9.0        154     5000        19           26   \n",
       "2  3.19   3.40               10.0        102     5500        24           30   \n",
       "3  3.19   3.40                8.0        115     5500        18           22   \n",
       "4  3.19   3.40                8.5        110     5500        19           25   \n",
       "\n",
       "   price  \n",
       "0  16500  \n",
       "1  16500  \n",
       "2  13950  \n",
       "3  17450  \n",
       "4  15250  "
      ]
     },
     "execution_count": 1022,
     "metadata": {},
     "output_type": "execute_result"
    }
   ],
   "source": [
    "df.head()"
   ]
  },
  {
   "cell_type": "code",
   "execution_count": 1023,
   "id": "ab715c36",
   "metadata": {},
   "outputs": [],
   "source": [
    "# 1. checking to see any abnormalities in the dataframe, we can see '?' characters"
   ]
  },
  {
   "cell_type": "code",
   "execution_count": 1024,
   "id": "06dfb104",
   "metadata": {},
   "outputs": [
    {
     "name": "stdout",
     "output_type": "stream",
     "text": [
      "The no.of occurence of '?' in the dataframe : \n",
      "symboling             0\n",
      "normalized-losses    40\n",
      "make                  0\n",
      "fuel-type             0\n",
      "aspiration            0\n",
      "num-of-doors          2\n",
      "body-style            0\n",
      "drive-wheels          0\n",
      "engine-location       0\n",
      "wheel-base            0\n",
      "length                0\n",
      "width                 0\n",
      "height                0\n",
      "curb-weight           0\n",
      "engine-type           0\n",
      "num-of-cylinders      0\n",
      "engine-size           0\n",
      "fuel-system           0\n",
      "bore                  4\n",
      "stroke                4\n",
      "compression-ratio     0\n",
      "horsepower            2\n",
      "peak-rpm              2\n",
      "city-mpg              0\n",
      "highway-mpg           0\n",
      "price                 4\n",
      "dtype: int64\n"
     ]
    }
   ],
   "source": [
    "print(\"The no.of occurence of '?' in the dataframe : \\n\" + str((df=='?').sum()))"
   ]
  },
  {
   "cell_type": "code",
   "execution_count": 1025,
   "id": "01932275",
   "metadata": {},
   "outputs": [],
   "source": [
    "# understanding the occurances of '?' in a data frame"
   ]
  },
  {
   "cell_type": "code",
   "execution_count": 1026,
   "id": "af9efb8a",
   "metadata": {},
   "outputs": [
    {
     "name": "stdout",
     "output_type": "stream",
     "text": [
      "row indexes of '?' in each column :\n",
      "column 'symboling': []\n",
      "column 'normalized-losses': [0, 1, 4, 6, 8, 13, 14, 15, 16, 42, 43, 44, 45, 47, 48, 62, 65, 70, 72, 73, 74, 81, 82, 83, 108, 109, 112, 113, 123, 125, 126, 127, 128, 129, 130, 180, 188, 190, 191, 192]\n",
      "column 'make': []\n",
      "column 'fuel-type': []\n",
      "column 'aspiration': []\n",
      "column 'num-of-doors': [26, 62]\n",
      "column 'body-style': []\n",
      "column 'drive-wheels': []\n",
      "column 'engine-location': []\n",
      "column 'wheel-base': []\n",
      "column 'length': []\n",
      "column 'width': []\n",
      "column 'height': []\n",
      "column 'curb-weight': []\n",
      "column 'engine-type': []\n",
      "column 'num-of-cylinders': []\n",
      "column 'engine-size': []\n",
      "column 'fuel-system': []\n",
      "column 'bore': [54, 55, 56, 57]\n",
      "column 'stroke': [54, 55, 56, 57]\n",
      "column 'compression-ratio': []\n",
      "column 'horsepower': [129, 130]\n",
      "column 'peak-rpm': [129, 130]\n",
      "column 'city-mpg': []\n",
      "column 'highway-mpg': []\n",
      "column 'price': [8, 43, 44, 128]\n"
     ]
    }
   ],
   "source": [
    "indexes_qsn = {}\n",
    "print(\"row indexes of '?' in each column :\")\n",
    "for column in df.columns:\n",
    "    indexes_qsn[column] = df.index[df[column]=='?']\n",
    "for column,indexes in indexes_qsn.items():\n",
    "    print(f\"column '{column}': {indexes.tolist()}\")"
   ]
  },
  {
   "cell_type": "code",
   "execution_count": 1027,
   "id": "ff11f829",
   "metadata": {},
   "outputs": [],
   "source": [
    "# loacting the missing values"
   ]
  },
  {
   "cell_type": "code",
   "execution_count": 1028,
   "id": "37f86b41",
   "metadata": {},
   "outputs": [],
   "source": [
    "df.replace('?',np.nan,inplace = True)"
   ]
  },
  {
   "cell_type": "code",
   "execution_count": 1029,
   "id": "ece6eeeb",
   "metadata": {},
   "outputs": [],
   "source": [
    "# replacing '?' with NaN (Not a Number)"
   ]
  },
  {
   "cell_type": "code",
   "execution_count": 1030,
   "id": "4d6f5b2f",
   "metadata": {},
   "outputs": [
    {
     "data": {
      "text/plain": [
       "nan"
      ]
     },
     "execution_count": 1030,
     "metadata": {},
     "output_type": "execute_result"
    }
   ],
   "source": [
    "df.loc[26,\"num-of-doors\"]"
   ]
  },
  {
   "cell_type": "code",
   "execution_count": 1031,
   "id": "c9f1a2f4",
   "metadata": {},
   "outputs": [
    {
     "data": {
      "text/html": [
       "<div>\n",
       "<style scoped>\n",
       "    .dataframe tbody tr th:only-of-type {\n",
       "        vertical-align: middle;\n",
       "    }\n",
       "\n",
       "    .dataframe tbody tr th {\n",
       "        vertical-align: top;\n",
       "    }\n",
       "\n",
       "    .dataframe thead th {\n",
       "        text-align: right;\n",
       "    }\n",
       "</style>\n",
       "<table border=\"1\" class=\"dataframe\">\n",
       "  <thead>\n",
       "    <tr style=\"text-align: right;\">\n",
       "      <th></th>\n",
       "      <th>symboling</th>\n",
       "      <th>normalized-losses</th>\n",
       "      <th>make</th>\n",
       "      <th>fuel-type</th>\n",
       "      <th>aspiration</th>\n",
       "      <th>num-of-doors</th>\n",
       "      <th>body-style</th>\n",
       "      <th>drive-wheels</th>\n",
       "      <th>engine-location</th>\n",
       "      <th>wheel-base</th>\n",
       "      <th>length</th>\n",
       "      <th>width</th>\n",
       "      <th>height</th>\n",
       "      <th>curb-weight</th>\n",
       "      <th>engine-type</th>\n",
       "      <th>num-of-cylinders</th>\n",
       "      <th>engine-size</th>\n",
       "      <th>fuel-system</th>\n",
       "      <th>bore</th>\n",
       "      <th>stroke</th>\n",
       "      <th>compression-ratio</th>\n",
       "      <th>horsepower</th>\n",
       "      <th>peak-rpm</th>\n",
       "      <th>city-mpg</th>\n",
       "      <th>highway-mpg</th>\n",
       "      <th>price</th>\n",
       "    </tr>\n",
       "  </thead>\n",
       "  <tbody>\n",
       "    <tr>\n",
       "      <th>0</th>\n",
       "      <td>3</td>\n",
       "      <td>NaN</td>\n",
       "      <td>alfa-romero</td>\n",
       "      <td>gas</td>\n",
       "      <td>std</td>\n",
       "      <td>two</td>\n",
       "      <td>convertible</td>\n",
       "      <td>rwd</td>\n",
       "      <td>front</td>\n",
       "      <td>88.6</td>\n",
       "      <td>168.8</td>\n",
       "      <td>64.1</td>\n",
       "      <td>48.8</td>\n",
       "      <td>2548</td>\n",
       "      <td>dohc</td>\n",
       "      <td>four</td>\n",
       "      <td>130</td>\n",
       "      <td>mpfi</td>\n",
       "      <td>3.47</td>\n",
       "      <td>2.68</td>\n",
       "      <td>9.0</td>\n",
       "      <td>111</td>\n",
       "      <td>5000</td>\n",
       "      <td>21</td>\n",
       "      <td>27</td>\n",
       "      <td>16500</td>\n",
       "    </tr>\n",
       "    <tr>\n",
       "      <th>1</th>\n",
       "      <td>1</td>\n",
       "      <td>NaN</td>\n",
       "      <td>alfa-romero</td>\n",
       "      <td>gas</td>\n",
       "      <td>std</td>\n",
       "      <td>two</td>\n",
       "      <td>hatchback</td>\n",
       "      <td>rwd</td>\n",
       "      <td>front</td>\n",
       "      <td>94.5</td>\n",
       "      <td>171.2</td>\n",
       "      <td>65.5</td>\n",
       "      <td>52.4</td>\n",
       "      <td>2823</td>\n",
       "      <td>ohcv</td>\n",
       "      <td>six</td>\n",
       "      <td>152</td>\n",
       "      <td>mpfi</td>\n",
       "      <td>2.68</td>\n",
       "      <td>3.47</td>\n",
       "      <td>9.0</td>\n",
       "      <td>154</td>\n",
       "      <td>5000</td>\n",
       "      <td>19</td>\n",
       "      <td>26</td>\n",
       "      <td>16500</td>\n",
       "    </tr>\n",
       "    <tr>\n",
       "      <th>2</th>\n",
       "      <td>2</td>\n",
       "      <td>164</td>\n",
       "      <td>audi</td>\n",
       "      <td>gas</td>\n",
       "      <td>std</td>\n",
       "      <td>four</td>\n",
       "      <td>sedan</td>\n",
       "      <td>fwd</td>\n",
       "      <td>front</td>\n",
       "      <td>99.8</td>\n",
       "      <td>176.6</td>\n",
       "      <td>66.2</td>\n",
       "      <td>54.3</td>\n",
       "      <td>2337</td>\n",
       "      <td>ohc</td>\n",
       "      <td>four</td>\n",
       "      <td>109</td>\n",
       "      <td>mpfi</td>\n",
       "      <td>3.19</td>\n",
       "      <td>3.40</td>\n",
       "      <td>10.0</td>\n",
       "      <td>102</td>\n",
       "      <td>5500</td>\n",
       "      <td>24</td>\n",
       "      <td>30</td>\n",
       "      <td>13950</td>\n",
       "    </tr>\n",
       "    <tr>\n",
       "      <th>3</th>\n",
       "      <td>2</td>\n",
       "      <td>164</td>\n",
       "      <td>audi</td>\n",
       "      <td>gas</td>\n",
       "      <td>std</td>\n",
       "      <td>four</td>\n",
       "      <td>sedan</td>\n",
       "      <td>4wd</td>\n",
       "      <td>front</td>\n",
       "      <td>99.4</td>\n",
       "      <td>176.6</td>\n",
       "      <td>66.4</td>\n",
       "      <td>54.3</td>\n",
       "      <td>2824</td>\n",
       "      <td>ohc</td>\n",
       "      <td>five</td>\n",
       "      <td>136</td>\n",
       "      <td>mpfi</td>\n",
       "      <td>3.19</td>\n",
       "      <td>3.40</td>\n",
       "      <td>8.0</td>\n",
       "      <td>115</td>\n",
       "      <td>5500</td>\n",
       "      <td>18</td>\n",
       "      <td>22</td>\n",
       "      <td>17450</td>\n",
       "    </tr>\n",
       "    <tr>\n",
       "      <th>4</th>\n",
       "      <td>2</td>\n",
       "      <td>NaN</td>\n",
       "      <td>audi</td>\n",
       "      <td>gas</td>\n",
       "      <td>std</td>\n",
       "      <td>two</td>\n",
       "      <td>sedan</td>\n",
       "      <td>fwd</td>\n",
       "      <td>front</td>\n",
       "      <td>99.8</td>\n",
       "      <td>177.3</td>\n",
       "      <td>66.3</td>\n",
       "      <td>53.1</td>\n",
       "      <td>2507</td>\n",
       "      <td>ohc</td>\n",
       "      <td>five</td>\n",
       "      <td>136</td>\n",
       "      <td>mpfi</td>\n",
       "      <td>3.19</td>\n",
       "      <td>3.40</td>\n",
       "      <td>8.5</td>\n",
       "      <td>110</td>\n",
       "      <td>5500</td>\n",
       "      <td>19</td>\n",
       "      <td>25</td>\n",
       "      <td>15250</td>\n",
       "    </tr>\n",
       "  </tbody>\n",
       "</table>\n",
       "</div>"
      ],
      "text/plain": [
       "   symboling normalized-losses         make fuel-type aspiration num-of-doors  \\\n",
       "0          3               NaN  alfa-romero       gas        std          two   \n",
       "1          1               NaN  alfa-romero       gas        std          two   \n",
       "2          2               164         audi       gas        std         four   \n",
       "3          2               164         audi       gas        std         four   \n",
       "4          2               NaN         audi       gas        std          two   \n",
       "\n",
       "    body-style drive-wheels engine-location  wheel-base  length  width  \\\n",
       "0  convertible          rwd           front        88.6   168.8   64.1   \n",
       "1    hatchback          rwd           front        94.5   171.2   65.5   \n",
       "2        sedan          fwd           front        99.8   176.6   66.2   \n",
       "3        sedan          4wd           front        99.4   176.6   66.4   \n",
       "4        sedan          fwd           front        99.8   177.3   66.3   \n",
       "\n",
       "   height  curb-weight engine-type num-of-cylinders  engine-size fuel-system  \\\n",
       "0    48.8         2548        dohc             four          130        mpfi   \n",
       "1    52.4         2823        ohcv              six          152        mpfi   \n",
       "2    54.3         2337         ohc             four          109        mpfi   \n",
       "3    54.3         2824         ohc             five          136        mpfi   \n",
       "4    53.1         2507         ohc             five          136        mpfi   \n",
       "\n",
       "   bore stroke  compression-ratio horsepower peak-rpm  city-mpg  highway-mpg  \\\n",
       "0  3.47   2.68                9.0        111     5000        21           27   \n",
       "1  2.68   3.47                9.0        154     5000        19           26   \n",
       "2  3.19   3.40               10.0        102     5500        24           30   \n",
       "3  3.19   3.40                8.0        115     5500        18           22   \n",
       "4  3.19   3.40                8.5        110     5500        19           25   \n",
       "\n",
       "   price  \n",
       "0  16500  \n",
       "1  16500  \n",
       "2  13950  \n",
       "3  17450  \n",
       "4  15250  "
      ]
     },
     "execution_count": 1031,
     "metadata": {},
     "output_type": "execute_result"
    }
   ],
   "source": [
    "df.head(5)"
   ]
  },
  {
   "cell_type": "code",
   "execution_count": 1032,
   "id": "b005f7da",
   "metadata": {},
   "outputs": [],
   "source": [
    "# '?' are replaced with NaN"
   ]
  },
  {
   "cell_type": "code",
   "execution_count": 1033,
   "id": "7f9e5ae6",
   "metadata": {},
   "outputs": [],
   "source": [
    "# 2. checking for further missing values"
   ]
  },
  {
   "cell_type": "code",
   "execution_count": 1034,
   "id": "e62ab308",
   "metadata": {},
   "outputs": [
    {
     "name": "stdout",
     "output_type": "stream",
     "text": [
      " The no.of occurences of missing values in the dataframe : \n",
      "symboling             0\n",
      "normalized-losses    40\n",
      "make                  0\n",
      "fuel-type             0\n",
      "aspiration            0\n",
      "num-of-doors          2\n",
      "body-style            0\n",
      "drive-wheels          0\n",
      "engine-location       0\n",
      "wheel-base            0\n",
      "length                0\n",
      "width                 0\n",
      "height                0\n",
      "curb-weight           0\n",
      "engine-type           0\n",
      "num-of-cylinders      0\n",
      "engine-size           0\n",
      "fuel-system           0\n",
      "bore                  4\n",
      "stroke                4\n",
      "compression-ratio     0\n",
      "horsepower            2\n",
      "peak-rpm              2\n",
      "city-mpg              0\n",
      "highway-mpg           0\n",
      "price                 4\n",
      "dtype: int64\n"
     ]
    }
   ],
   "source": [
    "print(\" The no.of occurences of missing values in the dataframe : \\n\" + str(df.isnull().sum()))"
   ]
  },
  {
   "cell_type": "code",
   "execution_count": 1035,
   "id": "6de4984f",
   "metadata": {},
   "outputs": [
    {
     "data": {
      "text/html": [
       "<div>\n",
       "<style scoped>\n",
       "    .dataframe tbody tr th:only-of-type {\n",
       "        vertical-align: middle;\n",
       "    }\n",
       "\n",
       "    .dataframe tbody tr th {\n",
       "        vertical-align: top;\n",
       "    }\n",
       "\n",
       "    .dataframe thead th {\n",
       "        text-align: right;\n",
       "    }\n",
       "</style>\n",
       "<table border=\"1\" class=\"dataframe\">\n",
       "  <thead>\n",
       "    <tr style=\"text-align: right;\">\n",
       "      <th></th>\n",
       "      <th>symboling</th>\n",
       "      <th>normalized-losses</th>\n",
       "      <th>make</th>\n",
       "      <th>fuel-type</th>\n",
       "      <th>aspiration</th>\n",
       "      <th>num-of-doors</th>\n",
       "      <th>body-style</th>\n",
       "      <th>drive-wheels</th>\n",
       "      <th>engine-location</th>\n",
       "      <th>wheel-base</th>\n",
       "      <th>length</th>\n",
       "      <th>width</th>\n",
       "      <th>height</th>\n",
       "      <th>curb-weight</th>\n",
       "      <th>engine-type</th>\n",
       "      <th>num-of-cylinders</th>\n",
       "      <th>engine-size</th>\n",
       "      <th>fuel-system</th>\n",
       "      <th>bore</th>\n",
       "      <th>stroke</th>\n",
       "      <th>compression-ratio</th>\n",
       "      <th>horsepower</th>\n",
       "      <th>peak-rpm</th>\n",
       "      <th>city-mpg</th>\n",
       "      <th>highway-mpg</th>\n",
       "      <th>price</th>\n",
       "    </tr>\n",
       "  </thead>\n",
       "  <tbody>\n",
       "    <tr>\n",
       "      <th>0</th>\n",
       "      <td>False</td>\n",
       "      <td>True</td>\n",
       "      <td>False</td>\n",
       "      <td>False</td>\n",
       "      <td>False</td>\n",
       "      <td>False</td>\n",
       "      <td>False</td>\n",
       "      <td>False</td>\n",
       "      <td>False</td>\n",
       "      <td>False</td>\n",
       "      <td>False</td>\n",
       "      <td>False</td>\n",
       "      <td>False</td>\n",
       "      <td>False</td>\n",
       "      <td>False</td>\n",
       "      <td>False</td>\n",
       "      <td>False</td>\n",
       "      <td>False</td>\n",
       "      <td>False</td>\n",
       "      <td>False</td>\n",
       "      <td>False</td>\n",
       "      <td>False</td>\n",
       "      <td>False</td>\n",
       "      <td>False</td>\n",
       "      <td>False</td>\n",
       "      <td>False</td>\n",
       "    </tr>\n",
       "    <tr>\n",
       "      <th>1</th>\n",
       "      <td>False</td>\n",
       "      <td>True</td>\n",
       "      <td>False</td>\n",
       "      <td>False</td>\n",
       "      <td>False</td>\n",
       "      <td>False</td>\n",
       "      <td>False</td>\n",
       "      <td>False</td>\n",
       "      <td>False</td>\n",
       "      <td>False</td>\n",
       "      <td>False</td>\n",
       "      <td>False</td>\n",
       "      <td>False</td>\n",
       "      <td>False</td>\n",
       "      <td>False</td>\n",
       "      <td>False</td>\n",
       "      <td>False</td>\n",
       "      <td>False</td>\n",
       "      <td>False</td>\n",
       "      <td>False</td>\n",
       "      <td>False</td>\n",
       "      <td>False</td>\n",
       "      <td>False</td>\n",
       "      <td>False</td>\n",
       "      <td>False</td>\n",
       "      <td>False</td>\n",
       "    </tr>\n",
       "    <tr>\n",
       "      <th>2</th>\n",
       "      <td>False</td>\n",
       "      <td>False</td>\n",
       "      <td>False</td>\n",
       "      <td>False</td>\n",
       "      <td>False</td>\n",
       "      <td>False</td>\n",
       "      <td>False</td>\n",
       "      <td>False</td>\n",
       "      <td>False</td>\n",
       "      <td>False</td>\n",
       "      <td>False</td>\n",
       "      <td>False</td>\n",
       "      <td>False</td>\n",
       "      <td>False</td>\n",
       "      <td>False</td>\n",
       "      <td>False</td>\n",
       "      <td>False</td>\n",
       "      <td>False</td>\n",
       "      <td>False</td>\n",
       "      <td>False</td>\n",
       "      <td>False</td>\n",
       "      <td>False</td>\n",
       "      <td>False</td>\n",
       "      <td>False</td>\n",
       "      <td>False</td>\n",
       "      <td>False</td>\n",
       "    </tr>\n",
       "    <tr>\n",
       "      <th>3</th>\n",
       "      <td>False</td>\n",
       "      <td>False</td>\n",
       "      <td>False</td>\n",
       "      <td>False</td>\n",
       "      <td>False</td>\n",
       "      <td>False</td>\n",
       "      <td>False</td>\n",
       "      <td>False</td>\n",
       "      <td>False</td>\n",
       "      <td>False</td>\n",
       "      <td>False</td>\n",
       "      <td>False</td>\n",
       "      <td>False</td>\n",
       "      <td>False</td>\n",
       "      <td>False</td>\n",
       "      <td>False</td>\n",
       "      <td>False</td>\n",
       "      <td>False</td>\n",
       "      <td>False</td>\n",
       "      <td>False</td>\n",
       "      <td>False</td>\n",
       "      <td>False</td>\n",
       "      <td>False</td>\n",
       "      <td>False</td>\n",
       "      <td>False</td>\n",
       "      <td>False</td>\n",
       "    </tr>\n",
       "    <tr>\n",
       "      <th>4</th>\n",
       "      <td>False</td>\n",
       "      <td>True</td>\n",
       "      <td>False</td>\n",
       "      <td>False</td>\n",
       "      <td>False</td>\n",
       "      <td>False</td>\n",
       "      <td>False</td>\n",
       "      <td>False</td>\n",
       "      <td>False</td>\n",
       "      <td>False</td>\n",
       "      <td>False</td>\n",
       "      <td>False</td>\n",
       "      <td>False</td>\n",
       "      <td>False</td>\n",
       "      <td>False</td>\n",
       "      <td>False</td>\n",
       "      <td>False</td>\n",
       "      <td>False</td>\n",
       "      <td>False</td>\n",
       "      <td>False</td>\n",
       "      <td>False</td>\n",
       "      <td>False</td>\n",
       "      <td>False</td>\n",
       "      <td>False</td>\n",
       "      <td>False</td>\n",
       "      <td>False</td>\n",
       "    </tr>\n",
       "  </tbody>\n",
       "</table>\n",
       "</div>"
      ],
      "text/plain": [
       "   symboling  normalized-losses   make  fuel-type  aspiration  num-of-doors  \\\n",
       "0      False               True  False      False       False         False   \n",
       "1      False               True  False      False       False         False   \n",
       "2      False              False  False      False       False         False   \n",
       "3      False              False  False      False       False         False   \n",
       "4      False               True  False      False       False         False   \n",
       "\n",
       "   body-style  drive-wheels  engine-location  wheel-base  length  width  \\\n",
       "0       False         False            False       False   False  False   \n",
       "1       False         False            False       False   False  False   \n",
       "2       False         False            False       False   False  False   \n",
       "3       False         False            False       False   False  False   \n",
       "4       False         False            False       False   False  False   \n",
       "\n",
       "   height  curb-weight  engine-type  num-of-cylinders  engine-size  \\\n",
       "0   False        False        False             False        False   \n",
       "1   False        False        False             False        False   \n",
       "2   False        False        False             False        False   \n",
       "3   False        False        False             False        False   \n",
       "4   False        False        False             False        False   \n",
       "\n",
       "   fuel-system   bore  stroke  compression-ratio  horsepower  peak-rpm  \\\n",
       "0        False  False   False              False       False     False   \n",
       "1        False  False   False              False       False     False   \n",
       "2        False  False   False              False       False     False   \n",
       "3        False  False   False              False       False     False   \n",
       "4        False  False   False              False       False     False   \n",
       "\n",
       "   city-mpg  highway-mpg  price  \n",
       "0     False        False  False  \n",
       "1     False        False  False  \n",
       "2     False        False  False  \n",
       "3     False        False  False  \n",
       "4     False        False  False  "
      ]
     },
     "execution_count": 1035,
     "metadata": {},
     "output_type": "execute_result"
    }
   ],
   "source": [
    "missing_data = df.isnull()\n",
    "missing_data.head(5)"
   ]
  },
  {
   "cell_type": "code",
   "execution_count": 1036,
   "id": "497e3627",
   "metadata": {},
   "outputs": [],
   "source": [
    "# we can see the following columns are having the missing values :\n",
    "# normalized-losses    40\n",
    "# num-of-doors          2\n",
    "# bore                  4\n",
    "# stroke                4\n",
    "# horsepower            2\n",
    "# peak-rpm              2\n",
    "# price                 4"
   ]
  },
  {
   "cell_type": "markdown",
   "id": "1e11c2bb",
   "metadata": {},
   "source": [
    "### for \"normalised-losses\" column - we use MEAN"
   ]
  },
  {
   "cell_type": "code",
   "execution_count": 1037,
   "id": "cb6698f9",
   "metadata": {},
   "outputs": [],
   "source": [
    "# calcuating mean of \"normalised-losses\" column to replace missing values in that column."
   ]
  },
  {
   "cell_type": "code",
   "execution_count": 1038,
   "id": "027d929e",
   "metadata": {},
   "outputs": [
    {
     "name": "stdout",
     "output_type": "stream",
     "text": [
      "122.0\n"
     ]
    }
   ],
   "source": [
    "avg_nl = df[\"normalized-losses\"].astype(\"float\").mean()\n",
    "print(avg_nl)"
   ]
  },
  {
   "cell_type": "code",
   "execution_count": 1039,
   "id": "953485cd",
   "metadata": {},
   "outputs": [],
   "source": [
    "# we find the mean of \"normalized-losses\" column is 122.0"
   ]
  },
  {
   "cell_type": "code",
   "execution_count": 1040,
   "id": "0ae588a4",
   "metadata": {},
   "outputs": [],
   "source": [
    "# replacing missing values in \"normalised-losses\" column with mean of that column"
   ]
  },
  {
   "cell_type": "code",
   "execution_count": 1041,
   "id": "51dc595e",
   "metadata": {},
   "outputs": [],
   "source": [
    "df[\"normalized-losses\"].replace(np.nan,avg_nl,inplace = True)"
   ]
  },
  {
   "cell_type": "code",
   "execution_count": 1042,
   "id": "07f904c6",
   "metadata": {},
   "outputs": [],
   "source": [
    "# checking if the \"NaN\" is replaced with the mean 122.0"
   ]
  },
  {
   "cell_type": "code",
   "execution_count": 1043,
   "id": "af7f3f49",
   "metadata": {},
   "outputs": [
    {
     "data": {
      "text/plain": [
       "122.0"
      ]
     },
     "execution_count": 1043,
     "metadata": {},
     "output_type": "execute_result"
    }
   ],
   "source": [
    "df.loc[190,\"normalized-losses\"]"
   ]
  },
  {
   "cell_type": "markdown",
   "id": "f0a99ebd",
   "metadata": {},
   "source": [
    "### for \"num-of-doors\" column - we use MODE"
   ]
  },
  {
   "cell_type": "code",
   "execution_count": 1044,
   "id": "69a35b00",
   "metadata": {},
   "outputs": [],
   "source": [
    "# calculating mode "
   ]
  },
  {
   "cell_type": "code",
   "execution_count": 1045,
   "id": "f1007a09",
   "metadata": {},
   "outputs": [
    {
     "name": "stdout",
     "output_type": "stream",
     "text": [
      "0    four\n",
      "Name: num-of-doors, dtype: object\n"
     ]
    }
   ],
   "source": [
    "mode_no_drs = df[\"num-of-doors\"].mode()\n",
    "print(mode_no_drs)"
   ]
  },
  {
   "cell_type": "code",
   "execution_count": 1046,
   "id": "a50c5ff8",
   "metadata": {},
   "outputs": [
    {
     "data": {
      "text/plain": [
       "num-of-doors\n",
       "four    114\n",
       "two      88\n",
       "Name: count, dtype: int64"
      ]
     },
     "execution_count": 1046,
     "metadata": {},
     "output_type": "execute_result"
    }
   ],
   "source": [
    "df['num-of-doors'].value_counts()"
   ]
  },
  {
   "cell_type": "code",
   "execution_count": 1047,
   "id": "b8869a82",
   "metadata": {},
   "outputs": [],
   "source": [
    "# we find that \"four\" is the mode and its index is 0"
   ]
  },
  {
   "cell_type": "code",
   "execution_count": 1048,
   "id": "ffbe0da1",
   "metadata": {},
   "outputs": [],
   "source": [
    "# replacing missing values with mode = \"four\""
   ]
  },
  {
   "cell_type": "code",
   "execution_count": 1049,
   "id": "f5c68107",
   "metadata": {},
   "outputs": [],
   "source": [
    "df[\"num-of-doors\"].replace(np.nan,mode_no_drs[0],inplace = True)"
   ]
  },
  {
   "cell_type": "code",
   "execution_count": 1050,
   "id": "33d3a526",
   "metadata": {},
   "outputs": [
    {
     "data": {
      "text/plain": [
       "'four'"
      ]
     },
     "execution_count": 1050,
     "metadata": {},
     "output_type": "execute_result"
    }
   ],
   "source": [
    "df.loc[26,\"num-of-doors\"]"
   ]
  },
  {
   "cell_type": "markdown",
   "id": "516d21cc",
   "metadata": {},
   "source": [
    "### for \"bore\" column - we use MEAN"
   ]
  },
  {
   "cell_type": "code",
   "execution_count": 1051,
   "id": "28f6a22f",
   "metadata": {},
   "outputs": [],
   "source": [
    "# calculating mean for \"bore\" column"
   ]
  },
  {
   "cell_type": "code",
   "execution_count": 1052,
   "id": "71f4ae62",
   "metadata": {},
   "outputs": [
    {
     "name": "stdout",
     "output_type": "stream",
     "text": [
      "3.33\n"
     ]
    }
   ],
   "source": [
    "avg_bore = df[\"bore\"].astype(float).mean().round(2)\n",
    "print(avg_bore)"
   ]
  },
  {
   "cell_type": "code",
   "execution_count": 1053,
   "id": "f76a186d",
   "metadata": {},
   "outputs": [],
   "source": [
    "# replacing the missing values in the \"bore\" column with mean = 3.33"
   ]
  },
  {
   "cell_type": "code",
   "execution_count": 1054,
   "id": "4a7ce4ac",
   "metadata": {},
   "outputs": [],
   "source": [
    "df[\"bore\"].replace(np.nan,avg_bore,inplace= True)"
   ]
  },
  {
   "cell_type": "code",
   "execution_count": 1055,
   "id": "4aa1dab9",
   "metadata": {},
   "outputs": [],
   "source": [
    "# checking if the missing value is replaced with mean = 3.33"
   ]
  },
  {
   "cell_type": "code",
   "execution_count": 1056,
   "id": "1b13bc07",
   "metadata": {},
   "outputs": [
    {
     "data": {
      "text/plain": [
       "3.33"
      ]
     },
     "execution_count": 1056,
     "metadata": {},
     "output_type": "execute_result"
    }
   ],
   "source": [
    "df.loc[55,\"bore\"]"
   ]
  },
  {
   "cell_type": "code",
   "execution_count": 1057,
   "id": "7bc40828",
   "metadata": {},
   "outputs": [],
   "source": [
    "# we can see that the missing value is replaced with mean"
   ]
  },
  {
   "cell_type": "markdown",
   "id": "115e1667",
   "metadata": {},
   "source": [
    "### for \"stroke\" column -  we use MEAN"
   ]
  },
  {
   "cell_type": "code",
   "execution_count": 1058,
   "id": "fd93e3e8",
   "metadata": {},
   "outputs": [],
   "source": [
    "# calcuating mean for \"stroke\" column"
   ]
  },
  {
   "cell_type": "code",
   "execution_count": 1059,
   "id": "2ce808cd",
   "metadata": {},
   "outputs": [
    {
     "name": "stdout",
     "output_type": "stream",
     "text": [
      "3.26\n"
     ]
    }
   ],
   "source": [
    "avg_stroke = df[\"stroke\"].astype(float).mean().round(2)\n",
    "print(avg_stroke)"
   ]
  },
  {
   "cell_type": "code",
   "execution_count": 1060,
   "id": "eef33ffd",
   "metadata": {},
   "outputs": [],
   "source": [
    "# replacing the missing values in the \"stroke\" column with mean = 3.26"
   ]
  },
  {
   "cell_type": "code",
   "execution_count": 1061,
   "id": "6c5d53aa",
   "metadata": {},
   "outputs": [],
   "source": [
    "df[\"stroke\"].replace(np.nan,avg_stroke,inplace= True)"
   ]
  },
  {
   "cell_type": "code",
   "execution_count": 1062,
   "id": "90c779e0",
   "metadata": {},
   "outputs": [],
   "source": [
    "# checking if the missing value is replaced with 3.26"
   ]
  },
  {
   "cell_type": "code",
   "execution_count": 1063,
   "id": "63fedc97",
   "metadata": {},
   "outputs": [
    {
     "data": {
      "text/plain": [
       "3.26"
      ]
     },
     "execution_count": 1063,
     "metadata": {},
     "output_type": "execute_result"
    }
   ],
   "source": [
    "df.loc[55,\"stroke\"]"
   ]
  },
  {
   "cell_type": "code",
   "execution_count": 1064,
   "id": "6dfac8b5",
   "metadata": {},
   "outputs": [],
   "source": [
    "### for \"horsepower\" column - we use MEAN"
   ]
  },
  {
   "cell_type": "code",
   "execution_count": 1065,
   "id": "114b7185",
   "metadata": {},
   "outputs": [],
   "source": [
    "# calculating mean for \"horsepower\", be reminded that "
   ]
  },
  {
   "cell_type": "code",
   "execution_count": 1066,
   "id": "e661648e",
   "metadata": {},
   "outputs": [
    {
     "name": "stdout",
     "output_type": "stream",
     "text": [
      "104.0\n"
     ]
    }
   ],
   "source": [
    "avg_hp = df[\"horsepower\"].astype(float).mean().round()\n",
    "print(avg_hp)"
   ]
  },
  {
   "cell_type": "code",
   "execution_count": 1067,
   "id": "978deecf",
   "metadata": {},
   "outputs": [],
   "source": [
    "# replacing missing values with mean = 104"
   ]
  },
  {
   "cell_type": "code",
   "execution_count": 1068,
   "id": "84c73388",
   "metadata": {},
   "outputs": [],
   "source": [
    "df[\"horsepower\"].replace(np.nan,avg_hp,inplace=True)"
   ]
  },
  {
   "cell_type": "code",
   "execution_count": 1069,
   "id": "341aa2b8",
   "metadata": {},
   "outputs": [],
   "source": [
    "# checking if the missing value is replaced with mean = 104"
   ]
  },
  {
   "cell_type": "code",
   "execution_count": 1070,
   "id": "2edcad4c",
   "metadata": {},
   "outputs": [
    {
     "data": {
      "text/plain": [
       "104.0"
      ]
     },
     "execution_count": 1070,
     "metadata": {},
     "output_type": "execute_result"
    }
   ],
   "source": [
    "df.loc[129,\"horsepower\"]"
   ]
  },
  {
   "cell_type": "markdown",
   "id": "03c8742e",
   "metadata": {},
   "source": [
    "### for \"peak-rpm\" column - we use MEAN"
   ]
  },
  {
   "cell_type": "code",
   "execution_count": 1071,
   "id": "59dbf3e8",
   "metadata": {},
   "outputs": [],
   "source": [
    "# calculating mean for \"peak-rpm\" column"
   ]
  },
  {
   "cell_type": "code",
   "execution_count": 1072,
   "id": "d5e2789b",
   "metadata": {},
   "outputs": [
    {
     "name": "stdout",
     "output_type": "stream",
     "text": [
      "5126.0\n"
     ]
    }
   ],
   "source": [
    "avg_rpm = df[\"peak-rpm\"].astype(float).mean().round()\n",
    "print(avg_rpm)"
   ]
  },
  {
   "cell_type": "code",
   "execution_count": 1073,
   "id": "61a852e0",
   "metadata": {},
   "outputs": [],
   "source": [
    "#replacing missing values in \"peak-rpm\" column with mean = 5126"
   ]
  },
  {
   "cell_type": "code",
   "execution_count": 1074,
   "id": "aa066ad3",
   "metadata": {},
   "outputs": [],
   "source": [
    "df[\"peak-rpm\"].replace(np.nan,avg_rpm,inplace = True)"
   ]
  },
  {
   "cell_type": "code",
   "execution_count": 1075,
   "id": "2a0606d8",
   "metadata": {},
   "outputs": [],
   "source": [
    "# checking if missing value is replaced with mean = 5126"
   ]
  },
  {
   "cell_type": "code",
   "execution_count": 1076,
   "id": "ff8898fb",
   "metadata": {},
   "outputs": [
    {
     "data": {
      "text/plain": [
       "5126.0"
      ]
     },
     "execution_count": 1076,
     "metadata": {},
     "output_type": "execute_result"
    }
   ],
   "source": [
    "df.loc[129,\"peak-rpm\"]"
   ]
  },
  {
   "cell_type": "markdown",
   "id": "154fa517",
   "metadata": {},
   "source": [
    "### for \"price\" column - we are dropping the 4 rows"
   ]
  },
  {
   "cell_type": "code",
   "execution_count": 1077,
   "id": "36161203",
   "metadata": {},
   "outputs": [],
   "source": [
    "df.dropna(subset = \"price\", axis= 0, inplace =True)"
   ]
  },
  {
   "cell_type": "code",
   "execution_count": 1078,
   "id": "e2c8c118",
   "metadata": {},
   "outputs": [],
   "source": [
    "#checking if the 4 rows are dropped , for which indices are 8,43,44,128"
   ]
  },
  {
   "cell_type": "code",
   "execution_count": 1079,
   "id": "7b50715c",
   "metadata": {},
   "outputs": [
    {
     "data": {
      "text/html": [
       "<div>\n",
       "<style scoped>\n",
       "    .dataframe tbody tr th:only-of-type {\n",
       "        vertical-align: middle;\n",
       "    }\n",
       "\n",
       "    .dataframe tbody tr th {\n",
       "        vertical-align: top;\n",
       "    }\n",
       "\n",
       "    .dataframe thead th {\n",
       "        text-align: right;\n",
       "    }\n",
       "</style>\n",
       "<table border=\"1\" class=\"dataframe\">\n",
       "  <thead>\n",
       "    <tr style=\"text-align: right;\">\n",
       "      <th></th>\n",
       "      <th>symboling</th>\n",
       "      <th>normalized-losses</th>\n",
       "      <th>make</th>\n",
       "      <th>fuel-type</th>\n",
       "      <th>aspiration</th>\n",
       "      <th>num-of-doors</th>\n",
       "      <th>body-style</th>\n",
       "      <th>drive-wheels</th>\n",
       "      <th>engine-location</th>\n",
       "      <th>wheel-base</th>\n",
       "      <th>length</th>\n",
       "      <th>width</th>\n",
       "      <th>height</th>\n",
       "      <th>curb-weight</th>\n",
       "      <th>engine-type</th>\n",
       "      <th>num-of-cylinders</th>\n",
       "      <th>engine-size</th>\n",
       "      <th>fuel-system</th>\n",
       "      <th>bore</th>\n",
       "      <th>stroke</th>\n",
       "      <th>compression-ratio</th>\n",
       "      <th>horsepower</th>\n",
       "      <th>peak-rpm</th>\n",
       "      <th>city-mpg</th>\n",
       "      <th>highway-mpg</th>\n",
       "      <th>price</th>\n",
       "    </tr>\n",
       "  </thead>\n",
       "  <tbody>\n",
       "    <tr>\n",
       "      <th>0</th>\n",
       "      <td>3</td>\n",
       "      <td>122.0</td>\n",
       "      <td>alfa-romero</td>\n",
       "      <td>gas</td>\n",
       "      <td>std</td>\n",
       "      <td>two</td>\n",
       "      <td>convertible</td>\n",
       "      <td>rwd</td>\n",
       "      <td>front</td>\n",
       "      <td>88.6</td>\n",
       "      <td>168.8</td>\n",
       "      <td>64.1</td>\n",
       "      <td>48.8</td>\n",
       "      <td>2548</td>\n",
       "      <td>dohc</td>\n",
       "      <td>four</td>\n",
       "      <td>130</td>\n",
       "      <td>mpfi</td>\n",
       "      <td>3.47</td>\n",
       "      <td>2.68</td>\n",
       "      <td>9.0</td>\n",
       "      <td>111</td>\n",
       "      <td>5000</td>\n",
       "      <td>21</td>\n",
       "      <td>27</td>\n",
       "      <td>16500</td>\n",
       "    </tr>\n",
       "    <tr>\n",
       "      <th>1</th>\n",
       "      <td>1</td>\n",
       "      <td>122.0</td>\n",
       "      <td>alfa-romero</td>\n",
       "      <td>gas</td>\n",
       "      <td>std</td>\n",
       "      <td>two</td>\n",
       "      <td>hatchback</td>\n",
       "      <td>rwd</td>\n",
       "      <td>front</td>\n",
       "      <td>94.5</td>\n",
       "      <td>171.2</td>\n",
       "      <td>65.5</td>\n",
       "      <td>52.4</td>\n",
       "      <td>2823</td>\n",
       "      <td>ohcv</td>\n",
       "      <td>six</td>\n",
       "      <td>152</td>\n",
       "      <td>mpfi</td>\n",
       "      <td>2.68</td>\n",
       "      <td>3.47</td>\n",
       "      <td>9.0</td>\n",
       "      <td>154</td>\n",
       "      <td>5000</td>\n",
       "      <td>19</td>\n",
       "      <td>26</td>\n",
       "      <td>16500</td>\n",
       "    </tr>\n",
       "    <tr>\n",
       "      <th>2</th>\n",
       "      <td>2</td>\n",
       "      <td>164</td>\n",
       "      <td>audi</td>\n",
       "      <td>gas</td>\n",
       "      <td>std</td>\n",
       "      <td>four</td>\n",
       "      <td>sedan</td>\n",
       "      <td>fwd</td>\n",
       "      <td>front</td>\n",
       "      <td>99.8</td>\n",
       "      <td>176.6</td>\n",
       "      <td>66.2</td>\n",
       "      <td>54.3</td>\n",
       "      <td>2337</td>\n",
       "      <td>ohc</td>\n",
       "      <td>four</td>\n",
       "      <td>109</td>\n",
       "      <td>mpfi</td>\n",
       "      <td>3.19</td>\n",
       "      <td>3.40</td>\n",
       "      <td>10.0</td>\n",
       "      <td>102</td>\n",
       "      <td>5500</td>\n",
       "      <td>24</td>\n",
       "      <td>30</td>\n",
       "      <td>13950</td>\n",
       "    </tr>\n",
       "    <tr>\n",
       "      <th>3</th>\n",
       "      <td>2</td>\n",
       "      <td>164</td>\n",
       "      <td>audi</td>\n",
       "      <td>gas</td>\n",
       "      <td>std</td>\n",
       "      <td>four</td>\n",
       "      <td>sedan</td>\n",
       "      <td>4wd</td>\n",
       "      <td>front</td>\n",
       "      <td>99.4</td>\n",
       "      <td>176.6</td>\n",
       "      <td>66.4</td>\n",
       "      <td>54.3</td>\n",
       "      <td>2824</td>\n",
       "      <td>ohc</td>\n",
       "      <td>five</td>\n",
       "      <td>136</td>\n",
       "      <td>mpfi</td>\n",
       "      <td>3.19</td>\n",
       "      <td>3.40</td>\n",
       "      <td>8.0</td>\n",
       "      <td>115</td>\n",
       "      <td>5500</td>\n",
       "      <td>18</td>\n",
       "      <td>22</td>\n",
       "      <td>17450</td>\n",
       "    </tr>\n",
       "    <tr>\n",
       "      <th>4</th>\n",
       "      <td>2</td>\n",
       "      <td>122.0</td>\n",
       "      <td>audi</td>\n",
       "      <td>gas</td>\n",
       "      <td>std</td>\n",
       "      <td>two</td>\n",
       "      <td>sedan</td>\n",
       "      <td>fwd</td>\n",
       "      <td>front</td>\n",
       "      <td>99.8</td>\n",
       "      <td>177.3</td>\n",
       "      <td>66.3</td>\n",
       "      <td>53.1</td>\n",
       "      <td>2507</td>\n",
       "      <td>ohc</td>\n",
       "      <td>five</td>\n",
       "      <td>136</td>\n",
       "      <td>mpfi</td>\n",
       "      <td>3.19</td>\n",
       "      <td>3.40</td>\n",
       "      <td>8.5</td>\n",
       "      <td>110</td>\n",
       "      <td>5500</td>\n",
       "      <td>19</td>\n",
       "      <td>25</td>\n",
       "      <td>15250</td>\n",
       "    </tr>\n",
       "    <tr>\n",
       "      <th>5</th>\n",
       "      <td>1</td>\n",
       "      <td>158</td>\n",
       "      <td>audi</td>\n",
       "      <td>gas</td>\n",
       "      <td>std</td>\n",
       "      <td>four</td>\n",
       "      <td>sedan</td>\n",
       "      <td>fwd</td>\n",
       "      <td>front</td>\n",
       "      <td>105.8</td>\n",
       "      <td>192.7</td>\n",
       "      <td>71.4</td>\n",
       "      <td>55.7</td>\n",
       "      <td>2844</td>\n",
       "      <td>ohc</td>\n",
       "      <td>five</td>\n",
       "      <td>136</td>\n",
       "      <td>mpfi</td>\n",
       "      <td>3.19</td>\n",
       "      <td>3.40</td>\n",
       "      <td>8.5</td>\n",
       "      <td>110</td>\n",
       "      <td>5500</td>\n",
       "      <td>19</td>\n",
       "      <td>25</td>\n",
       "      <td>17710</td>\n",
       "    </tr>\n",
       "    <tr>\n",
       "      <th>6</th>\n",
       "      <td>1</td>\n",
       "      <td>122.0</td>\n",
       "      <td>audi</td>\n",
       "      <td>gas</td>\n",
       "      <td>std</td>\n",
       "      <td>four</td>\n",
       "      <td>wagon</td>\n",
       "      <td>fwd</td>\n",
       "      <td>front</td>\n",
       "      <td>105.8</td>\n",
       "      <td>192.7</td>\n",
       "      <td>71.4</td>\n",
       "      <td>55.7</td>\n",
       "      <td>2954</td>\n",
       "      <td>ohc</td>\n",
       "      <td>five</td>\n",
       "      <td>136</td>\n",
       "      <td>mpfi</td>\n",
       "      <td>3.19</td>\n",
       "      <td>3.40</td>\n",
       "      <td>8.5</td>\n",
       "      <td>110</td>\n",
       "      <td>5500</td>\n",
       "      <td>19</td>\n",
       "      <td>25</td>\n",
       "      <td>18920</td>\n",
       "    </tr>\n",
       "    <tr>\n",
       "      <th>7</th>\n",
       "      <td>1</td>\n",
       "      <td>158</td>\n",
       "      <td>audi</td>\n",
       "      <td>gas</td>\n",
       "      <td>turbo</td>\n",
       "      <td>four</td>\n",
       "      <td>sedan</td>\n",
       "      <td>fwd</td>\n",
       "      <td>front</td>\n",
       "      <td>105.8</td>\n",
       "      <td>192.7</td>\n",
       "      <td>71.4</td>\n",
       "      <td>55.9</td>\n",
       "      <td>3086</td>\n",
       "      <td>ohc</td>\n",
       "      <td>five</td>\n",
       "      <td>131</td>\n",
       "      <td>mpfi</td>\n",
       "      <td>3.13</td>\n",
       "      <td>3.40</td>\n",
       "      <td>8.3</td>\n",
       "      <td>140</td>\n",
       "      <td>5500</td>\n",
       "      <td>17</td>\n",
       "      <td>20</td>\n",
       "      <td>23875</td>\n",
       "    </tr>\n",
       "    <tr>\n",
       "      <th>9</th>\n",
       "      <td>2</td>\n",
       "      <td>192</td>\n",
       "      <td>bmw</td>\n",
       "      <td>gas</td>\n",
       "      <td>std</td>\n",
       "      <td>two</td>\n",
       "      <td>sedan</td>\n",
       "      <td>rwd</td>\n",
       "      <td>front</td>\n",
       "      <td>101.2</td>\n",
       "      <td>176.8</td>\n",
       "      <td>64.8</td>\n",
       "      <td>54.3</td>\n",
       "      <td>2395</td>\n",
       "      <td>ohc</td>\n",
       "      <td>four</td>\n",
       "      <td>108</td>\n",
       "      <td>mpfi</td>\n",
       "      <td>3.50</td>\n",
       "      <td>2.80</td>\n",
       "      <td>8.8</td>\n",
       "      <td>101</td>\n",
       "      <td>5800</td>\n",
       "      <td>23</td>\n",
       "      <td>29</td>\n",
       "      <td>16430</td>\n",
       "    </tr>\n",
       "    <tr>\n",
       "      <th>10</th>\n",
       "      <td>0</td>\n",
       "      <td>192</td>\n",
       "      <td>bmw</td>\n",
       "      <td>gas</td>\n",
       "      <td>std</td>\n",
       "      <td>four</td>\n",
       "      <td>sedan</td>\n",
       "      <td>rwd</td>\n",
       "      <td>front</td>\n",
       "      <td>101.2</td>\n",
       "      <td>176.8</td>\n",
       "      <td>64.8</td>\n",
       "      <td>54.3</td>\n",
       "      <td>2395</td>\n",
       "      <td>ohc</td>\n",
       "      <td>four</td>\n",
       "      <td>108</td>\n",
       "      <td>mpfi</td>\n",
       "      <td>3.50</td>\n",
       "      <td>2.80</td>\n",
       "      <td>8.8</td>\n",
       "      <td>101</td>\n",
       "      <td>5800</td>\n",
       "      <td>23</td>\n",
       "      <td>29</td>\n",
       "      <td>16925</td>\n",
       "    </tr>\n",
       "  </tbody>\n",
       "</table>\n",
       "</div>"
      ],
      "text/plain": [
       "    symboling normalized-losses         make fuel-type aspiration  \\\n",
       "0           3             122.0  alfa-romero       gas        std   \n",
       "1           1             122.0  alfa-romero       gas        std   \n",
       "2           2               164         audi       gas        std   \n",
       "3           2               164         audi       gas        std   \n",
       "4           2             122.0         audi       gas        std   \n",
       "5           1               158         audi       gas        std   \n",
       "6           1             122.0         audi       gas        std   \n",
       "7           1               158         audi       gas      turbo   \n",
       "9           2               192          bmw       gas        std   \n",
       "10          0               192          bmw       gas        std   \n",
       "\n",
       "   num-of-doors   body-style drive-wheels engine-location  wheel-base  length  \\\n",
       "0           two  convertible          rwd           front        88.6   168.8   \n",
       "1           two    hatchback          rwd           front        94.5   171.2   \n",
       "2          four        sedan          fwd           front        99.8   176.6   \n",
       "3          four        sedan          4wd           front        99.4   176.6   \n",
       "4           two        sedan          fwd           front        99.8   177.3   \n",
       "5          four        sedan          fwd           front       105.8   192.7   \n",
       "6          four        wagon          fwd           front       105.8   192.7   \n",
       "7          four        sedan          fwd           front       105.8   192.7   \n",
       "9           two        sedan          rwd           front       101.2   176.8   \n",
       "10         four        sedan          rwd           front       101.2   176.8   \n",
       "\n",
       "    width  height  curb-weight engine-type num-of-cylinders  engine-size  \\\n",
       "0    64.1    48.8         2548        dohc             four          130   \n",
       "1    65.5    52.4         2823        ohcv              six          152   \n",
       "2    66.2    54.3         2337         ohc             four          109   \n",
       "3    66.4    54.3         2824         ohc             five          136   \n",
       "4    66.3    53.1         2507         ohc             five          136   \n",
       "5    71.4    55.7         2844         ohc             five          136   \n",
       "6    71.4    55.7         2954         ohc             five          136   \n",
       "7    71.4    55.9         3086         ohc             five          131   \n",
       "9    64.8    54.3         2395         ohc             four          108   \n",
       "10   64.8    54.3         2395         ohc             four          108   \n",
       "\n",
       "   fuel-system  bore stroke  compression-ratio horsepower peak-rpm  city-mpg  \\\n",
       "0         mpfi  3.47   2.68                9.0        111     5000        21   \n",
       "1         mpfi  2.68   3.47                9.0        154     5000        19   \n",
       "2         mpfi  3.19   3.40               10.0        102     5500        24   \n",
       "3         mpfi  3.19   3.40                8.0        115     5500        18   \n",
       "4         mpfi  3.19   3.40                8.5        110     5500        19   \n",
       "5         mpfi  3.19   3.40                8.5        110     5500        19   \n",
       "6         mpfi  3.19   3.40                8.5        110     5500        19   \n",
       "7         mpfi  3.13   3.40                8.3        140     5500        17   \n",
       "9         mpfi  3.50   2.80                8.8        101     5800        23   \n",
       "10        mpfi  3.50   2.80                8.8        101     5800        23   \n",
       "\n",
       "    highway-mpg  price  \n",
       "0            27  16500  \n",
       "1            26  16500  \n",
       "2            30  13950  \n",
       "3            22  17450  \n",
       "4            25  15250  \n",
       "5            25  17710  \n",
       "6            25  18920  \n",
       "7            20  23875  \n",
       "9            29  16430  \n",
       "10           29  16925  "
      ]
     },
     "execution_count": 1079,
     "metadata": {},
     "output_type": "execute_result"
    }
   ],
   "source": [
    "df.head(10)"
   ]
  },
  {
   "cell_type": "code",
   "execution_count": 1080,
   "id": "36319825",
   "metadata": {},
   "outputs": [],
   "source": [
    "# we can see that row with index 8 has been missing, so we can confirm that rows with null values from \"price\" column are dropped"
   ]
  },
  {
   "cell_type": "code",
   "execution_count": 1081,
   "id": "a896e12b",
   "metadata": {},
   "outputs": [],
   "source": [
    "# re-assigning the indices"
   ]
  },
  {
   "cell_type": "code",
   "execution_count": 1082,
   "id": "7d2865ce",
   "metadata": {},
   "outputs": [],
   "source": [
    "df.reset_index(drop=True,inplace=True)"
   ]
  },
  {
   "cell_type": "code",
   "execution_count": 1083,
   "id": "c393a15b",
   "metadata": {},
   "outputs": [
    {
     "data": {
      "text/html": [
       "<div>\n",
       "<style scoped>\n",
       "    .dataframe tbody tr th:only-of-type {\n",
       "        vertical-align: middle;\n",
       "    }\n",
       "\n",
       "    .dataframe tbody tr th {\n",
       "        vertical-align: top;\n",
       "    }\n",
       "\n",
       "    .dataframe thead th {\n",
       "        text-align: right;\n",
       "    }\n",
       "</style>\n",
       "<table border=\"1\" class=\"dataframe\">\n",
       "  <thead>\n",
       "    <tr style=\"text-align: right;\">\n",
       "      <th></th>\n",
       "      <th>symboling</th>\n",
       "      <th>normalized-losses</th>\n",
       "      <th>make</th>\n",
       "      <th>fuel-type</th>\n",
       "      <th>aspiration</th>\n",
       "      <th>num-of-doors</th>\n",
       "      <th>body-style</th>\n",
       "      <th>drive-wheels</th>\n",
       "      <th>engine-location</th>\n",
       "      <th>wheel-base</th>\n",
       "      <th>length</th>\n",
       "      <th>width</th>\n",
       "      <th>height</th>\n",
       "      <th>curb-weight</th>\n",
       "      <th>engine-type</th>\n",
       "      <th>num-of-cylinders</th>\n",
       "      <th>engine-size</th>\n",
       "      <th>fuel-system</th>\n",
       "      <th>bore</th>\n",
       "      <th>stroke</th>\n",
       "      <th>compression-ratio</th>\n",
       "      <th>horsepower</th>\n",
       "      <th>peak-rpm</th>\n",
       "      <th>city-mpg</th>\n",
       "      <th>highway-mpg</th>\n",
       "      <th>price</th>\n",
       "    </tr>\n",
       "  </thead>\n",
       "  <tbody>\n",
       "    <tr>\n",
       "      <th>0</th>\n",
       "      <td>3</td>\n",
       "      <td>122.0</td>\n",
       "      <td>alfa-romero</td>\n",
       "      <td>gas</td>\n",
       "      <td>std</td>\n",
       "      <td>two</td>\n",
       "      <td>convertible</td>\n",
       "      <td>rwd</td>\n",
       "      <td>front</td>\n",
       "      <td>88.6</td>\n",
       "      <td>168.8</td>\n",
       "      <td>64.1</td>\n",
       "      <td>48.8</td>\n",
       "      <td>2548</td>\n",
       "      <td>dohc</td>\n",
       "      <td>four</td>\n",
       "      <td>130</td>\n",
       "      <td>mpfi</td>\n",
       "      <td>3.47</td>\n",
       "      <td>2.68</td>\n",
       "      <td>9.0</td>\n",
       "      <td>111</td>\n",
       "      <td>5000</td>\n",
       "      <td>21</td>\n",
       "      <td>27</td>\n",
       "      <td>16500</td>\n",
       "    </tr>\n",
       "    <tr>\n",
       "      <th>1</th>\n",
       "      <td>1</td>\n",
       "      <td>122.0</td>\n",
       "      <td>alfa-romero</td>\n",
       "      <td>gas</td>\n",
       "      <td>std</td>\n",
       "      <td>two</td>\n",
       "      <td>hatchback</td>\n",
       "      <td>rwd</td>\n",
       "      <td>front</td>\n",
       "      <td>94.5</td>\n",
       "      <td>171.2</td>\n",
       "      <td>65.5</td>\n",
       "      <td>52.4</td>\n",
       "      <td>2823</td>\n",
       "      <td>ohcv</td>\n",
       "      <td>six</td>\n",
       "      <td>152</td>\n",
       "      <td>mpfi</td>\n",
       "      <td>2.68</td>\n",
       "      <td>3.47</td>\n",
       "      <td>9.0</td>\n",
       "      <td>154</td>\n",
       "      <td>5000</td>\n",
       "      <td>19</td>\n",
       "      <td>26</td>\n",
       "      <td>16500</td>\n",
       "    </tr>\n",
       "    <tr>\n",
       "      <th>2</th>\n",
       "      <td>2</td>\n",
       "      <td>164</td>\n",
       "      <td>audi</td>\n",
       "      <td>gas</td>\n",
       "      <td>std</td>\n",
       "      <td>four</td>\n",
       "      <td>sedan</td>\n",
       "      <td>fwd</td>\n",
       "      <td>front</td>\n",
       "      <td>99.8</td>\n",
       "      <td>176.6</td>\n",
       "      <td>66.2</td>\n",
       "      <td>54.3</td>\n",
       "      <td>2337</td>\n",
       "      <td>ohc</td>\n",
       "      <td>four</td>\n",
       "      <td>109</td>\n",
       "      <td>mpfi</td>\n",
       "      <td>3.19</td>\n",
       "      <td>3.40</td>\n",
       "      <td>10.0</td>\n",
       "      <td>102</td>\n",
       "      <td>5500</td>\n",
       "      <td>24</td>\n",
       "      <td>30</td>\n",
       "      <td>13950</td>\n",
       "    </tr>\n",
       "    <tr>\n",
       "      <th>3</th>\n",
       "      <td>2</td>\n",
       "      <td>164</td>\n",
       "      <td>audi</td>\n",
       "      <td>gas</td>\n",
       "      <td>std</td>\n",
       "      <td>four</td>\n",
       "      <td>sedan</td>\n",
       "      <td>4wd</td>\n",
       "      <td>front</td>\n",
       "      <td>99.4</td>\n",
       "      <td>176.6</td>\n",
       "      <td>66.4</td>\n",
       "      <td>54.3</td>\n",
       "      <td>2824</td>\n",
       "      <td>ohc</td>\n",
       "      <td>five</td>\n",
       "      <td>136</td>\n",
       "      <td>mpfi</td>\n",
       "      <td>3.19</td>\n",
       "      <td>3.40</td>\n",
       "      <td>8.0</td>\n",
       "      <td>115</td>\n",
       "      <td>5500</td>\n",
       "      <td>18</td>\n",
       "      <td>22</td>\n",
       "      <td>17450</td>\n",
       "    </tr>\n",
       "    <tr>\n",
       "      <th>4</th>\n",
       "      <td>2</td>\n",
       "      <td>122.0</td>\n",
       "      <td>audi</td>\n",
       "      <td>gas</td>\n",
       "      <td>std</td>\n",
       "      <td>two</td>\n",
       "      <td>sedan</td>\n",
       "      <td>fwd</td>\n",
       "      <td>front</td>\n",
       "      <td>99.8</td>\n",
       "      <td>177.3</td>\n",
       "      <td>66.3</td>\n",
       "      <td>53.1</td>\n",
       "      <td>2507</td>\n",
       "      <td>ohc</td>\n",
       "      <td>five</td>\n",
       "      <td>136</td>\n",
       "      <td>mpfi</td>\n",
       "      <td>3.19</td>\n",
       "      <td>3.40</td>\n",
       "      <td>8.5</td>\n",
       "      <td>110</td>\n",
       "      <td>5500</td>\n",
       "      <td>19</td>\n",
       "      <td>25</td>\n",
       "      <td>15250</td>\n",
       "    </tr>\n",
       "    <tr>\n",
       "      <th>5</th>\n",
       "      <td>1</td>\n",
       "      <td>158</td>\n",
       "      <td>audi</td>\n",
       "      <td>gas</td>\n",
       "      <td>std</td>\n",
       "      <td>four</td>\n",
       "      <td>sedan</td>\n",
       "      <td>fwd</td>\n",
       "      <td>front</td>\n",
       "      <td>105.8</td>\n",
       "      <td>192.7</td>\n",
       "      <td>71.4</td>\n",
       "      <td>55.7</td>\n",
       "      <td>2844</td>\n",
       "      <td>ohc</td>\n",
       "      <td>five</td>\n",
       "      <td>136</td>\n",
       "      <td>mpfi</td>\n",
       "      <td>3.19</td>\n",
       "      <td>3.40</td>\n",
       "      <td>8.5</td>\n",
       "      <td>110</td>\n",
       "      <td>5500</td>\n",
       "      <td>19</td>\n",
       "      <td>25</td>\n",
       "      <td>17710</td>\n",
       "    </tr>\n",
       "    <tr>\n",
       "      <th>6</th>\n",
       "      <td>1</td>\n",
       "      <td>122.0</td>\n",
       "      <td>audi</td>\n",
       "      <td>gas</td>\n",
       "      <td>std</td>\n",
       "      <td>four</td>\n",
       "      <td>wagon</td>\n",
       "      <td>fwd</td>\n",
       "      <td>front</td>\n",
       "      <td>105.8</td>\n",
       "      <td>192.7</td>\n",
       "      <td>71.4</td>\n",
       "      <td>55.7</td>\n",
       "      <td>2954</td>\n",
       "      <td>ohc</td>\n",
       "      <td>five</td>\n",
       "      <td>136</td>\n",
       "      <td>mpfi</td>\n",
       "      <td>3.19</td>\n",
       "      <td>3.40</td>\n",
       "      <td>8.5</td>\n",
       "      <td>110</td>\n",
       "      <td>5500</td>\n",
       "      <td>19</td>\n",
       "      <td>25</td>\n",
       "      <td>18920</td>\n",
       "    </tr>\n",
       "    <tr>\n",
       "      <th>7</th>\n",
       "      <td>1</td>\n",
       "      <td>158</td>\n",
       "      <td>audi</td>\n",
       "      <td>gas</td>\n",
       "      <td>turbo</td>\n",
       "      <td>four</td>\n",
       "      <td>sedan</td>\n",
       "      <td>fwd</td>\n",
       "      <td>front</td>\n",
       "      <td>105.8</td>\n",
       "      <td>192.7</td>\n",
       "      <td>71.4</td>\n",
       "      <td>55.9</td>\n",
       "      <td>3086</td>\n",
       "      <td>ohc</td>\n",
       "      <td>five</td>\n",
       "      <td>131</td>\n",
       "      <td>mpfi</td>\n",
       "      <td>3.13</td>\n",
       "      <td>3.40</td>\n",
       "      <td>8.3</td>\n",
       "      <td>140</td>\n",
       "      <td>5500</td>\n",
       "      <td>17</td>\n",
       "      <td>20</td>\n",
       "      <td>23875</td>\n",
       "    </tr>\n",
       "    <tr>\n",
       "      <th>8</th>\n",
       "      <td>2</td>\n",
       "      <td>192</td>\n",
       "      <td>bmw</td>\n",
       "      <td>gas</td>\n",
       "      <td>std</td>\n",
       "      <td>two</td>\n",
       "      <td>sedan</td>\n",
       "      <td>rwd</td>\n",
       "      <td>front</td>\n",
       "      <td>101.2</td>\n",
       "      <td>176.8</td>\n",
       "      <td>64.8</td>\n",
       "      <td>54.3</td>\n",
       "      <td>2395</td>\n",
       "      <td>ohc</td>\n",
       "      <td>four</td>\n",
       "      <td>108</td>\n",
       "      <td>mpfi</td>\n",
       "      <td>3.50</td>\n",
       "      <td>2.80</td>\n",
       "      <td>8.8</td>\n",
       "      <td>101</td>\n",
       "      <td>5800</td>\n",
       "      <td>23</td>\n",
       "      <td>29</td>\n",
       "      <td>16430</td>\n",
       "    </tr>\n",
       "    <tr>\n",
       "      <th>9</th>\n",
       "      <td>0</td>\n",
       "      <td>192</td>\n",
       "      <td>bmw</td>\n",
       "      <td>gas</td>\n",
       "      <td>std</td>\n",
       "      <td>four</td>\n",
       "      <td>sedan</td>\n",
       "      <td>rwd</td>\n",
       "      <td>front</td>\n",
       "      <td>101.2</td>\n",
       "      <td>176.8</td>\n",
       "      <td>64.8</td>\n",
       "      <td>54.3</td>\n",
       "      <td>2395</td>\n",
       "      <td>ohc</td>\n",
       "      <td>four</td>\n",
       "      <td>108</td>\n",
       "      <td>mpfi</td>\n",
       "      <td>3.50</td>\n",
       "      <td>2.80</td>\n",
       "      <td>8.8</td>\n",
       "      <td>101</td>\n",
       "      <td>5800</td>\n",
       "      <td>23</td>\n",
       "      <td>29</td>\n",
       "      <td>16925</td>\n",
       "    </tr>\n",
       "  </tbody>\n",
       "</table>\n",
       "</div>"
      ],
      "text/plain": [
       "   symboling normalized-losses         make fuel-type aspiration num-of-doors  \\\n",
       "0          3             122.0  alfa-romero       gas        std          two   \n",
       "1          1             122.0  alfa-romero       gas        std          two   \n",
       "2          2               164         audi       gas        std         four   \n",
       "3          2               164         audi       gas        std         four   \n",
       "4          2             122.0         audi       gas        std          two   \n",
       "5          1               158         audi       gas        std         four   \n",
       "6          1             122.0         audi       gas        std         four   \n",
       "7          1               158         audi       gas      turbo         four   \n",
       "8          2               192          bmw       gas        std          two   \n",
       "9          0               192          bmw       gas        std         four   \n",
       "\n",
       "    body-style drive-wheels engine-location  wheel-base  length  width  \\\n",
       "0  convertible          rwd           front        88.6   168.8   64.1   \n",
       "1    hatchback          rwd           front        94.5   171.2   65.5   \n",
       "2        sedan          fwd           front        99.8   176.6   66.2   \n",
       "3        sedan          4wd           front        99.4   176.6   66.4   \n",
       "4        sedan          fwd           front        99.8   177.3   66.3   \n",
       "5        sedan          fwd           front       105.8   192.7   71.4   \n",
       "6        wagon          fwd           front       105.8   192.7   71.4   \n",
       "7        sedan          fwd           front       105.8   192.7   71.4   \n",
       "8        sedan          rwd           front       101.2   176.8   64.8   \n",
       "9        sedan          rwd           front       101.2   176.8   64.8   \n",
       "\n",
       "   height  curb-weight engine-type num-of-cylinders  engine-size fuel-system  \\\n",
       "0    48.8         2548        dohc             four          130        mpfi   \n",
       "1    52.4         2823        ohcv              six          152        mpfi   \n",
       "2    54.3         2337         ohc             four          109        mpfi   \n",
       "3    54.3         2824         ohc             five          136        mpfi   \n",
       "4    53.1         2507         ohc             five          136        mpfi   \n",
       "5    55.7         2844         ohc             five          136        mpfi   \n",
       "6    55.7         2954         ohc             five          136        mpfi   \n",
       "7    55.9         3086         ohc             five          131        mpfi   \n",
       "8    54.3         2395         ohc             four          108        mpfi   \n",
       "9    54.3         2395         ohc             four          108        mpfi   \n",
       "\n",
       "   bore stroke  compression-ratio horsepower peak-rpm  city-mpg  highway-mpg  \\\n",
       "0  3.47   2.68                9.0        111     5000        21           27   \n",
       "1  2.68   3.47                9.0        154     5000        19           26   \n",
       "2  3.19   3.40               10.0        102     5500        24           30   \n",
       "3  3.19   3.40                8.0        115     5500        18           22   \n",
       "4  3.19   3.40                8.5        110     5500        19           25   \n",
       "5  3.19   3.40                8.5        110     5500        19           25   \n",
       "6  3.19   3.40                8.5        110     5500        19           25   \n",
       "7  3.13   3.40                8.3        140     5500        17           20   \n",
       "8  3.50   2.80                8.8        101     5800        23           29   \n",
       "9  3.50   2.80                8.8        101     5800        23           29   \n",
       "\n",
       "   price  \n",
       "0  16500  \n",
       "1  16500  \n",
       "2  13950  \n",
       "3  17450  \n",
       "4  15250  \n",
       "5  17710  \n",
       "6  18920  \n",
       "7  23875  \n",
       "8  16430  \n",
       "9  16925  "
      ]
     },
     "execution_count": 1083,
     "metadata": {},
     "output_type": "execute_result"
    }
   ],
   "source": [
    "df.head(10)"
   ]
  },
  {
   "cell_type": "code",
   "execution_count": 1084,
   "id": "eea9e15f",
   "metadata": {},
   "outputs": [],
   "source": [
    "# we can see that indices are re-arranged"
   ]
  },
  {
   "cell_type": "code",
   "execution_count": 1085,
   "id": "19417e44",
   "metadata": {},
   "outputs": [],
   "source": [
    "#lets check if there are any missing values further"
   ]
  },
  {
   "cell_type": "code",
   "execution_count": 1086,
   "id": "b50675d1",
   "metadata": {},
   "outputs": [
    {
     "name": "stdout",
     "output_type": "stream",
     "text": [
      "The no.of occurence of missing values in dataframe: \n",
      "symboling            0\n",
      "normalized-losses    0\n",
      "make                 0\n",
      "fuel-type            0\n",
      "aspiration           0\n",
      "num-of-doors         0\n",
      "body-style           0\n",
      "drive-wheels         0\n",
      "engine-location      0\n",
      "wheel-base           0\n",
      "length               0\n",
      "width                0\n",
      "height               0\n",
      "curb-weight          0\n",
      "engine-type          0\n",
      "num-of-cylinders     0\n",
      "engine-size          0\n",
      "fuel-system          0\n",
      "bore                 0\n",
      "stroke               0\n",
      "compression-ratio    0\n",
      "horsepower           0\n",
      "peak-rpm             0\n",
      "city-mpg             0\n",
      "highway-mpg          0\n",
      "price                0\n",
      "dtype: int64\n"
     ]
    }
   ],
   "source": [
    "print(\"The no.of occurence of missing values in dataframe: \\n\" + str(df.isnull().sum()))"
   ]
  },
  {
   "cell_type": "markdown",
   "id": "724385a4",
   "metadata": {},
   "source": [
    "# DATA FORMATTING"
   ]
  },
  {
   "cell_type": "code",
   "execution_count": 1087,
   "id": "c4d5b469",
   "metadata": {},
   "outputs": [],
   "source": [
    "# understanding the datatype of all the columns in dataframe"
   ]
  },
  {
   "cell_type": "code",
   "execution_count": 1088,
   "id": "ac4d4819",
   "metadata": {},
   "outputs": [
    {
     "data": {
      "text/plain": [
       "symboling              int64\n",
       "normalized-losses     object\n",
       "make                  object\n",
       "fuel-type             object\n",
       "aspiration            object\n",
       "num-of-doors          object\n",
       "body-style            object\n",
       "drive-wheels          object\n",
       "engine-location       object\n",
       "wheel-base           float64\n",
       "length               float64\n",
       "width                float64\n",
       "height               float64\n",
       "curb-weight            int64\n",
       "engine-type           object\n",
       "num-of-cylinders      object\n",
       "engine-size            int64\n",
       "fuel-system           object\n",
       "bore                  object\n",
       "stroke                object\n",
       "compression-ratio    float64\n",
       "horsepower            object\n",
       "peak-rpm              object\n",
       "city-mpg               int64\n",
       "highway-mpg            int64\n",
       "price                 object\n",
       "dtype: object"
      ]
     },
     "execution_count": 1088,
     "metadata": {},
     "output_type": "execute_result"
    }
   ],
   "source": [
    "df.dtypes"
   ]
  },
  {
   "cell_type": "code",
   "execution_count": 1089,
   "id": "8f337cdc",
   "metadata": {},
   "outputs": [
    {
     "data": {
      "text/html": [
       "<div>\n",
       "<style scoped>\n",
       "    .dataframe tbody tr th:only-of-type {\n",
       "        vertical-align: middle;\n",
       "    }\n",
       "\n",
       "    .dataframe tbody tr th {\n",
       "        vertical-align: top;\n",
       "    }\n",
       "\n",
       "    .dataframe thead th {\n",
       "        text-align: right;\n",
       "    }\n",
       "</style>\n",
       "<table border=\"1\" class=\"dataframe\">\n",
       "  <thead>\n",
       "    <tr style=\"text-align: right;\">\n",
       "      <th></th>\n",
       "      <th>symboling</th>\n",
       "      <th>normalized-losses</th>\n",
       "      <th>make</th>\n",
       "      <th>fuel-type</th>\n",
       "      <th>aspiration</th>\n",
       "      <th>num-of-doors</th>\n",
       "      <th>body-style</th>\n",
       "      <th>drive-wheels</th>\n",
       "      <th>engine-location</th>\n",
       "      <th>wheel-base</th>\n",
       "      <th>length</th>\n",
       "      <th>width</th>\n",
       "      <th>height</th>\n",
       "      <th>curb-weight</th>\n",
       "      <th>engine-type</th>\n",
       "      <th>num-of-cylinders</th>\n",
       "      <th>engine-size</th>\n",
       "      <th>fuel-system</th>\n",
       "      <th>bore</th>\n",
       "      <th>stroke</th>\n",
       "      <th>compression-ratio</th>\n",
       "      <th>horsepower</th>\n",
       "      <th>peak-rpm</th>\n",
       "      <th>city-mpg</th>\n",
       "      <th>highway-mpg</th>\n",
       "      <th>price</th>\n",
       "    </tr>\n",
       "  </thead>\n",
       "  <tbody>\n",
       "    <tr>\n",
       "      <th>0</th>\n",
       "      <td>3</td>\n",
       "      <td>122.0</td>\n",
       "      <td>alfa-romero</td>\n",
       "      <td>gas</td>\n",
       "      <td>std</td>\n",
       "      <td>two</td>\n",
       "      <td>convertible</td>\n",
       "      <td>rwd</td>\n",
       "      <td>front</td>\n",
       "      <td>88.6</td>\n",
       "      <td>168.8</td>\n",
       "      <td>64.1</td>\n",
       "      <td>48.8</td>\n",
       "      <td>2548</td>\n",
       "      <td>dohc</td>\n",
       "      <td>four</td>\n",
       "      <td>130</td>\n",
       "      <td>mpfi</td>\n",
       "      <td>3.47</td>\n",
       "      <td>2.68</td>\n",
       "      <td>9.0</td>\n",
       "      <td>111</td>\n",
       "      <td>5000</td>\n",
       "      <td>21</td>\n",
       "      <td>27</td>\n",
       "      <td>16500</td>\n",
       "    </tr>\n",
       "    <tr>\n",
       "      <th>1</th>\n",
       "      <td>1</td>\n",
       "      <td>122.0</td>\n",
       "      <td>alfa-romero</td>\n",
       "      <td>gas</td>\n",
       "      <td>std</td>\n",
       "      <td>two</td>\n",
       "      <td>hatchback</td>\n",
       "      <td>rwd</td>\n",
       "      <td>front</td>\n",
       "      <td>94.5</td>\n",
       "      <td>171.2</td>\n",
       "      <td>65.5</td>\n",
       "      <td>52.4</td>\n",
       "      <td>2823</td>\n",
       "      <td>ohcv</td>\n",
       "      <td>six</td>\n",
       "      <td>152</td>\n",
       "      <td>mpfi</td>\n",
       "      <td>2.68</td>\n",
       "      <td>3.47</td>\n",
       "      <td>9.0</td>\n",
       "      <td>154</td>\n",
       "      <td>5000</td>\n",
       "      <td>19</td>\n",
       "      <td>26</td>\n",
       "      <td>16500</td>\n",
       "    </tr>\n",
       "  </tbody>\n",
       "</table>\n",
       "</div>"
      ],
      "text/plain": [
       "   symboling normalized-losses         make fuel-type aspiration num-of-doors  \\\n",
       "0          3             122.0  alfa-romero       gas        std          two   \n",
       "1          1             122.0  alfa-romero       gas        std          two   \n",
       "\n",
       "    body-style drive-wheels engine-location  wheel-base  length  width  \\\n",
       "0  convertible          rwd           front        88.6   168.8   64.1   \n",
       "1    hatchback          rwd           front        94.5   171.2   65.5   \n",
       "\n",
       "   height  curb-weight engine-type num-of-cylinders  engine-size fuel-system  \\\n",
       "0    48.8         2548        dohc             four          130        mpfi   \n",
       "1    52.4         2823        ohcv              six          152        mpfi   \n",
       "\n",
       "   bore stroke  compression-ratio horsepower peak-rpm  city-mpg  highway-mpg  \\\n",
       "0  3.47   2.68                9.0        111     5000        21           27   \n",
       "1  2.68   3.47                9.0        154     5000        19           26   \n",
       "\n",
       "   price  \n",
       "0  16500  \n",
       "1  16500  "
      ]
     },
     "execution_count": 1089,
     "metadata": {},
     "output_type": "execute_result"
    }
   ],
   "source": [
    "pd.set_option('display.max_columns', None)\n",
    "df.head(2)"
   ]
  },
  {
   "cell_type": "code",
   "execution_count": 1090,
   "id": "60cf7b43",
   "metadata": {},
   "outputs": [],
   "source": [
    "# changing the datatype of the below columns"
   ]
  },
  {
   "cell_type": "code",
   "execution_count": 1091,
   "id": "37c3173b",
   "metadata": {},
   "outputs": [],
   "source": [
    "df[[\"normalized-losses\",\"horsepower\",\"peak-rpm\",\"price\"]] = df[[\"normalized-losses\",\"horsepower\",\"peak-rpm\",\"price\"]].astype(\"int\")"
   ]
  },
  {
   "cell_type": "code",
   "execution_count": 1092,
   "id": "f71e342a",
   "metadata": {},
   "outputs": [],
   "source": [
    "df[[\"bore\",\"stroke\"]]=df[[\"bore\",\"stroke\"]].astype(\"float\")"
   ]
  },
  {
   "cell_type": "code",
   "execution_count": 1093,
   "id": "1bc71e20",
   "metadata": {},
   "outputs": [],
   "source": [
    "# checking if the datatypes are updated"
   ]
  },
  {
   "cell_type": "code",
   "execution_count": 1094,
   "id": "7e8dd659",
   "metadata": {},
   "outputs": [
    {
     "data": {
      "text/plain": [
       "symboling              int64\n",
       "normalized-losses      int32\n",
       "make                  object\n",
       "fuel-type             object\n",
       "aspiration            object\n",
       "num-of-doors          object\n",
       "body-style            object\n",
       "drive-wheels          object\n",
       "engine-location       object\n",
       "wheel-base           float64\n",
       "length               float64\n",
       "width                float64\n",
       "height               float64\n",
       "curb-weight            int64\n",
       "engine-type           object\n",
       "num-of-cylinders      object\n",
       "engine-size            int64\n",
       "fuel-system           object\n",
       "bore                 float64\n",
       "stroke               float64\n",
       "compression-ratio    float64\n",
       "horsepower             int32\n",
       "peak-rpm               int32\n",
       "city-mpg               int64\n",
       "highway-mpg            int64\n",
       "price                  int32\n",
       "dtype: object"
      ]
     },
     "execution_count": 1094,
     "metadata": {},
     "output_type": "execute_result"
    }
   ],
   "source": [
    "df.dtypes"
   ]
  },
  {
   "cell_type": "markdown",
   "id": "7ce40d5e",
   "metadata": {},
   "source": [
    "# DATA STANDARDIZATION"
   ]
  },
  {
   "cell_type": "code",
   "execution_count": 1095,
   "id": "64ce120b",
   "metadata": {},
   "outputs": [],
   "source": [
    "# changing milegae units from mpg to kmpl"
   ]
  },
  {
   "cell_type": "code",
   "execution_count": 1096,
   "id": "a782c4ce",
   "metadata": {},
   "outputs": [],
   "source": [
    "df[\"city-mpg\"] = (235/df[\"city-mpg\"]).round()"
   ]
  },
  {
   "cell_type": "code",
   "execution_count": 1097,
   "id": "415753d0",
   "metadata": {},
   "outputs": [],
   "source": [
    "df[\"highway-mpg\"] = (235/df[\"highway-mpg\"]).round()"
   ]
  },
  {
   "cell_type": "code",
   "execution_count": 1098,
   "id": "95a15fd7",
   "metadata": {},
   "outputs": [
    {
     "data": {
      "text/html": [
       "<div>\n",
       "<style scoped>\n",
       "    .dataframe tbody tr th:only-of-type {\n",
       "        vertical-align: middle;\n",
       "    }\n",
       "\n",
       "    .dataframe tbody tr th {\n",
       "        vertical-align: top;\n",
       "    }\n",
       "\n",
       "    .dataframe thead th {\n",
       "        text-align: right;\n",
       "    }\n",
       "</style>\n",
       "<table border=\"1\" class=\"dataframe\">\n",
       "  <thead>\n",
       "    <tr style=\"text-align: right;\">\n",
       "      <th></th>\n",
       "      <th>symboling</th>\n",
       "      <th>normalized-losses</th>\n",
       "      <th>make</th>\n",
       "      <th>fuel-type</th>\n",
       "      <th>aspiration</th>\n",
       "      <th>num-of-doors</th>\n",
       "      <th>body-style</th>\n",
       "      <th>drive-wheels</th>\n",
       "      <th>engine-location</th>\n",
       "      <th>wheel-base</th>\n",
       "      <th>length</th>\n",
       "      <th>width</th>\n",
       "      <th>height</th>\n",
       "      <th>curb-weight</th>\n",
       "      <th>engine-type</th>\n",
       "      <th>num-of-cylinders</th>\n",
       "      <th>engine-size</th>\n",
       "      <th>fuel-system</th>\n",
       "      <th>bore</th>\n",
       "      <th>stroke</th>\n",
       "      <th>compression-ratio</th>\n",
       "      <th>horsepower</th>\n",
       "      <th>peak-rpm</th>\n",
       "      <th>city-mpg</th>\n",
       "      <th>highway-mpg</th>\n",
       "      <th>price</th>\n",
       "    </tr>\n",
       "  </thead>\n",
       "  <tbody>\n",
       "    <tr>\n",
       "      <th>0</th>\n",
       "      <td>3</td>\n",
       "      <td>122</td>\n",
       "      <td>alfa-romero</td>\n",
       "      <td>gas</td>\n",
       "      <td>std</td>\n",
       "      <td>two</td>\n",
       "      <td>convertible</td>\n",
       "      <td>rwd</td>\n",
       "      <td>front</td>\n",
       "      <td>88.6</td>\n",
       "      <td>168.8</td>\n",
       "      <td>64.1</td>\n",
       "      <td>48.8</td>\n",
       "      <td>2548</td>\n",
       "      <td>dohc</td>\n",
       "      <td>four</td>\n",
       "      <td>130</td>\n",
       "      <td>mpfi</td>\n",
       "      <td>3.47</td>\n",
       "      <td>2.68</td>\n",
       "      <td>9.0</td>\n",
       "      <td>111</td>\n",
       "      <td>5000</td>\n",
       "      <td>11.0</td>\n",
       "      <td>9.0</td>\n",
       "      <td>16500</td>\n",
       "    </tr>\n",
       "    <tr>\n",
       "      <th>1</th>\n",
       "      <td>1</td>\n",
       "      <td>122</td>\n",
       "      <td>alfa-romero</td>\n",
       "      <td>gas</td>\n",
       "      <td>std</td>\n",
       "      <td>two</td>\n",
       "      <td>hatchback</td>\n",
       "      <td>rwd</td>\n",
       "      <td>front</td>\n",
       "      <td>94.5</td>\n",
       "      <td>171.2</td>\n",
       "      <td>65.5</td>\n",
       "      <td>52.4</td>\n",
       "      <td>2823</td>\n",
       "      <td>ohcv</td>\n",
       "      <td>six</td>\n",
       "      <td>152</td>\n",
       "      <td>mpfi</td>\n",
       "      <td>2.68</td>\n",
       "      <td>3.47</td>\n",
       "      <td>9.0</td>\n",
       "      <td>154</td>\n",
       "      <td>5000</td>\n",
       "      <td>12.0</td>\n",
       "      <td>9.0</td>\n",
       "      <td>16500</td>\n",
       "    </tr>\n",
       "    <tr>\n",
       "      <th>2</th>\n",
       "      <td>2</td>\n",
       "      <td>164</td>\n",
       "      <td>audi</td>\n",
       "      <td>gas</td>\n",
       "      <td>std</td>\n",
       "      <td>four</td>\n",
       "      <td>sedan</td>\n",
       "      <td>fwd</td>\n",
       "      <td>front</td>\n",
       "      <td>99.8</td>\n",
       "      <td>176.6</td>\n",
       "      <td>66.2</td>\n",
       "      <td>54.3</td>\n",
       "      <td>2337</td>\n",
       "      <td>ohc</td>\n",
       "      <td>four</td>\n",
       "      <td>109</td>\n",
       "      <td>mpfi</td>\n",
       "      <td>3.19</td>\n",
       "      <td>3.40</td>\n",
       "      <td>10.0</td>\n",
       "      <td>102</td>\n",
       "      <td>5500</td>\n",
       "      <td>10.0</td>\n",
       "      <td>8.0</td>\n",
       "      <td>13950</td>\n",
       "    </tr>\n",
       "    <tr>\n",
       "      <th>3</th>\n",
       "      <td>2</td>\n",
       "      <td>164</td>\n",
       "      <td>audi</td>\n",
       "      <td>gas</td>\n",
       "      <td>std</td>\n",
       "      <td>four</td>\n",
       "      <td>sedan</td>\n",
       "      <td>4wd</td>\n",
       "      <td>front</td>\n",
       "      <td>99.4</td>\n",
       "      <td>176.6</td>\n",
       "      <td>66.4</td>\n",
       "      <td>54.3</td>\n",
       "      <td>2824</td>\n",
       "      <td>ohc</td>\n",
       "      <td>five</td>\n",
       "      <td>136</td>\n",
       "      <td>mpfi</td>\n",
       "      <td>3.19</td>\n",
       "      <td>3.40</td>\n",
       "      <td>8.0</td>\n",
       "      <td>115</td>\n",
       "      <td>5500</td>\n",
       "      <td>13.0</td>\n",
       "      <td>11.0</td>\n",
       "      <td>17450</td>\n",
       "    </tr>\n",
       "    <tr>\n",
       "      <th>4</th>\n",
       "      <td>2</td>\n",
       "      <td>122</td>\n",
       "      <td>audi</td>\n",
       "      <td>gas</td>\n",
       "      <td>std</td>\n",
       "      <td>two</td>\n",
       "      <td>sedan</td>\n",
       "      <td>fwd</td>\n",
       "      <td>front</td>\n",
       "      <td>99.8</td>\n",
       "      <td>177.3</td>\n",
       "      <td>66.3</td>\n",
       "      <td>53.1</td>\n",
       "      <td>2507</td>\n",
       "      <td>ohc</td>\n",
       "      <td>five</td>\n",
       "      <td>136</td>\n",
       "      <td>mpfi</td>\n",
       "      <td>3.19</td>\n",
       "      <td>3.40</td>\n",
       "      <td>8.5</td>\n",
       "      <td>110</td>\n",
       "      <td>5500</td>\n",
       "      <td>12.0</td>\n",
       "      <td>9.0</td>\n",
       "      <td>15250</td>\n",
       "    </tr>\n",
       "  </tbody>\n",
       "</table>\n",
       "</div>"
      ],
      "text/plain": [
       "   symboling  normalized-losses         make fuel-type aspiration  \\\n",
       "0          3                122  alfa-romero       gas        std   \n",
       "1          1                122  alfa-romero       gas        std   \n",
       "2          2                164         audi       gas        std   \n",
       "3          2                164         audi       gas        std   \n",
       "4          2                122         audi       gas        std   \n",
       "\n",
       "  num-of-doors   body-style drive-wheels engine-location  wheel-base  length  \\\n",
       "0          two  convertible          rwd           front        88.6   168.8   \n",
       "1          two    hatchback          rwd           front        94.5   171.2   \n",
       "2         four        sedan          fwd           front        99.8   176.6   \n",
       "3         four        sedan          4wd           front        99.4   176.6   \n",
       "4          two        sedan          fwd           front        99.8   177.3   \n",
       "\n",
       "   width  height  curb-weight engine-type num-of-cylinders  engine-size  \\\n",
       "0   64.1    48.8         2548        dohc             four          130   \n",
       "1   65.5    52.4         2823        ohcv              six          152   \n",
       "2   66.2    54.3         2337         ohc             four          109   \n",
       "3   66.4    54.3         2824         ohc             five          136   \n",
       "4   66.3    53.1         2507         ohc             five          136   \n",
       "\n",
       "  fuel-system  bore  stroke  compression-ratio  horsepower  peak-rpm  \\\n",
       "0        mpfi  3.47    2.68                9.0         111      5000   \n",
       "1        mpfi  2.68    3.47                9.0         154      5000   \n",
       "2        mpfi  3.19    3.40               10.0         102      5500   \n",
       "3        mpfi  3.19    3.40                8.0         115      5500   \n",
       "4        mpfi  3.19    3.40                8.5         110      5500   \n",
       "\n",
       "   city-mpg  highway-mpg  price  \n",
       "0      11.0          9.0  16500  \n",
       "1      12.0          9.0  16500  \n",
       "2      10.0          8.0  13950  \n",
       "3      13.0         11.0  17450  \n",
       "4      12.0          9.0  15250  "
      ]
     },
     "execution_count": 1098,
     "metadata": {},
     "output_type": "execute_result"
    }
   ],
   "source": [
    "df.head(5)"
   ]
  },
  {
   "cell_type": "code",
   "execution_count": 1099,
   "id": "67493707",
   "metadata": {},
   "outputs": [],
   "source": [
    "#renaming the columns from \"mpg\" into \"kmpl\""
   ]
  },
  {
   "cell_type": "code",
   "execution_count": 1100,
   "id": "4da762c1",
   "metadata": {},
   "outputs": [],
   "source": [
    "df.rename(columns = {\"city-mpg\":\"city-kmpl\",\"highway-mpg\":\"highway-kmpl\"},inplace=True)"
   ]
  },
  {
   "cell_type": "code",
   "execution_count": 1101,
   "id": "6b41af8b",
   "metadata": {},
   "outputs": [
    {
     "data": {
      "text/html": [
       "<div>\n",
       "<style scoped>\n",
       "    .dataframe tbody tr th:only-of-type {\n",
       "        vertical-align: middle;\n",
       "    }\n",
       "\n",
       "    .dataframe tbody tr th {\n",
       "        vertical-align: top;\n",
       "    }\n",
       "\n",
       "    .dataframe thead th {\n",
       "        text-align: right;\n",
       "    }\n",
       "</style>\n",
       "<table border=\"1\" class=\"dataframe\">\n",
       "  <thead>\n",
       "    <tr style=\"text-align: right;\">\n",
       "      <th></th>\n",
       "      <th>symboling</th>\n",
       "      <th>normalized-losses</th>\n",
       "      <th>make</th>\n",
       "      <th>fuel-type</th>\n",
       "      <th>aspiration</th>\n",
       "      <th>num-of-doors</th>\n",
       "      <th>body-style</th>\n",
       "      <th>drive-wheels</th>\n",
       "      <th>engine-location</th>\n",
       "      <th>wheel-base</th>\n",
       "      <th>length</th>\n",
       "      <th>width</th>\n",
       "      <th>height</th>\n",
       "      <th>curb-weight</th>\n",
       "      <th>engine-type</th>\n",
       "      <th>num-of-cylinders</th>\n",
       "      <th>engine-size</th>\n",
       "      <th>fuel-system</th>\n",
       "      <th>bore</th>\n",
       "      <th>stroke</th>\n",
       "      <th>compression-ratio</th>\n",
       "      <th>horsepower</th>\n",
       "      <th>peak-rpm</th>\n",
       "      <th>city-kmpl</th>\n",
       "      <th>highway-kmpl</th>\n",
       "      <th>price</th>\n",
       "    </tr>\n",
       "  </thead>\n",
       "  <tbody>\n",
       "    <tr>\n",
       "      <th>0</th>\n",
       "      <td>3</td>\n",
       "      <td>122</td>\n",
       "      <td>alfa-romero</td>\n",
       "      <td>gas</td>\n",
       "      <td>std</td>\n",
       "      <td>two</td>\n",
       "      <td>convertible</td>\n",
       "      <td>rwd</td>\n",
       "      <td>front</td>\n",
       "      <td>88.6</td>\n",
       "      <td>168.8</td>\n",
       "      <td>64.1</td>\n",
       "      <td>48.8</td>\n",
       "      <td>2548</td>\n",
       "      <td>dohc</td>\n",
       "      <td>four</td>\n",
       "      <td>130</td>\n",
       "      <td>mpfi</td>\n",
       "      <td>3.47</td>\n",
       "      <td>2.68</td>\n",
       "      <td>9.0</td>\n",
       "      <td>111</td>\n",
       "      <td>5000</td>\n",
       "      <td>11.0</td>\n",
       "      <td>9.0</td>\n",
       "      <td>16500</td>\n",
       "    </tr>\n",
       "    <tr>\n",
       "      <th>1</th>\n",
       "      <td>1</td>\n",
       "      <td>122</td>\n",
       "      <td>alfa-romero</td>\n",
       "      <td>gas</td>\n",
       "      <td>std</td>\n",
       "      <td>two</td>\n",
       "      <td>hatchback</td>\n",
       "      <td>rwd</td>\n",
       "      <td>front</td>\n",
       "      <td>94.5</td>\n",
       "      <td>171.2</td>\n",
       "      <td>65.5</td>\n",
       "      <td>52.4</td>\n",
       "      <td>2823</td>\n",
       "      <td>ohcv</td>\n",
       "      <td>six</td>\n",
       "      <td>152</td>\n",
       "      <td>mpfi</td>\n",
       "      <td>2.68</td>\n",
       "      <td>3.47</td>\n",
       "      <td>9.0</td>\n",
       "      <td>154</td>\n",
       "      <td>5000</td>\n",
       "      <td>12.0</td>\n",
       "      <td>9.0</td>\n",
       "      <td>16500</td>\n",
       "    </tr>\n",
       "    <tr>\n",
       "      <th>2</th>\n",
       "      <td>2</td>\n",
       "      <td>164</td>\n",
       "      <td>audi</td>\n",
       "      <td>gas</td>\n",
       "      <td>std</td>\n",
       "      <td>four</td>\n",
       "      <td>sedan</td>\n",
       "      <td>fwd</td>\n",
       "      <td>front</td>\n",
       "      <td>99.8</td>\n",
       "      <td>176.6</td>\n",
       "      <td>66.2</td>\n",
       "      <td>54.3</td>\n",
       "      <td>2337</td>\n",
       "      <td>ohc</td>\n",
       "      <td>four</td>\n",
       "      <td>109</td>\n",
       "      <td>mpfi</td>\n",
       "      <td>3.19</td>\n",
       "      <td>3.40</td>\n",
       "      <td>10.0</td>\n",
       "      <td>102</td>\n",
       "      <td>5500</td>\n",
       "      <td>10.0</td>\n",
       "      <td>8.0</td>\n",
       "      <td>13950</td>\n",
       "    </tr>\n",
       "    <tr>\n",
       "      <th>3</th>\n",
       "      <td>2</td>\n",
       "      <td>164</td>\n",
       "      <td>audi</td>\n",
       "      <td>gas</td>\n",
       "      <td>std</td>\n",
       "      <td>four</td>\n",
       "      <td>sedan</td>\n",
       "      <td>4wd</td>\n",
       "      <td>front</td>\n",
       "      <td>99.4</td>\n",
       "      <td>176.6</td>\n",
       "      <td>66.4</td>\n",
       "      <td>54.3</td>\n",
       "      <td>2824</td>\n",
       "      <td>ohc</td>\n",
       "      <td>five</td>\n",
       "      <td>136</td>\n",
       "      <td>mpfi</td>\n",
       "      <td>3.19</td>\n",
       "      <td>3.40</td>\n",
       "      <td>8.0</td>\n",
       "      <td>115</td>\n",
       "      <td>5500</td>\n",
       "      <td>13.0</td>\n",
       "      <td>11.0</td>\n",
       "      <td>17450</td>\n",
       "    </tr>\n",
       "    <tr>\n",
       "      <th>4</th>\n",
       "      <td>2</td>\n",
       "      <td>122</td>\n",
       "      <td>audi</td>\n",
       "      <td>gas</td>\n",
       "      <td>std</td>\n",
       "      <td>two</td>\n",
       "      <td>sedan</td>\n",
       "      <td>fwd</td>\n",
       "      <td>front</td>\n",
       "      <td>99.8</td>\n",
       "      <td>177.3</td>\n",
       "      <td>66.3</td>\n",
       "      <td>53.1</td>\n",
       "      <td>2507</td>\n",
       "      <td>ohc</td>\n",
       "      <td>five</td>\n",
       "      <td>136</td>\n",
       "      <td>mpfi</td>\n",
       "      <td>3.19</td>\n",
       "      <td>3.40</td>\n",
       "      <td>8.5</td>\n",
       "      <td>110</td>\n",
       "      <td>5500</td>\n",
       "      <td>12.0</td>\n",
       "      <td>9.0</td>\n",
       "      <td>15250</td>\n",
       "    </tr>\n",
       "  </tbody>\n",
       "</table>\n",
       "</div>"
      ],
      "text/plain": [
       "   symboling  normalized-losses         make fuel-type aspiration  \\\n",
       "0          3                122  alfa-romero       gas        std   \n",
       "1          1                122  alfa-romero       gas        std   \n",
       "2          2                164         audi       gas        std   \n",
       "3          2                164         audi       gas        std   \n",
       "4          2                122         audi       gas        std   \n",
       "\n",
       "  num-of-doors   body-style drive-wheels engine-location  wheel-base  length  \\\n",
       "0          two  convertible          rwd           front        88.6   168.8   \n",
       "1          two    hatchback          rwd           front        94.5   171.2   \n",
       "2         four        sedan          fwd           front        99.8   176.6   \n",
       "3         four        sedan          4wd           front        99.4   176.6   \n",
       "4          two        sedan          fwd           front        99.8   177.3   \n",
       "\n",
       "   width  height  curb-weight engine-type num-of-cylinders  engine-size  \\\n",
       "0   64.1    48.8         2548        dohc             four          130   \n",
       "1   65.5    52.4         2823        ohcv              six          152   \n",
       "2   66.2    54.3         2337         ohc             four          109   \n",
       "3   66.4    54.3         2824         ohc             five          136   \n",
       "4   66.3    53.1         2507         ohc             five          136   \n",
       "\n",
       "  fuel-system  bore  stroke  compression-ratio  horsepower  peak-rpm  \\\n",
       "0        mpfi  3.47    2.68                9.0         111      5000   \n",
       "1        mpfi  2.68    3.47                9.0         154      5000   \n",
       "2        mpfi  3.19    3.40               10.0         102      5500   \n",
       "3        mpfi  3.19    3.40                8.0         115      5500   \n",
       "4        mpfi  3.19    3.40                8.5         110      5500   \n",
       "\n",
       "   city-kmpl  highway-kmpl  price  \n",
       "0       11.0           9.0  16500  \n",
       "1       12.0           9.0  16500  \n",
       "2       10.0           8.0  13950  \n",
       "3       13.0          11.0  17450  \n",
       "4       12.0           9.0  15250  "
      ]
     },
     "execution_count": 1101,
     "metadata": {},
     "output_type": "execute_result"
    }
   ],
   "source": [
    "df.head(5)"
   ]
  },
  {
   "cell_type": "code",
   "execution_count": 1102,
   "id": "712f7423",
   "metadata": {},
   "outputs": [
    {
     "data": {
      "text/plain": [
       "symboling              int64\n",
       "normalized-losses      int32\n",
       "make                  object\n",
       "fuel-type             object\n",
       "aspiration            object\n",
       "num-of-doors          object\n",
       "body-style            object\n",
       "drive-wheels          object\n",
       "engine-location       object\n",
       "wheel-base           float64\n",
       "length               float64\n",
       "width                float64\n",
       "height               float64\n",
       "curb-weight            int64\n",
       "engine-type           object\n",
       "num-of-cylinders      object\n",
       "engine-size            int64\n",
       "fuel-system           object\n",
       "bore                 float64\n",
       "stroke               float64\n",
       "compression-ratio    float64\n",
       "horsepower             int32\n",
       "peak-rpm               int32\n",
       "city-kmpl            float64\n",
       "highway-kmpl         float64\n",
       "price                  int32\n",
       "dtype: object"
      ]
     },
     "execution_count": 1102,
     "metadata": {},
     "output_type": "execute_result"
    }
   ],
   "source": [
    "df.dtypes"
   ]
  },
  {
   "cell_type": "code",
   "execution_count": 1103,
   "id": "1b79d925",
   "metadata": {},
   "outputs": [],
   "source": [
    "# changing the datatype from float into integer"
   ]
  },
  {
   "cell_type": "code",
   "execution_count": 1104,
   "id": "8fd39688",
   "metadata": {},
   "outputs": [],
   "source": [
    "df[[\"city-kmpl\",\"highway-kmpl\"]] = df[[\"city-kmpl\",\"highway-kmpl\"]].astype(\"int32\")"
   ]
  },
  {
   "cell_type": "code",
   "execution_count": 1105,
   "id": "39b9f6c9",
   "metadata": {},
   "outputs": [
    {
     "data": {
      "text/plain": [
       "symboling              int64\n",
       "normalized-losses      int32\n",
       "make                  object\n",
       "fuel-type             object\n",
       "aspiration            object\n",
       "num-of-doors          object\n",
       "body-style            object\n",
       "drive-wheels          object\n",
       "engine-location       object\n",
       "wheel-base           float64\n",
       "length               float64\n",
       "width                float64\n",
       "height               float64\n",
       "curb-weight            int64\n",
       "engine-type           object\n",
       "num-of-cylinders      object\n",
       "engine-size            int64\n",
       "fuel-system           object\n",
       "bore                 float64\n",
       "stroke               float64\n",
       "compression-ratio    float64\n",
       "horsepower             int32\n",
       "peak-rpm               int32\n",
       "city-kmpl              int32\n",
       "highway-kmpl           int32\n",
       "price                  int32\n",
       "dtype: object"
      ]
     },
     "execution_count": 1105,
     "metadata": {},
     "output_type": "execute_result"
    }
   ],
   "source": [
    "df.dtypes"
   ]
  },
  {
   "cell_type": "markdown",
   "id": "4b336b8c",
   "metadata": {},
   "source": [
    "# DATA NORMALIZATION"
   ]
  },
  {
   "cell_type": "code",
   "execution_count": 1106,
   "id": "081ea63a",
   "metadata": {},
   "outputs": [],
   "source": [
    "# using simple feature scaling method forcolumns \"length\", \"width\", \"height\""
   ]
  },
  {
   "cell_type": "code",
   "execution_count": 1107,
   "id": "1772ad51",
   "metadata": {},
   "outputs": [],
   "source": [
    "df[\"length\"] = (df[\"length\"]/df[\"length\"].max()).round(1)"
   ]
  },
  {
   "cell_type": "code",
   "execution_count": 1108,
   "id": "837a7c17",
   "metadata": {},
   "outputs": [],
   "source": [
    "df[\"width\"] = (df[\"width\"]/df[\"width\"].max()).round(1)"
   ]
  },
  {
   "cell_type": "code",
   "execution_count": 1109,
   "id": "698b84d5",
   "metadata": {},
   "outputs": [],
   "source": [
    "df[\"height\"] = (df[\"height\"]/df[\"height\"].max()).round(1)"
   ]
  },
  {
   "cell_type": "code",
   "execution_count": 1110,
   "id": "c45b60ee",
   "metadata": {},
   "outputs": [
    {
     "data": {
      "text/html": [
       "<div>\n",
       "<style scoped>\n",
       "    .dataframe tbody tr th:only-of-type {\n",
       "        vertical-align: middle;\n",
       "    }\n",
       "\n",
       "    .dataframe tbody tr th {\n",
       "        vertical-align: top;\n",
       "    }\n",
       "\n",
       "    .dataframe thead th {\n",
       "        text-align: right;\n",
       "    }\n",
       "</style>\n",
       "<table border=\"1\" class=\"dataframe\">\n",
       "  <thead>\n",
       "    <tr style=\"text-align: right;\">\n",
       "      <th></th>\n",
       "      <th>symboling</th>\n",
       "      <th>normalized-losses</th>\n",
       "      <th>make</th>\n",
       "      <th>fuel-type</th>\n",
       "      <th>aspiration</th>\n",
       "      <th>num-of-doors</th>\n",
       "      <th>body-style</th>\n",
       "      <th>drive-wheels</th>\n",
       "      <th>engine-location</th>\n",
       "      <th>wheel-base</th>\n",
       "      <th>length</th>\n",
       "      <th>width</th>\n",
       "      <th>height</th>\n",
       "      <th>curb-weight</th>\n",
       "      <th>engine-type</th>\n",
       "      <th>num-of-cylinders</th>\n",
       "      <th>engine-size</th>\n",
       "      <th>fuel-system</th>\n",
       "      <th>bore</th>\n",
       "      <th>stroke</th>\n",
       "      <th>compression-ratio</th>\n",
       "      <th>horsepower</th>\n",
       "      <th>peak-rpm</th>\n",
       "      <th>city-kmpl</th>\n",
       "      <th>highway-kmpl</th>\n",
       "      <th>price</th>\n",
       "    </tr>\n",
       "  </thead>\n",
       "  <tbody>\n",
       "    <tr>\n",
       "      <th>0</th>\n",
       "      <td>3</td>\n",
       "      <td>122</td>\n",
       "      <td>alfa-romero</td>\n",
       "      <td>gas</td>\n",
       "      <td>std</td>\n",
       "      <td>two</td>\n",
       "      <td>convertible</td>\n",
       "      <td>rwd</td>\n",
       "      <td>front</td>\n",
       "      <td>88.6</td>\n",
       "      <td>0.8</td>\n",
       "      <td>0.9</td>\n",
       "      <td>0.8</td>\n",
       "      <td>2548</td>\n",
       "      <td>dohc</td>\n",
       "      <td>four</td>\n",
       "      <td>130</td>\n",
       "      <td>mpfi</td>\n",
       "      <td>3.47</td>\n",
       "      <td>2.68</td>\n",
       "      <td>9.0</td>\n",
       "      <td>111</td>\n",
       "      <td>5000</td>\n",
       "      <td>11</td>\n",
       "      <td>9</td>\n",
       "      <td>16500</td>\n",
       "    </tr>\n",
       "    <tr>\n",
       "      <th>1</th>\n",
       "      <td>1</td>\n",
       "      <td>122</td>\n",
       "      <td>alfa-romero</td>\n",
       "      <td>gas</td>\n",
       "      <td>std</td>\n",
       "      <td>two</td>\n",
       "      <td>hatchback</td>\n",
       "      <td>rwd</td>\n",
       "      <td>front</td>\n",
       "      <td>94.5</td>\n",
       "      <td>0.8</td>\n",
       "      <td>0.9</td>\n",
       "      <td>0.9</td>\n",
       "      <td>2823</td>\n",
       "      <td>ohcv</td>\n",
       "      <td>six</td>\n",
       "      <td>152</td>\n",
       "      <td>mpfi</td>\n",
       "      <td>2.68</td>\n",
       "      <td>3.47</td>\n",
       "      <td>9.0</td>\n",
       "      <td>154</td>\n",
       "      <td>5000</td>\n",
       "      <td>12</td>\n",
       "      <td>9</td>\n",
       "      <td>16500</td>\n",
       "    </tr>\n",
       "    <tr>\n",
       "      <th>2</th>\n",
       "      <td>2</td>\n",
       "      <td>164</td>\n",
       "      <td>audi</td>\n",
       "      <td>gas</td>\n",
       "      <td>std</td>\n",
       "      <td>four</td>\n",
       "      <td>sedan</td>\n",
       "      <td>fwd</td>\n",
       "      <td>front</td>\n",
       "      <td>99.8</td>\n",
       "      <td>0.8</td>\n",
       "      <td>0.9</td>\n",
       "      <td>0.9</td>\n",
       "      <td>2337</td>\n",
       "      <td>ohc</td>\n",
       "      <td>four</td>\n",
       "      <td>109</td>\n",
       "      <td>mpfi</td>\n",
       "      <td>3.19</td>\n",
       "      <td>3.40</td>\n",
       "      <td>10.0</td>\n",
       "      <td>102</td>\n",
       "      <td>5500</td>\n",
       "      <td>10</td>\n",
       "      <td>8</td>\n",
       "      <td>13950</td>\n",
       "    </tr>\n",
       "    <tr>\n",
       "      <th>3</th>\n",
       "      <td>2</td>\n",
       "      <td>164</td>\n",
       "      <td>audi</td>\n",
       "      <td>gas</td>\n",
       "      <td>std</td>\n",
       "      <td>four</td>\n",
       "      <td>sedan</td>\n",
       "      <td>4wd</td>\n",
       "      <td>front</td>\n",
       "      <td>99.4</td>\n",
       "      <td>0.8</td>\n",
       "      <td>0.9</td>\n",
       "      <td>0.9</td>\n",
       "      <td>2824</td>\n",
       "      <td>ohc</td>\n",
       "      <td>five</td>\n",
       "      <td>136</td>\n",
       "      <td>mpfi</td>\n",
       "      <td>3.19</td>\n",
       "      <td>3.40</td>\n",
       "      <td>8.0</td>\n",
       "      <td>115</td>\n",
       "      <td>5500</td>\n",
       "      <td>13</td>\n",
       "      <td>11</td>\n",
       "      <td>17450</td>\n",
       "    </tr>\n",
       "    <tr>\n",
       "      <th>4</th>\n",
       "      <td>2</td>\n",
       "      <td>122</td>\n",
       "      <td>audi</td>\n",
       "      <td>gas</td>\n",
       "      <td>std</td>\n",
       "      <td>two</td>\n",
       "      <td>sedan</td>\n",
       "      <td>fwd</td>\n",
       "      <td>front</td>\n",
       "      <td>99.8</td>\n",
       "      <td>0.9</td>\n",
       "      <td>0.9</td>\n",
       "      <td>0.9</td>\n",
       "      <td>2507</td>\n",
       "      <td>ohc</td>\n",
       "      <td>five</td>\n",
       "      <td>136</td>\n",
       "      <td>mpfi</td>\n",
       "      <td>3.19</td>\n",
       "      <td>3.40</td>\n",
       "      <td>8.5</td>\n",
       "      <td>110</td>\n",
       "      <td>5500</td>\n",
       "      <td>12</td>\n",
       "      <td>9</td>\n",
       "      <td>15250</td>\n",
       "    </tr>\n",
       "  </tbody>\n",
       "</table>\n",
       "</div>"
      ],
      "text/plain": [
       "   symboling  normalized-losses         make fuel-type aspiration  \\\n",
       "0          3                122  alfa-romero       gas        std   \n",
       "1          1                122  alfa-romero       gas        std   \n",
       "2          2                164         audi       gas        std   \n",
       "3          2                164         audi       gas        std   \n",
       "4          2                122         audi       gas        std   \n",
       "\n",
       "  num-of-doors   body-style drive-wheels engine-location  wheel-base  length  \\\n",
       "0          two  convertible          rwd           front        88.6     0.8   \n",
       "1          two    hatchback          rwd           front        94.5     0.8   \n",
       "2         four        sedan          fwd           front        99.8     0.8   \n",
       "3         four        sedan          4wd           front        99.4     0.8   \n",
       "4          two        sedan          fwd           front        99.8     0.9   \n",
       "\n",
       "   width  height  curb-weight engine-type num-of-cylinders  engine-size  \\\n",
       "0    0.9     0.8         2548        dohc             four          130   \n",
       "1    0.9     0.9         2823        ohcv              six          152   \n",
       "2    0.9     0.9         2337         ohc             four          109   \n",
       "3    0.9     0.9         2824         ohc             five          136   \n",
       "4    0.9     0.9         2507         ohc             five          136   \n",
       "\n",
       "  fuel-system  bore  stroke  compression-ratio  horsepower  peak-rpm  \\\n",
       "0        mpfi  3.47    2.68                9.0         111      5000   \n",
       "1        mpfi  2.68    3.47                9.0         154      5000   \n",
       "2        mpfi  3.19    3.40               10.0         102      5500   \n",
       "3        mpfi  3.19    3.40                8.0         115      5500   \n",
       "4        mpfi  3.19    3.40                8.5         110      5500   \n",
       "\n",
       "   city-kmpl  highway-kmpl  price  \n",
       "0         11             9  16500  \n",
       "1         12             9  16500  \n",
       "2         10             8  13950  \n",
       "3         13            11  17450  \n",
       "4         12             9  15250  "
      ]
     },
     "execution_count": 1110,
     "metadata": {},
     "output_type": "execute_result"
    }
   ],
   "source": [
    "df.head(5)"
   ]
  },
  {
   "cell_type": "markdown",
   "id": "94cf2b4e",
   "metadata": {},
   "source": [
    "# DATA BINNING"
   ]
  },
  {
   "cell_type": "code",
   "execution_count": 1111,
   "id": "ca940c46",
   "metadata": {},
   "outputs": [],
   "source": [
    "# starting with data binning, lets see the spread of the count of the \"horsepower\" as range"
   ]
  },
  {
   "cell_type": "code",
   "execution_count": 1112,
   "id": "db3ee864",
   "metadata": {},
   "outputs": [
    {
     "data": {
      "text/plain": [
       "Text(0.5, 1.0, 'horsepower bins')"
      ]
     },
     "execution_count": 1112,
     "metadata": {},
     "output_type": "execute_result"
    },
    {
     "data": {
      "image/png": "[encoded data removed]",
      "text/plain": [
       "<Figure size 640x480 with 1 Axes>"
      ]
     },
     "metadata": {},
     "output_type": "display_data"
    }
   ],
   "source": [
    "import matplotlib as plt\n",
    "from matplotlib import pyplot\n",
    "\n",
    "plt.pyplot.hist(df[\"horsepower\"])\n",
    "plt.pyplot.xlabel(\"horsepower\")\n",
    "plt.pyplot.ylabel(\"count\")\n",
    "plt.pyplot.title(\"horsepower bins\")"
   ]
  },
  {
   "cell_type": "code",
   "execution_count": 1113,
   "id": "d86e83d9",
   "metadata": {},
   "outputs": [],
   "source": [
    "bins = np.linspace(min(df[\"horsepower\"]),max(df[\"horsepower\"]),4)"
   ]
  },
  {
   "cell_type": "code",
   "execution_count": 1114,
   "id": "6c0e3401",
   "metadata": {},
   "outputs": [],
   "source": [
    "# ranging the variables from minimum value to maximum value and segmenting them into 3 (n) categories, hence binning n+1 = 4"
   ]
  },
  {
   "cell_type": "code",
   "execution_count": 1115,
   "id": "c3ab9095",
   "metadata": {},
   "outputs": [],
   "source": [
    "group_names=[\"low\",\"medium\",\"high\"]"
   ]
  },
  {
   "cell_type": "code",
   "execution_count": 1116,
   "id": "9928cf17",
   "metadata": {},
   "outputs": [],
   "source": [
    "# assigning names for the ranges"
   ]
  },
  {
   "cell_type": "code",
   "execution_count": 1117,
   "id": "655e4032",
   "metadata": {},
   "outputs": [],
   "source": [
    "df[\"horsepower-binned\"]=pd.cut(df[\"horsepower\"],bins=bins,labels=group_names,include_lowest=True)"
   ]
  },
  {
   "cell_type": "code",
   "execution_count": 1118,
   "id": "8a30c7bd",
   "metadata": {},
   "outputs": [],
   "source": [
    "#  checking the binning"
   ]
  },
  {
   "cell_type": "code",
   "execution_count": 1119,
   "id": "d68789d7",
   "metadata": {},
   "outputs": [
    {
     "data": {
      "text/html": [
       "<div>\n",
       "<style scoped>\n",
       "    .dataframe tbody tr th:only-of-type {\n",
       "        vertical-align: middle;\n",
       "    }\n",
       "\n",
       "    .dataframe tbody tr th {\n",
       "        vertical-align: top;\n",
       "    }\n",
       "\n",
       "    .dataframe thead th {\n",
       "        text-align: right;\n",
       "    }\n",
       "</style>\n",
       "<table border=\"1\" class=\"dataframe\">\n",
       "  <thead>\n",
       "    <tr style=\"text-align: right;\">\n",
       "      <th></th>\n",
       "      <th>horsepower</th>\n",
       "      <th>horsepower-binned</th>\n",
       "    </tr>\n",
       "  </thead>\n",
       "  <tbody>\n",
       "    <tr>\n",
       "      <th>0</th>\n",
       "      <td>111</td>\n",
       "      <td>low</td>\n",
       "    </tr>\n",
       "    <tr>\n",
       "      <th>1</th>\n",
       "      <td>154</td>\n",
       "      <td>medium</td>\n",
       "    </tr>\n",
       "    <tr>\n",
       "      <th>2</th>\n",
       "      <td>102</td>\n",
       "      <td>low</td>\n",
       "    </tr>\n",
       "    <tr>\n",
       "      <th>3</th>\n",
       "      <td>115</td>\n",
       "      <td>low</td>\n",
       "    </tr>\n",
       "    <tr>\n",
       "      <th>4</th>\n",
       "      <td>110</td>\n",
       "      <td>low</td>\n",
       "    </tr>\n",
       "  </tbody>\n",
       "</table>\n",
       "</div>"
      ],
      "text/plain": [
       "   horsepower horsepower-binned\n",
       "0         111               low\n",
       "1         154            medium\n",
       "2         102               low\n",
       "3         115               low\n",
       "4         110               low"
      ]
     },
     "execution_count": 1119,
     "metadata": {},
     "output_type": "execute_result"
    }
   ],
   "source": [
    "df[[\"horsepower\",\"horsepower-binned\"]].head(5)"
   ]
  },
  {
   "cell_type": "code",
   "execution_count": 1120,
   "id": "b602a83a",
   "metadata": {},
   "outputs": [],
   "source": [
    "# lets see the count of cars in the segments of low, medium,high"
   ]
  },
  {
   "cell_type": "code",
   "execution_count": 1121,
   "id": "cfededb1",
   "metadata": {},
   "outputs": [
    {
     "data": {
      "text/plain": [
       "horsepower-binned\n",
       "low       152\n",
       "medium     43\n",
       "high        5\n",
       "Name: count, dtype: int64"
      ]
     },
     "execution_count": 1121,
     "metadata": {},
     "output_type": "execute_result"
    }
   ],
   "source": [
    "df[\"horsepower-binned\"].value_counts()"
   ]
  },
  {
   "cell_type": "code",
   "execution_count": 1122,
   "id": "90f248fb",
   "metadata": {},
   "outputs": [],
   "source": [
    "# plotting distribution in each bin"
   ]
  },
  {
   "cell_type": "code",
   "execution_count": 1123,
   "id": "a912488e",
   "metadata": {},
   "outputs": [
    {
     "data": {
      "text/plain": [
       "Text(0.5, 1.0, 'horsepower bins')"
      ]
     },
     "execution_count": 1123,
     "metadata": {},
     "output_type": "execute_result"
    },
    {
     "data": {
      "image/png": "[encoded data removed]",
      "text/plain": [
       "<Figure size 640x480 with 1 Axes>"
      ]
     },
     "metadata": {},
     "output_type": "display_data"
    }
   ],
   "source": [
    "pyplot.bar(group_names,df[\"horsepower-binned\"].value_counts())\n",
    "plt.pyplot.xlabel(\"horsepower\")\n",
    "plt.pyplot.ylabel(\"count\")\n",
    "plt.pyplot.title(\"horsepower bins\")"
   ]
  },
  {
   "cell_type": "code",
   "execution_count": 1124,
   "id": "8c51c8ce",
   "metadata": {},
   "outputs": [],
   "source": [
    "# histogram vizualiztion for the bins and their distribution"
   ]
  },
  {
   "cell_type": "code",
   "execution_count": 1125,
   "id": "de9ec426",
   "metadata": {},
   "outputs": [
    {
     "data": {
      "text/plain": [
       "Text(0.5, 1.0, 'horsepower bins')"
      ]
     },
     "execution_count": 1125,
     "metadata": {},
     "output_type": "execute_result"
    },
    {
     "data": {
      "image/png": "[encoded data removed]",
      "text/plain": [
       "<Figure size 640x480 with 1 Axes>"
      ]
     },
     "metadata": {},
     "output_type": "display_data"
    }
   ],
   "source": [
    "plt.pyplot.hist(df[\"horsepower\"],bins=3)\n",
    "plt.pyplot.xlabel(\"horsepower\")\n",
    "plt.pyplot.ylabel(\"count\")\n",
    "plt.pyplot.title(\"horsepower bins\")"
   ]
  },
  {
   "cell_type": "markdown",
   "id": "657f7b7c",
   "metadata": {},
   "source": [
    "### ASSIGNING DUMMY VARIABLE FOR CATEGORICAL VARIABLES"
   ]
  },
  {
   "cell_type": "code",
   "execution_count": 1126,
   "id": "3e868d7d",
   "metadata": {},
   "outputs": [
    {
     "data": {
      "text/html": [
       "<div>\n",
       "<style scoped>\n",
       "    .dataframe tbody tr th:only-of-type {\n",
       "        vertical-align: middle;\n",
       "    }\n",
       "\n",
       "    .dataframe tbody tr th {\n",
       "        vertical-align: top;\n",
       "    }\n",
       "\n",
       "    .dataframe thead th {\n",
       "        text-align: right;\n",
       "    }\n",
       "</style>\n",
       "<table border=\"1\" class=\"dataframe\">\n",
       "  <thead>\n",
       "    <tr style=\"text-align: right;\">\n",
       "      <th></th>\n",
       "      <th>symboling</th>\n",
       "      <th>normalized-losses</th>\n",
       "      <th>make</th>\n",
       "      <th>fuel-type</th>\n",
       "      <th>aspiration</th>\n",
       "      <th>num-of-doors</th>\n",
       "      <th>body-style</th>\n",
       "      <th>drive-wheels</th>\n",
       "      <th>engine-location</th>\n",
       "      <th>wheel-base</th>\n",
       "      <th>length</th>\n",
       "      <th>width</th>\n",
       "      <th>height</th>\n",
       "      <th>curb-weight</th>\n",
       "      <th>engine-type</th>\n",
       "      <th>num-of-cylinders</th>\n",
       "      <th>engine-size</th>\n",
       "      <th>fuel-system</th>\n",
       "      <th>bore</th>\n",
       "      <th>stroke</th>\n",
       "      <th>compression-ratio</th>\n",
       "      <th>horsepower</th>\n",
       "      <th>peak-rpm</th>\n",
       "      <th>city-kmpl</th>\n",
       "      <th>highway-kmpl</th>\n",
       "      <th>price</th>\n",
       "      <th>horsepower-binned</th>\n",
       "    </tr>\n",
       "  </thead>\n",
       "  <tbody>\n",
       "    <tr>\n",
       "      <th>0</th>\n",
       "      <td>3</td>\n",
       "      <td>122</td>\n",
       "      <td>alfa-romero</td>\n",
       "      <td>gas</td>\n",
       "      <td>std</td>\n",
       "      <td>two</td>\n",
       "      <td>convertible</td>\n",
       "      <td>rwd</td>\n",
       "      <td>front</td>\n",
       "      <td>88.6</td>\n",
       "      <td>0.8</td>\n",
       "      <td>0.9</td>\n",
       "      <td>0.8</td>\n",
       "      <td>2548</td>\n",
       "      <td>dohc</td>\n",
       "      <td>four</td>\n",
       "      <td>130</td>\n",
       "      <td>mpfi</td>\n",
       "      <td>3.47</td>\n",
       "      <td>2.68</td>\n",
       "      <td>9.0</td>\n",
       "      <td>111</td>\n",
       "      <td>5000</td>\n",
       "      <td>11</td>\n",
       "      <td>9</td>\n",
       "      <td>16500</td>\n",
       "      <td>low</td>\n",
       "    </tr>\n",
       "    <tr>\n",
       "      <th>1</th>\n",
       "      <td>1</td>\n",
       "      <td>122</td>\n",
       "      <td>alfa-romero</td>\n",
       "      <td>gas</td>\n",
       "      <td>std</td>\n",
       "      <td>two</td>\n",
       "      <td>hatchback</td>\n",
       "      <td>rwd</td>\n",
       "      <td>front</td>\n",
       "      <td>94.5</td>\n",
       "      <td>0.8</td>\n",
       "      <td>0.9</td>\n",
       "      <td>0.9</td>\n",
       "      <td>2823</td>\n",
       "      <td>ohcv</td>\n",
       "      <td>six</td>\n",
       "      <td>152</td>\n",
       "      <td>mpfi</td>\n",
       "      <td>2.68</td>\n",
       "      <td>3.47</td>\n",
       "      <td>9.0</td>\n",
       "      <td>154</td>\n",
       "      <td>5000</td>\n",
       "      <td>12</td>\n",
       "      <td>9</td>\n",
       "      <td>16500</td>\n",
       "      <td>medium</td>\n",
       "    </tr>\n",
       "    <tr>\n",
       "      <th>2</th>\n",
       "      <td>2</td>\n",
       "      <td>164</td>\n",
       "      <td>audi</td>\n",
       "      <td>gas</td>\n",
       "      <td>std</td>\n",
       "      <td>four</td>\n",
       "      <td>sedan</td>\n",
       "      <td>fwd</td>\n",
       "      <td>front</td>\n",
       "      <td>99.8</td>\n",
       "      <td>0.8</td>\n",
       "      <td>0.9</td>\n",
       "      <td>0.9</td>\n",
       "      <td>2337</td>\n",
       "      <td>ohc</td>\n",
       "      <td>four</td>\n",
       "      <td>109</td>\n",
       "      <td>mpfi</td>\n",
       "      <td>3.19</td>\n",
       "      <td>3.40</td>\n",
       "      <td>10.0</td>\n",
       "      <td>102</td>\n",
       "      <td>5500</td>\n",
       "      <td>10</td>\n",
       "      <td>8</td>\n",
       "      <td>13950</td>\n",
       "      <td>low</td>\n",
       "    </tr>\n",
       "  </tbody>\n",
       "</table>\n",
       "</div>"
      ],
      "text/plain": [
       "   symboling  normalized-losses         make fuel-type aspiration  \\\n",
       "0          3                122  alfa-romero       gas        std   \n",
       "1          1                122  alfa-romero       gas        std   \n",
       "2          2                164         audi       gas        std   \n",
       "\n",
       "  num-of-doors   body-style drive-wheels engine-location  wheel-base  length  \\\n",
       "0          two  convertible          rwd           front        88.6     0.8   \n",
       "1          two    hatchback          rwd           front        94.5     0.8   \n",
       "2         four        sedan          fwd           front        99.8     0.8   \n",
       "\n",
       "   width  height  curb-weight engine-type num-of-cylinders  engine-size  \\\n",
       "0    0.9     0.8         2548        dohc             four          130   \n",
       "1    0.9     0.9         2823        ohcv              six          152   \n",
       "2    0.9     0.9         2337         ohc             four          109   \n",
       "\n",
       "  fuel-system  bore  stroke  compression-ratio  horsepower  peak-rpm  \\\n",
       "0        mpfi  3.47    2.68                9.0         111      5000   \n",
       "1        mpfi  2.68    3.47                9.0         154      5000   \n",
       "2        mpfi  3.19    3.40               10.0         102      5500   \n",
       "\n",
       "   city-kmpl  highway-kmpl  price horsepower-binned  \n",
       "0         11             9  16500               low  \n",
       "1         12             9  16500            medium  \n",
       "2         10             8  13950               low  "
      ]
     },
     "execution_count": 1126,
     "metadata": {},
     "output_type": "execute_result"
    }
   ],
   "source": [
    "df.head(3)"
   ]
  },
  {
   "cell_type": "code",
   "execution_count": 1127,
   "id": "31960bd7",
   "metadata": {},
   "outputs": [],
   "source": [
    "## assigning dummy indicator for \"fuel-type\""
   ]
  },
  {
   "cell_type": "code",
   "execution_count": 1128,
   "id": "6178fad5",
   "metadata": {},
   "outputs": [],
   "source": [
    "dummy_variable_1 = pd.get_dummies(df[\"fuel-type\"])"
   ]
  },
  {
   "cell_type": "code",
   "execution_count": 1129,
   "id": "10237ede",
   "metadata": {},
   "outputs": [
    {
     "data": {
      "text/html": [
       "<div>\n",
       "<style scoped>\n",
       "    .dataframe tbody tr th:only-of-type {\n",
       "        vertical-align: middle;\n",
       "    }\n",
       "\n",
       "    .dataframe tbody tr th {\n",
       "        vertical-align: top;\n",
       "    }\n",
       "\n",
       "    .dataframe thead th {\n",
       "        text-align: right;\n",
       "    }\n",
       "</style>\n",
       "<table border=\"1\" class=\"dataframe\">\n",
       "  <thead>\n",
       "    <tr style=\"text-align: right;\">\n",
       "      <th></th>\n",
       "      <th>diesel</th>\n",
       "      <th>gas</th>\n",
       "    </tr>\n",
       "  </thead>\n",
       "  <tbody>\n",
       "    <tr>\n",
       "      <th>0</th>\n",
       "      <td>False</td>\n",
       "      <td>True</td>\n",
       "    </tr>\n",
       "    <tr>\n",
       "      <th>1</th>\n",
       "      <td>False</td>\n",
       "      <td>True</td>\n",
       "    </tr>\n",
       "    <tr>\n",
       "      <th>2</th>\n",
       "      <td>False</td>\n",
       "      <td>True</td>\n",
       "    </tr>\n",
       "  </tbody>\n",
       "</table>\n",
       "</div>"
      ],
      "text/plain": [
       "   diesel   gas\n",
       "0   False  True\n",
       "1   False  True\n",
       "2   False  True"
      ]
     },
     "execution_count": 1129,
     "metadata": {},
     "output_type": "execute_result"
    }
   ],
   "source": [
    "dummy_variable_1.head(3)"
   ]
  },
  {
   "cell_type": "code",
   "execution_count": 1130,
   "id": "c7c88618",
   "metadata": {},
   "outputs": [],
   "source": [
    "dummy_variable_1.rename(columns={\"gas\":\"fuel-type-gas\",\"diesel\":\"fuel-type-diesel\"},inplace=True)"
   ]
  },
  {
   "cell_type": "code",
   "execution_count": 1131,
   "id": "955d9a3c",
   "metadata": {},
   "outputs": [
    {
     "data": {
      "text/html": [
       "<div>\n",
       "<style scoped>\n",
       "    .dataframe tbody tr th:only-of-type {\n",
       "        vertical-align: middle;\n",
       "    }\n",
       "\n",
       "    .dataframe tbody tr th {\n",
       "        vertical-align: top;\n",
       "    }\n",
       "\n",
       "    .dataframe thead th {\n",
       "        text-align: right;\n",
       "    }\n",
       "</style>\n",
       "<table border=\"1\" class=\"dataframe\">\n",
       "  <thead>\n",
       "    <tr style=\"text-align: right;\">\n",
       "      <th></th>\n",
       "      <th>fuel-type-diesel</th>\n",
       "      <th>fuel-type-gas</th>\n",
       "    </tr>\n",
       "  </thead>\n",
       "  <tbody>\n",
       "    <tr>\n",
       "      <th>0</th>\n",
       "      <td>False</td>\n",
       "      <td>True</td>\n",
       "    </tr>\n",
       "    <tr>\n",
       "      <th>1</th>\n",
       "      <td>False</td>\n",
       "      <td>True</td>\n",
       "    </tr>\n",
       "  </tbody>\n",
       "</table>\n",
       "</div>"
      ],
      "text/plain": [
       "   fuel-type-diesel  fuel-type-gas\n",
       "0             False           True\n",
       "1             False           True"
      ]
     },
     "execution_count": 1131,
     "metadata": {},
     "output_type": "execute_result"
    }
   ],
   "source": [
    "dummy_variable_1.head(2)"
   ]
  },
  {
   "cell_type": "code",
   "execution_count": 1132,
   "id": "fa7db51c",
   "metadata": {},
   "outputs": [],
   "source": [
    "# merging the original dataframe with dummy variable dataframe"
   ]
  },
  {
   "cell_type": "code",
   "execution_count": 1133,
   "id": "3378c3e9",
   "metadata": {},
   "outputs": [],
   "source": [
    "df=pd.concat([df,dummy_variable_1],axis=1)"
   ]
  },
  {
   "cell_type": "code",
   "execution_count": 1134,
   "id": "483ecc9d",
   "metadata": {},
   "outputs": [],
   "source": [
    "# dropping the original existing \"fuel-type\" column from the dataframe"
   ]
  },
  {
   "cell_type": "code",
   "execution_count": 1135,
   "id": "6f671630",
   "metadata": {},
   "outputs": [],
   "source": [
    "df.drop(\"fuel-type\",axis=1,inplace=True)"
   ]
  },
  {
   "cell_type": "code",
   "execution_count": 1136,
   "id": "e0159434",
   "metadata": {},
   "outputs": [
    {
     "data": {
      "text/html": [
       "<div>\n",
       "<style scoped>\n",
       "    .dataframe tbody tr th:only-of-type {\n",
       "        vertical-align: middle;\n",
       "    }\n",
       "\n",
       "    .dataframe tbody tr th {\n",
       "        vertical-align: top;\n",
       "    }\n",
       "\n",
       "    .dataframe thead th {\n",
       "        text-align: right;\n",
       "    }\n",
       "</style>\n",
       "<table border=\"1\" class=\"dataframe\">\n",
       "  <thead>\n",
       "    <tr style=\"text-align: right;\">\n",
       "      <th></th>\n",
       "      <th>symboling</th>\n",
       "      <th>normalized-losses</th>\n",
       "      <th>make</th>\n",
       "      <th>aspiration</th>\n",
       "      <th>num-of-doors</th>\n",
       "      <th>body-style</th>\n",
       "      <th>drive-wheels</th>\n",
       "      <th>engine-location</th>\n",
       "      <th>wheel-base</th>\n",
       "      <th>length</th>\n",
       "      <th>width</th>\n",
       "      <th>height</th>\n",
       "      <th>curb-weight</th>\n",
       "      <th>engine-type</th>\n",
       "      <th>num-of-cylinders</th>\n",
       "      <th>engine-size</th>\n",
       "      <th>fuel-system</th>\n",
       "      <th>bore</th>\n",
       "      <th>stroke</th>\n",
       "      <th>compression-ratio</th>\n",
       "      <th>horsepower</th>\n",
       "      <th>peak-rpm</th>\n",
       "      <th>city-kmpl</th>\n",
       "      <th>highway-kmpl</th>\n",
       "      <th>price</th>\n",
       "      <th>horsepower-binned</th>\n",
       "      <th>fuel-type-diesel</th>\n",
       "      <th>fuel-type-gas</th>\n",
       "    </tr>\n",
       "  </thead>\n",
       "  <tbody>\n",
       "    <tr>\n",
       "      <th>0</th>\n",
       "      <td>3</td>\n",
       "      <td>122</td>\n",
       "      <td>alfa-romero</td>\n",
       "      <td>std</td>\n",
       "      <td>two</td>\n",
       "      <td>convertible</td>\n",
       "      <td>rwd</td>\n",
       "      <td>front</td>\n",
       "      <td>88.6</td>\n",
       "      <td>0.8</td>\n",
       "      <td>0.9</td>\n",
       "      <td>0.8</td>\n",
       "      <td>2548</td>\n",
       "      <td>dohc</td>\n",
       "      <td>four</td>\n",
       "      <td>130</td>\n",
       "      <td>mpfi</td>\n",
       "      <td>3.47</td>\n",
       "      <td>2.68</td>\n",
       "      <td>9.0</td>\n",
       "      <td>111</td>\n",
       "      <td>5000</td>\n",
       "      <td>11</td>\n",
       "      <td>9</td>\n",
       "      <td>16500</td>\n",
       "      <td>low</td>\n",
       "      <td>False</td>\n",
       "      <td>True</td>\n",
       "    </tr>\n",
       "    <tr>\n",
       "      <th>1</th>\n",
       "      <td>1</td>\n",
       "      <td>122</td>\n",
       "      <td>alfa-romero</td>\n",
       "      <td>std</td>\n",
       "      <td>two</td>\n",
       "      <td>hatchback</td>\n",
       "      <td>rwd</td>\n",
       "      <td>front</td>\n",
       "      <td>94.5</td>\n",
       "      <td>0.8</td>\n",
       "      <td>0.9</td>\n",
       "      <td>0.9</td>\n",
       "      <td>2823</td>\n",
       "      <td>ohcv</td>\n",
       "      <td>six</td>\n",
       "      <td>152</td>\n",
       "      <td>mpfi</td>\n",
       "      <td>2.68</td>\n",
       "      <td>3.47</td>\n",
       "      <td>9.0</td>\n",
       "      <td>154</td>\n",
       "      <td>5000</td>\n",
       "      <td>12</td>\n",
       "      <td>9</td>\n",
       "      <td>16500</td>\n",
       "      <td>medium</td>\n",
       "      <td>False</td>\n",
       "      <td>True</td>\n",
       "    </tr>\n",
       "    <tr>\n",
       "      <th>2</th>\n",
       "      <td>2</td>\n",
       "      <td>164</td>\n",
       "      <td>audi</td>\n",
       "      <td>std</td>\n",
       "      <td>four</td>\n",
       "      <td>sedan</td>\n",
       "      <td>fwd</td>\n",
       "      <td>front</td>\n",
       "      <td>99.8</td>\n",
       "      <td>0.8</td>\n",
       "      <td>0.9</td>\n",
       "      <td>0.9</td>\n",
       "      <td>2337</td>\n",
       "      <td>ohc</td>\n",
       "      <td>four</td>\n",
       "      <td>109</td>\n",
       "      <td>mpfi</td>\n",
       "      <td>3.19</td>\n",
       "      <td>3.40</td>\n",
       "      <td>10.0</td>\n",
       "      <td>102</td>\n",
       "      <td>5500</td>\n",
       "      <td>10</td>\n",
       "      <td>8</td>\n",
       "      <td>13950</td>\n",
       "      <td>low</td>\n",
       "      <td>False</td>\n",
       "      <td>True</td>\n",
       "    </tr>\n",
       "    <tr>\n",
       "      <th>3</th>\n",
       "      <td>2</td>\n",
       "      <td>164</td>\n",
       "      <td>audi</td>\n",
       "      <td>std</td>\n",
       "      <td>four</td>\n",
       "      <td>sedan</td>\n",
       "      <td>4wd</td>\n",
       "      <td>front</td>\n",
       "      <td>99.4</td>\n",
       "      <td>0.8</td>\n",
       "      <td>0.9</td>\n",
       "      <td>0.9</td>\n",
       "      <td>2824</td>\n",
       "      <td>ohc</td>\n",
       "      <td>five</td>\n",
       "      <td>136</td>\n",
       "      <td>mpfi</td>\n",
       "      <td>3.19</td>\n",
       "      <td>3.40</td>\n",
       "      <td>8.0</td>\n",
       "      <td>115</td>\n",
       "      <td>5500</td>\n",
       "      <td>13</td>\n",
       "      <td>11</td>\n",
       "      <td>17450</td>\n",
       "      <td>low</td>\n",
       "      <td>False</td>\n",
       "      <td>True</td>\n",
       "    </tr>\n",
       "    <tr>\n",
       "      <th>4</th>\n",
       "      <td>2</td>\n",
       "      <td>122</td>\n",
       "      <td>audi</td>\n",
       "      <td>std</td>\n",
       "      <td>two</td>\n",
       "      <td>sedan</td>\n",
       "      <td>fwd</td>\n",
       "      <td>front</td>\n",
       "      <td>99.8</td>\n",
       "      <td>0.9</td>\n",
       "      <td>0.9</td>\n",
       "      <td>0.9</td>\n",
       "      <td>2507</td>\n",
       "      <td>ohc</td>\n",
       "      <td>five</td>\n",
       "      <td>136</td>\n",
       "      <td>mpfi</td>\n",
       "      <td>3.19</td>\n",
       "      <td>3.40</td>\n",
       "      <td>8.5</td>\n",
       "      <td>110</td>\n",
       "      <td>5500</td>\n",
       "      <td>12</td>\n",
       "      <td>9</td>\n",
       "      <td>15250</td>\n",
       "      <td>low</td>\n",
       "      <td>False</td>\n",
       "      <td>True</td>\n",
       "    </tr>\n",
       "    <tr>\n",
       "      <th>5</th>\n",
       "      <td>1</td>\n",
       "      <td>158</td>\n",
       "      <td>audi</td>\n",
       "      <td>std</td>\n",
       "      <td>four</td>\n",
       "      <td>sedan</td>\n",
       "      <td>fwd</td>\n",
       "      <td>front</td>\n",
       "      <td>105.8</td>\n",
       "      <td>0.9</td>\n",
       "      <td>1.0</td>\n",
       "      <td>0.9</td>\n",
       "      <td>2844</td>\n",
       "      <td>ohc</td>\n",
       "      <td>five</td>\n",
       "      <td>136</td>\n",
       "      <td>mpfi</td>\n",
       "      <td>3.19</td>\n",
       "      <td>3.40</td>\n",
       "      <td>8.5</td>\n",
       "      <td>110</td>\n",
       "      <td>5500</td>\n",
       "      <td>12</td>\n",
       "      <td>9</td>\n",
       "      <td>17710</td>\n",
       "      <td>low</td>\n",
       "      <td>False</td>\n",
       "      <td>True</td>\n",
       "    </tr>\n",
       "    <tr>\n",
       "      <th>6</th>\n",
       "      <td>1</td>\n",
       "      <td>122</td>\n",
       "      <td>audi</td>\n",
       "      <td>std</td>\n",
       "      <td>four</td>\n",
       "      <td>wagon</td>\n",
       "      <td>fwd</td>\n",
       "      <td>front</td>\n",
       "      <td>105.8</td>\n",
       "      <td>0.9</td>\n",
       "      <td>1.0</td>\n",
       "      <td>0.9</td>\n",
       "      <td>2954</td>\n",
       "      <td>ohc</td>\n",
       "      <td>five</td>\n",
       "      <td>136</td>\n",
       "      <td>mpfi</td>\n",
       "      <td>3.19</td>\n",
       "      <td>3.40</td>\n",
       "      <td>8.5</td>\n",
       "      <td>110</td>\n",
       "      <td>5500</td>\n",
       "      <td>12</td>\n",
       "      <td>9</td>\n",
       "      <td>18920</td>\n",
       "      <td>low</td>\n",
       "      <td>False</td>\n",
       "      <td>True</td>\n",
       "    </tr>\n",
       "    <tr>\n",
       "      <th>7</th>\n",
       "      <td>1</td>\n",
       "      <td>158</td>\n",
       "      <td>audi</td>\n",
       "      <td>turbo</td>\n",
       "      <td>four</td>\n",
       "      <td>sedan</td>\n",
       "      <td>fwd</td>\n",
       "      <td>front</td>\n",
       "      <td>105.8</td>\n",
       "      <td>0.9</td>\n",
       "      <td>1.0</td>\n",
       "      <td>0.9</td>\n",
       "      <td>3086</td>\n",
       "      <td>ohc</td>\n",
       "      <td>five</td>\n",
       "      <td>131</td>\n",
       "      <td>mpfi</td>\n",
       "      <td>3.13</td>\n",
       "      <td>3.40</td>\n",
       "      <td>8.3</td>\n",
       "      <td>140</td>\n",
       "      <td>5500</td>\n",
       "      <td>14</td>\n",
       "      <td>12</td>\n",
       "      <td>23875</td>\n",
       "      <td>medium</td>\n",
       "      <td>False</td>\n",
       "      <td>True</td>\n",
       "    </tr>\n",
       "    <tr>\n",
       "      <th>8</th>\n",
       "      <td>2</td>\n",
       "      <td>192</td>\n",
       "      <td>bmw</td>\n",
       "      <td>std</td>\n",
       "      <td>two</td>\n",
       "      <td>sedan</td>\n",
       "      <td>rwd</td>\n",
       "      <td>front</td>\n",
       "      <td>101.2</td>\n",
       "      <td>0.8</td>\n",
       "      <td>0.9</td>\n",
       "      <td>0.9</td>\n",
       "      <td>2395</td>\n",
       "      <td>ohc</td>\n",
       "      <td>four</td>\n",
       "      <td>108</td>\n",
       "      <td>mpfi</td>\n",
       "      <td>3.50</td>\n",
       "      <td>2.80</td>\n",
       "      <td>8.8</td>\n",
       "      <td>101</td>\n",
       "      <td>5800</td>\n",
       "      <td>10</td>\n",
       "      <td>8</td>\n",
       "      <td>16430</td>\n",
       "      <td>low</td>\n",
       "      <td>False</td>\n",
       "      <td>True</td>\n",
       "    </tr>\n",
       "    <tr>\n",
       "      <th>9</th>\n",
       "      <td>0</td>\n",
       "      <td>192</td>\n",
       "      <td>bmw</td>\n",
       "      <td>std</td>\n",
       "      <td>four</td>\n",
       "      <td>sedan</td>\n",
       "      <td>rwd</td>\n",
       "      <td>front</td>\n",
       "      <td>101.2</td>\n",
       "      <td>0.8</td>\n",
       "      <td>0.9</td>\n",
       "      <td>0.9</td>\n",
       "      <td>2395</td>\n",
       "      <td>ohc</td>\n",
       "      <td>four</td>\n",
       "      <td>108</td>\n",
       "      <td>mpfi</td>\n",
       "      <td>3.50</td>\n",
       "      <td>2.80</td>\n",
       "      <td>8.8</td>\n",
       "      <td>101</td>\n",
       "      <td>5800</td>\n",
       "      <td>10</td>\n",
       "      <td>8</td>\n",
       "      <td>16925</td>\n",
       "      <td>low</td>\n",
       "      <td>False</td>\n",
       "      <td>True</td>\n",
       "    </tr>\n",
       "  </tbody>\n",
       "</table>\n",
       "</div>"
      ],
      "text/plain": [
       "   symboling  normalized-losses         make aspiration num-of-doors  \\\n",
       "0          3                122  alfa-romero        std          two   \n",
       "1          1                122  alfa-romero        std          two   \n",
       "2          2                164         audi        std         four   \n",
       "3          2                164         audi        std         four   \n",
       "4          2                122         audi        std          two   \n",
       "5          1                158         audi        std         four   \n",
       "6          1                122         audi        std         four   \n",
       "7          1                158         audi      turbo         four   \n",
       "8          2                192          bmw        std          two   \n",
       "9          0                192          bmw        std         four   \n",
       "\n",
       "    body-style drive-wheels engine-location  wheel-base  length  width  \\\n",
       "0  convertible          rwd           front        88.6     0.8    0.9   \n",
       "1    hatchback          rwd           front        94.5     0.8    0.9   \n",
       "2        sedan          fwd           front        99.8     0.8    0.9   \n",
       "3        sedan          4wd           front        99.4     0.8    0.9   \n",
       "4        sedan          fwd           front        99.8     0.9    0.9   \n",
       "5        sedan          fwd           front       105.8     0.9    1.0   \n",
       "6        wagon          fwd           front       105.8     0.9    1.0   \n",
       "7        sedan          fwd           front       105.8     0.9    1.0   \n",
       "8        sedan          rwd           front       101.2     0.8    0.9   \n",
       "9        sedan          rwd           front       101.2     0.8    0.9   \n",
       "\n",
       "   height  curb-weight engine-type num-of-cylinders  engine-size fuel-system  \\\n",
       "0     0.8         2548        dohc             four          130        mpfi   \n",
       "1     0.9         2823        ohcv              six          152        mpfi   \n",
       "2     0.9         2337         ohc             four          109        mpfi   \n",
       "3     0.9         2824         ohc             five          136        mpfi   \n",
       "4     0.9         2507         ohc             five          136        mpfi   \n",
       "5     0.9         2844         ohc             five          136        mpfi   \n",
       "6     0.9         2954         ohc             five          136        mpfi   \n",
       "7     0.9         3086         ohc             five          131        mpfi   \n",
       "8     0.9         2395         ohc             four          108        mpfi   \n",
       "9     0.9         2395         ohc             four          108        mpfi   \n",
       "\n",
       "   bore  stroke  compression-ratio  horsepower  peak-rpm  city-kmpl  \\\n",
       "0  3.47    2.68                9.0         111      5000         11   \n",
       "1  2.68    3.47                9.0         154      5000         12   \n",
       "2  3.19    3.40               10.0         102      5500         10   \n",
       "3  3.19    3.40                8.0         115      5500         13   \n",
       "4  3.19    3.40                8.5         110      5500         12   \n",
       "5  3.19    3.40                8.5         110      5500         12   \n",
       "6  3.19    3.40                8.5         110      5500         12   \n",
       "7  3.13    3.40                8.3         140      5500         14   \n",
       "8  3.50    2.80                8.8         101      5800         10   \n",
       "9  3.50    2.80                8.8         101      5800         10   \n",
       "\n",
       "   highway-kmpl  price horsepower-binned  fuel-type-diesel  fuel-type-gas  \n",
       "0             9  16500               low             False           True  \n",
       "1             9  16500            medium             False           True  \n",
       "2             8  13950               low             False           True  \n",
       "3            11  17450               low             False           True  \n",
       "4             9  15250               low             False           True  \n",
       "5             9  17710               low             False           True  \n",
       "6             9  18920               low             False           True  \n",
       "7            12  23875            medium             False           True  \n",
       "8             8  16430               low             False           True  \n",
       "9             8  16925               low             False           True  "
      ]
     },
     "execution_count": 1136,
     "metadata": {},
     "output_type": "execute_result"
    }
   ],
   "source": [
    "df.head(10)"
   ]
  },
  {
   "cell_type": "code",
   "execution_count": 1137,
   "id": "3212c8fb",
   "metadata": {},
   "outputs": [],
   "source": [
    "## assign dummies for \"aspiration\""
   ]
  },
  {
   "cell_type": "code",
   "execution_count": 1138,
   "id": "510728e6",
   "metadata": {},
   "outputs": [],
   "source": [
    "dv_2 = pd.get_dummies(df[\"aspiration\"])"
   ]
  },
  {
   "cell_type": "code",
   "execution_count": 1139,
   "id": "c0deff8b",
   "metadata": {},
   "outputs": [
    {
     "data": {
      "text/html": [
       "<div>\n",
       "<style scoped>\n",
       "    .dataframe tbody tr th:only-of-type {\n",
       "        vertical-align: middle;\n",
       "    }\n",
       "\n",
       "    .dataframe tbody tr th {\n",
       "        vertical-align: top;\n",
       "    }\n",
       "\n",
       "    .dataframe thead th {\n",
       "        text-align: right;\n",
       "    }\n",
       "</style>\n",
       "<table border=\"1\" class=\"dataframe\">\n",
       "  <thead>\n",
       "    <tr style=\"text-align: right;\">\n",
       "      <th></th>\n",
       "      <th>std</th>\n",
       "      <th>turbo</th>\n",
       "    </tr>\n",
       "  </thead>\n",
       "  <tbody>\n",
       "    <tr>\n",
       "      <th>0</th>\n",
       "      <td>True</td>\n",
       "      <td>False</td>\n",
       "    </tr>\n",
       "    <tr>\n",
       "      <th>1</th>\n",
       "      <td>True</td>\n",
       "      <td>False</td>\n",
       "    </tr>\n",
       "  </tbody>\n",
       "</table>\n",
       "</div>"
      ],
      "text/plain": [
       "    std  turbo\n",
       "0  True  False\n",
       "1  True  False"
      ]
     },
     "execution_count": 1139,
     "metadata": {},
     "output_type": "execute_result"
    }
   ],
   "source": [
    "dv_2.head(2)"
   ]
  },
  {
   "cell_type": "code",
   "execution_count": 1140,
   "id": "83f7420f",
   "metadata": {},
   "outputs": [],
   "source": [
    "dv_2.rename(columns={\"std\":\"aspiration_std\",\"turbo\":\"aspiration-turbo\"},inplace=True)"
   ]
  },
  {
   "cell_type": "code",
   "execution_count": 1141,
   "id": "8e00f53d",
   "metadata": {},
   "outputs": [
    {
     "data": {
      "text/html": [
       "<div>\n",
       "<style scoped>\n",
       "    .dataframe tbody tr th:only-of-type {\n",
       "        vertical-align: middle;\n",
       "    }\n",
       "\n",
       "    .dataframe tbody tr th {\n",
       "        vertical-align: top;\n",
       "    }\n",
       "\n",
       "    .dataframe thead th {\n",
       "        text-align: right;\n",
       "    }\n",
       "</style>\n",
       "<table border=\"1\" class=\"dataframe\">\n",
       "  <thead>\n",
       "    <tr style=\"text-align: right;\">\n",
       "      <th></th>\n",
       "      <th>aspiration_std</th>\n",
       "      <th>aspiration-turbo</th>\n",
       "    </tr>\n",
       "  </thead>\n",
       "  <tbody>\n",
       "    <tr>\n",
       "      <th>0</th>\n",
       "      <td>True</td>\n",
       "      <td>False</td>\n",
       "    </tr>\n",
       "    <tr>\n",
       "      <th>1</th>\n",
       "      <td>True</td>\n",
       "      <td>False</td>\n",
       "    </tr>\n",
       "  </tbody>\n",
       "</table>\n",
       "</div>"
      ],
      "text/plain": [
       "   aspiration_std  aspiration-turbo\n",
       "0            True             False\n",
       "1            True             False"
      ]
     },
     "execution_count": 1141,
     "metadata": {},
     "output_type": "execute_result"
    }
   ],
   "source": [
    "dv_2.head(2)"
   ]
  },
  {
   "cell_type": "code",
   "execution_count": 1142,
   "id": "cbe59c29",
   "metadata": {},
   "outputs": [],
   "source": [
    "df=pd.concat([df,dv_2],axis=1)"
   ]
  },
  {
   "cell_type": "code",
   "execution_count": 1143,
   "id": "57ea87d3",
   "metadata": {},
   "outputs": [],
   "source": [
    "df.drop(\"aspiration\",axis=1,inplace=True)"
   ]
  },
  {
   "cell_type": "code",
   "execution_count": 1144,
   "id": "1fc2ce5a",
   "metadata": {},
   "outputs": [
    {
     "data": {
      "text/html": [
       "<div>\n",
       "<style scoped>\n",
       "    .dataframe tbody tr th:only-of-type {\n",
       "        vertical-align: middle;\n",
       "    }\n",
       "\n",
       "    .dataframe tbody tr th {\n",
       "        vertical-align: top;\n",
       "    }\n",
       "\n",
       "    .dataframe thead th {\n",
       "        text-align: right;\n",
       "    }\n",
       "</style>\n",
       "<table border=\"1\" class=\"dataframe\">\n",
       "  <thead>\n",
       "    <tr style=\"text-align: right;\">\n",
       "      <th></th>\n",
       "      <th>symboling</th>\n",
       "      <th>normalized-losses</th>\n",
       "      <th>make</th>\n",
       "      <th>num-of-doors</th>\n",
       "      <th>body-style</th>\n",
       "      <th>drive-wheels</th>\n",
       "      <th>engine-location</th>\n",
       "      <th>wheel-base</th>\n",
       "      <th>length</th>\n",
       "      <th>width</th>\n",
       "      <th>height</th>\n",
       "      <th>curb-weight</th>\n",
       "      <th>engine-type</th>\n",
       "      <th>num-of-cylinders</th>\n",
       "      <th>engine-size</th>\n",
       "      <th>fuel-system</th>\n",
       "      <th>bore</th>\n",
       "      <th>stroke</th>\n",
       "      <th>compression-ratio</th>\n",
       "      <th>horsepower</th>\n",
       "      <th>peak-rpm</th>\n",
       "      <th>city-kmpl</th>\n",
       "      <th>highway-kmpl</th>\n",
       "      <th>price</th>\n",
       "      <th>horsepower-binned</th>\n",
       "      <th>fuel-type-diesel</th>\n",
       "      <th>fuel-type-gas</th>\n",
       "      <th>aspiration_std</th>\n",
       "      <th>aspiration-turbo</th>\n",
       "    </tr>\n",
       "  </thead>\n",
       "  <tbody>\n",
       "    <tr>\n",
       "      <th>0</th>\n",
       "      <td>3</td>\n",
       "      <td>122</td>\n",
       "      <td>alfa-romero</td>\n",
       "      <td>two</td>\n",
       "      <td>convertible</td>\n",
       "      <td>rwd</td>\n",
       "      <td>front</td>\n",
       "      <td>88.6</td>\n",
       "      <td>0.8</td>\n",
       "      <td>0.9</td>\n",
       "      <td>0.8</td>\n",
       "      <td>2548</td>\n",
       "      <td>dohc</td>\n",
       "      <td>four</td>\n",
       "      <td>130</td>\n",
       "      <td>mpfi</td>\n",
       "      <td>3.47</td>\n",
       "      <td>2.68</td>\n",
       "      <td>9.0</td>\n",
       "      <td>111</td>\n",
       "      <td>5000</td>\n",
       "      <td>11</td>\n",
       "      <td>9</td>\n",
       "      <td>16500</td>\n",
       "      <td>low</td>\n",
       "      <td>False</td>\n",
       "      <td>True</td>\n",
       "      <td>True</td>\n",
       "      <td>False</td>\n",
       "    </tr>\n",
       "    <tr>\n",
       "      <th>1</th>\n",
       "      <td>1</td>\n",
       "      <td>122</td>\n",
       "      <td>alfa-romero</td>\n",
       "      <td>two</td>\n",
       "      <td>hatchback</td>\n",
       "      <td>rwd</td>\n",
       "      <td>front</td>\n",
       "      <td>94.5</td>\n",
       "      <td>0.8</td>\n",
       "      <td>0.9</td>\n",
       "      <td>0.9</td>\n",
       "      <td>2823</td>\n",
       "      <td>ohcv</td>\n",
       "      <td>six</td>\n",
       "      <td>152</td>\n",
       "      <td>mpfi</td>\n",
       "      <td>2.68</td>\n",
       "      <td>3.47</td>\n",
       "      <td>9.0</td>\n",
       "      <td>154</td>\n",
       "      <td>5000</td>\n",
       "      <td>12</td>\n",
       "      <td>9</td>\n",
       "      <td>16500</td>\n",
       "      <td>medium</td>\n",
       "      <td>False</td>\n",
       "      <td>True</td>\n",
       "      <td>True</td>\n",
       "      <td>False</td>\n",
       "    </tr>\n",
       "    <tr>\n",
       "      <th>2</th>\n",
       "      <td>2</td>\n",
       "      <td>164</td>\n",
       "      <td>audi</td>\n",
       "      <td>four</td>\n",
       "      <td>sedan</td>\n",
       "      <td>fwd</td>\n",
       "      <td>front</td>\n",
       "      <td>99.8</td>\n",
       "      <td>0.8</td>\n",
       "      <td>0.9</td>\n",
       "      <td>0.9</td>\n",
       "      <td>2337</td>\n",
       "      <td>ohc</td>\n",
       "      <td>four</td>\n",
       "      <td>109</td>\n",
       "      <td>mpfi</td>\n",
       "      <td>3.19</td>\n",
       "      <td>3.40</td>\n",
       "      <td>10.0</td>\n",
       "      <td>102</td>\n",
       "      <td>5500</td>\n",
       "      <td>10</td>\n",
       "      <td>8</td>\n",
       "      <td>13950</td>\n",
       "      <td>low</td>\n",
       "      <td>False</td>\n",
       "      <td>True</td>\n",
       "      <td>True</td>\n",
       "      <td>False</td>\n",
       "    </tr>\n",
       "    <tr>\n",
       "      <th>3</th>\n",
       "      <td>2</td>\n",
       "      <td>164</td>\n",
       "      <td>audi</td>\n",
       "      <td>four</td>\n",
       "      <td>sedan</td>\n",
       "      <td>4wd</td>\n",
       "      <td>front</td>\n",
       "      <td>99.4</td>\n",
       "      <td>0.8</td>\n",
       "      <td>0.9</td>\n",
       "      <td>0.9</td>\n",
       "      <td>2824</td>\n",
       "      <td>ohc</td>\n",
       "      <td>five</td>\n",
       "      <td>136</td>\n",
       "      <td>mpfi</td>\n",
       "      <td>3.19</td>\n",
       "      <td>3.40</td>\n",
       "      <td>8.0</td>\n",
       "      <td>115</td>\n",
       "      <td>5500</td>\n",
       "      <td>13</td>\n",
       "      <td>11</td>\n",
       "      <td>17450</td>\n",
       "      <td>low</td>\n",
       "      <td>False</td>\n",
       "      <td>True</td>\n",
       "      <td>True</td>\n",
       "      <td>False</td>\n",
       "    </tr>\n",
       "    <tr>\n",
       "      <th>4</th>\n",
       "      <td>2</td>\n",
       "      <td>122</td>\n",
       "      <td>audi</td>\n",
       "      <td>two</td>\n",
       "      <td>sedan</td>\n",
       "      <td>fwd</td>\n",
       "      <td>front</td>\n",
       "      <td>99.8</td>\n",
       "      <td>0.9</td>\n",
       "      <td>0.9</td>\n",
       "      <td>0.9</td>\n",
       "      <td>2507</td>\n",
       "      <td>ohc</td>\n",
       "      <td>five</td>\n",
       "      <td>136</td>\n",
       "      <td>mpfi</td>\n",
       "      <td>3.19</td>\n",
       "      <td>3.40</td>\n",
       "      <td>8.5</td>\n",
       "      <td>110</td>\n",
       "      <td>5500</td>\n",
       "      <td>12</td>\n",
       "      <td>9</td>\n",
       "      <td>15250</td>\n",
       "      <td>low</td>\n",
       "      <td>False</td>\n",
       "      <td>True</td>\n",
       "      <td>True</td>\n",
       "      <td>False</td>\n",
       "    </tr>\n",
       "  </tbody>\n",
       "</table>\n",
       "</div>"
      ],
      "text/plain": [
       "   symboling  normalized-losses         make num-of-doors   body-style  \\\n",
       "0          3                122  alfa-romero          two  convertible   \n",
       "1          1                122  alfa-romero          two    hatchback   \n",
       "2          2                164         audi         four        sedan   \n",
       "3          2                164         audi         four        sedan   \n",
       "4          2                122         audi          two        sedan   \n",
       "\n",
       "  drive-wheels engine-location  wheel-base  length  width  height  \\\n",
       "0          rwd           front        88.6     0.8    0.9     0.8   \n",
       "1          rwd           front        94.5     0.8    0.9     0.9   \n",
       "2          fwd           front        99.8     0.8    0.9     0.9   \n",
       "3          4wd           front        99.4     0.8    0.9     0.9   \n",
       "4          fwd           front        99.8     0.9    0.9     0.9   \n",
       "\n",
       "   curb-weight engine-type num-of-cylinders  engine-size fuel-system  bore  \\\n",
       "0         2548        dohc             four          130        mpfi  3.47   \n",
       "1         2823        ohcv              six          152        mpfi  2.68   \n",
       "2         2337         ohc             four          109        mpfi  3.19   \n",
       "3         2824         ohc             five          136        mpfi  3.19   \n",
       "4         2507         ohc             five          136        mpfi  3.19   \n",
       "\n",
       "   stroke  compression-ratio  horsepower  peak-rpm  city-kmpl  highway-kmpl  \\\n",
       "0    2.68                9.0         111      5000         11             9   \n",
       "1    3.47                9.0         154      5000         12             9   \n",
       "2    3.40               10.0         102      5500         10             8   \n",
       "3    3.40                8.0         115      5500         13            11   \n",
       "4    3.40                8.5         110      5500         12             9   \n",
       "\n",
       "   price horsepower-binned  fuel-type-diesel  fuel-type-gas  aspiration_std  \\\n",
       "0  16500               low             False           True            True   \n",
       "1  16500            medium             False           True            True   \n",
       "2  13950               low             False           True            True   \n",
       "3  17450               low             False           True            True   \n",
       "4  15250               low             False           True            True   \n",
       "\n",
       "   aspiration-turbo  \n",
       "0             False  \n",
       "1             False  \n",
       "2             False  \n",
       "3             False  \n",
       "4             False  "
      ]
     },
     "execution_count": 1144,
     "metadata": {},
     "output_type": "execute_result"
    }
   ],
   "source": [
    "df.head()"
   ]
  },
  {
   "cell_type": "markdown",
   "id": "29d7cc14",
   "metadata": {},
   "source": [
    "# EXPLORATORY DATA ANALYSIS"
   ]
  },
  {
   "cell_type": "markdown",
   "id": "2760a9bb",
   "metadata": {},
   "source": [
    "### 1. Analyzing Individual Feature Patterns Using Visualization"
   ]
  },
  {
   "cell_type": "code",
   "execution_count": 1145,
   "id": "23c6db33",
   "metadata": {},
   "outputs": [
    {
     "data": {
      "text/plain": [
       "symboling               int64\n",
       "normalized-losses       int32\n",
       "make                   object\n",
       "num-of-doors           object\n",
       "body-style             object\n",
       "drive-wheels           object\n",
       "engine-location        object\n",
       "wheel-base            float64\n",
       "length                float64\n",
       "width                 float64\n",
       "height                float64\n",
       "curb-weight             int64\n",
       "engine-type            object\n",
       "num-of-cylinders       object\n",
       "engine-size             int64\n",
       "fuel-system            object\n",
       "bore                  float64\n",
       "stroke                float64\n",
       "compression-ratio     float64\n",
       "horsepower              int32\n",
       "peak-rpm                int32\n",
       "city-kmpl               int32\n",
       "highway-kmpl            int32\n",
       "price                   int32\n",
       "horsepower-binned    category\n",
       "fuel-type-diesel         bool\n",
       "fuel-type-gas            bool\n",
       "aspiration_std           bool\n",
       "aspiration-turbo         bool\n",
       "dtype: object"
      ]
     },
     "execution_count": 1145,
     "metadata": {},
     "output_type": "execute_result"
    }
   ],
   "source": [
    "df.dtypes"
   ]
  },
  {
   "cell_type": "code",
   "execution_count": 1146,
   "id": "8e4e1bb7",
   "metadata": {
    "scrolled": true
   },
   "outputs": [
    {
     "data": {
      "text/plain": [
       "object      8\n",
       "float64     7\n",
       "int32       6\n",
       "bool        4\n",
       "int64       3\n",
       "category    1\n",
       "Name: count, dtype: int64"
      ]
     },
     "execution_count": 1146,
     "metadata": {},
     "output_type": "execute_result"
    }
   ],
   "source": [
    "df.dtypes.value_counts()"
   ]
  },
  {
   "cell_type": "code",
   "execution_count": 1147,
   "id": "175026dd",
   "metadata": {},
   "outputs": [
    {
     "data": {
      "text/plain": [
       "make                   object\n",
       "num-of-doors           object\n",
       "body-style             object\n",
       "drive-wheels           object\n",
       "engine-location        object\n",
       "engine-type            object\n",
       "num-of-cylinders       object\n",
       "fuel-system            object\n",
       "horsepower-binned    category\n",
       "dtype: object"
      ]
     },
     "execution_count": 1147,
     "metadata": {},
     "output_type": "execute_result"
    }
   ],
   "source": [
    "filtered_Ctype = df.dtypes[df.dtypes.astype(str).isin(['object','category'])]\n",
    "filtered_Ctype"
   ]
  },
  {
   "cell_type": "code",
   "execution_count": 1148,
   "id": "3216f0d2",
   "metadata": {},
   "outputs": [
    {
     "data": {
      "text/plain": [
       "object      8\n",
       "category    1\n",
       "Name: count, dtype: int64"
      ]
     },
     "execution_count": 1148,
     "metadata": {},
     "output_type": "execute_result"
    }
   ],
   "source": [
    "filtered_Ctype.value_counts()"
   ]
  },
  {
   "cell_type": "code",
   "execution_count": 1149,
   "id": "f236d903",
   "metadata": {},
   "outputs": [
    {
     "data": {
      "text/plain": [
       "symboling              int64\n",
       "normalized-losses      int32\n",
       "wheel-base           float64\n",
       "length               float64\n",
       "width                float64\n",
       "height               float64\n",
       "curb-weight            int64\n",
       "engine-size            int64\n",
       "bore                 float64\n",
       "stroke               float64\n",
       "compression-ratio    float64\n",
       "horsepower             int32\n",
       "peak-rpm               int32\n",
       "city-kmpl              int32\n",
       "highway-kmpl           int32\n",
       "price                  int32\n",
       "dtype: object"
      ]
     },
     "execution_count": 1149,
     "metadata": {},
     "output_type": "execute_result"
    }
   ],
   "source": [
    "filtered_Ntype = df.dtypes[df.dtypes.astype(str).isin(['int32','int64','float64'])]\n",
    "filtered_Ntype"
   ]
  },
  {
   "cell_type": "code",
   "execution_count": 1150,
   "id": "b78ead21",
   "metadata": {},
   "outputs": [
    {
     "data": {
      "text/plain": [
       "float64    7\n",
       "int32      6\n",
       "int64      3\n",
       "Name: count, dtype: int64"
      ]
     },
     "execution_count": 1150,
     "metadata": {},
     "output_type": "execute_result"
    }
   ],
   "source": [
    "filtered_Ntype.value_counts()"
   ]
  },
  {
   "cell_type": "markdown",
   "id": "924486c1",
   "metadata": {},
   "source": [
    "## with Numerical variables"
   ]
  },
  {
   "cell_type": "code",
   "execution_count": 1151,
   "id": "6952302e",
   "metadata": {},
   "outputs": [],
   "source": [
    "# to find correlation between bore, srtoke, compression-ratio, horsepower"
   ]
  },
  {
   "cell_type": "code",
   "execution_count": 1152,
   "id": "98368c64",
   "metadata": {},
   "outputs": [
    {
     "data": {
      "text/html": [
       "<div>\n",
       "<style scoped>\n",
       "    .dataframe tbody tr th:only-of-type {\n",
       "        vertical-align: middle;\n",
       "    }\n",
       "\n",
       "    .dataframe tbody tr th {\n",
       "        vertical-align: top;\n",
       "    }\n",
       "\n",
       "    .dataframe thead th {\n",
       "        text-align: right;\n",
       "    }\n",
       "</style>\n",
       "<table border=\"1\" class=\"dataframe\">\n",
       "  <thead>\n",
       "    <tr style=\"text-align: right;\">\n",
       "      <th></th>\n",
       "      <th>bore</th>\n",
       "      <th>stroke</th>\n",
       "      <th>compression-ratio</th>\n",
       "      <th>horsepower</th>\n",
       "    </tr>\n",
       "  </thead>\n",
       "  <tbody>\n",
       "    <tr>\n",
       "      <th>bore</th>\n",
       "      <td>1.000000</td>\n",
       "      <td>-0.051087</td>\n",
       "      <td>0.002021</td>\n",
       "      <td>0.566819</td>\n",
       "    </tr>\n",
       "    <tr>\n",
       "      <th>stroke</th>\n",
       "      <td>-0.051087</td>\n",
       "      <td>1.000000</td>\n",
       "      <td>0.186759</td>\n",
       "      <td>0.100899</td>\n",
       "    </tr>\n",
       "    <tr>\n",
       "      <th>compression-ratio</th>\n",
       "      <td>0.002021</td>\n",
       "      <td>0.186759</td>\n",
       "      <td>1.000000</td>\n",
       "      <td>-0.214260</td>\n",
       "    </tr>\n",
       "    <tr>\n",
       "      <th>horsepower</th>\n",
       "      <td>0.566819</td>\n",
       "      <td>0.100899</td>\n",
       "      <td>-0.214260</td>\n",
       "      <td>1.000000</td>\n",
       "    </tr>\n",
       "  </tbody>\n",
       "</table>\n",
       "</div>"
      ],
      "text/plain": [
       "                       bore    stroke  compression-ratio  horsepower\n",
       "bore               1.000000 -0.051087           0.002021    0.566819\n",
       "stroke            -0.051087  1.000000           0.186759    0.100899\n",
       "compression-ratio  0.002021  0.186759           1.000000   -0.214260\n",
       "horsepower         0.566819  0.100899          -0.214260    1.000000"
      ]
     },
     "execution_count": 1152,
     "metadata": {},
     "output_type": "execute_result"
    }
   ],
   "source": [
    "df[[\"bore\",\"stroke\",\"compression-ratio\",\"horsepower\"]].corr()"
   ]
  },
  {
   "cell_type": "code",
   "execution_count": 1153,
   "id": "d6ef3e50",
   "metadata": {},
   "outputs": [],
   "source": [
    "# we can see that bore and horsepower seems to have a positive correlation"
   ]
  },
  {
   "cell_type": "code",
   "execution_count": 1154,
   "id": "68a4eb88",
   "metadata": {},
   "outputs": [],
   "source": [
    "import seaborn as sns\n",
    "import matplotlib.pyplot as plt"
   ]
  },
  {
   "cell_type": "code",
   "execution_count": 1155,
   "id": "46419884",
   "metadata": {},
   "outputs": [
    {
     "data": {
      "text/plain": [
       "(0.0, 53340.77476433266)"
      ]
     },
     "execution_count": 1155,
     "metadata": {},
     "output_type": "execute_result"
    },
    {
     "data": {
      "image/png": "[encoded data removed]",
      "text/plain": [
       "<Figure size 640x480 with 1 Axes>"
      ]
     },
     "metadata": {},
     "output_type": "display_data"
    }
   ],
   "source": [
    "sns.regplot(x=\"engine-size\", y=\"price\",data=df)\n",
    "plt.ylim(0,)"
   ]
  },
  {
   "cell_type": "code",
   "execution_count": 1156,
   "id": "8ac17977",
   "metadata": {},
   "outputs": [],
   "source": [
    "# it shows that engine size has good positive direct relation with price and acts as a price predictor"
   ]
  },
  {
   "cell_type": "code",
   "execution_count": 1157,
   "id": "bf4b6ebf",
   "metadata": {},
   "outputs": [
    {
     "data": {
      "text/html": [
       "<div>\n",
       "<style scoped>\n",
       "    .dataframe tbody tr th:only-of-type {\n",
       "        vertical-align: middle;\n",
       "    }\n",
       "\n",
       "    .dataframe tbody tr th {\n",
       "        vertical-align: top;\n",
       "    }\n",
       "\n",
       "    .dataframe thead th {\n",
       "        text-align: right;\n",
       "    }\n",
       "</style>\n",
       "<table border=\"1\" class=\"dataframe\">\n",
       "  <thead>\n",
       "    <tr style=\"text-align: right;\">\n",
       "      <th></th>\n",
       "      <th>engine-size</th>\n",
       "      <th>price</th>\n",
       "    </tr>\n",
       "  </thead>\n",
       "  <tbody>\n",
       "    <tr>\n",
       "      <th>engine-size</th>\n",
       "      <td>1.000000</td>\n",
       "      <td>0.872337</td>\n",
       "    </tr>\n",
       "    <tr>\n",
       "      <th>price</th>\n",
       "      <td>0.872337</td>\n",
       "      <td>1.000000</td>\n",
       "    </tr>\n",
       "  </tbody>\n",
       "</table>\n",
       "</div>"
      ],
      "text/plain": [
       "             engine-size     price\n",
       "engine-size     1.000000  0.872337\n",
       "price           0.872337  1.000000"
      ]
     },
     "execution_count": 1157,
     "metadata": {},
     "output_type": "execute_result"
    }
   ],
   "source": [
    "df[[\"engine-size\",\"price\"]].corr()"
   ]
  },
  {
   "cell_type": "code",
   "execution_count": 1158,
   "id": "40938a1e",
   "metadata": {},
   "outputs": [],
   "source": [
    "# we can see that the above variables are having good correlation"
   ]
  },
  {
   "cell_type": "code",
   "execution_count": 1159,
   "id": "2d652c0d",
   "metadata": {},
   "outputs": [],
   "source": [
    "#lets see for horsepower and price"
   ]
  },
  {
   "cell_type": "code",
   "execution_count": 1160,
   "id": "ab0c6913",
   "metadata": {},
   "outputs": [
    {
     "data": {
      "text/plain": [
       "(0.0, 47535.316180321046)"
      ]
     },
     "execution_count": 1160,
     "metadata": {},
     "output_type": "execute_result"
    },
    {
     "data": {
      "image/png": "[encoded data removed]",
      "text/plain": [
       "<Figure size 640x480 with 1 Axes>"
      ]
     },
     "metadata": {},
     "output_type": "display_data"
    }
   ],
   "source": [
    "sns.regplot(x=\"horsepower\",y=\"price\",data=df)\n",
    "plt.ylim(0,)"
   ]
  },
  {
   "cell_type": "code",
   "execution_count": 1161,
   "id": "d8aa1a82",
   "metadata": {},
   "outputs": [
    {
     "data": {
      "text/html": [
       "<div>\n",
       "<style scoped>\n",
       "    .dataframe tbody tr th:only-of-type {\n",
       "        vertical-align: middle;\n",
       "    }\n",
       "\n",
       "    .dataframe tbody tr th {\n",
       "        vertical-align: top;\n",
       "    }\n",
       "\n",
       "    .dataframe thead th {\n",
       "        text-align: right;\n",
       "    }\n",
       "</style>\n",
       "<table border=\"1\" class=\"dataframe\">\n",
       "  <thead>\n",
       "    <tr style=\"text-align: right;\">\n",
       "      <th></th>\n",
       "      <th>horsepower</th>\n",
       "      <th>price</th>\n",
       "    </tr>\n",
       "  </thead>\n",
       "  <tbody>\n",
       "    <tr>\n",
       "      <th>horsepower</th>\n",
       "      <td>1.000000</td>\n",
       "      <td>0.809657</td>\n",
       "    </tr>\n",
       "    <tr>\n",
       "      <th>price</th>\n",
       "      <td>0.809657</td>\n",
       "      <td>1.000000</td>\n",
       "    </tr>\n",
       "  </tbody>\n",
       "</table>\n",
       "</div>"
      ],
      "text/plain": [
       "            horsepower     price\n",
       "horsepower    1.000000  0.809657\n",
       "price         0.809657  1.000000"
      ]
     },
     "execution_count": 1161,
     "metadata": {},
     "output_type": "execute_result"
    }
   ],
   "source": [
    "df[[\"horsepower\",\"price\"]].corr()"
   ]
  },
  {
   "cell_type": "code",
   "execution_count": 1162,
   "id": "42cfe8bd",
   "metadata": {},
   "outputs": [],
   "source": [
    "#lets see for peak-rpm and price"
   ]
  },
  {
   "cell_type": "code",
   "execution_count": 1163,
   "id": "9334f3dc",
   "metadata": {},
   "outputs": [
    {
     "data": {
      "text/plain": [
       "(0.0, 47414.1)"
      ]
     },
     "execution_count": 1163,
     "metadata": {},
     "output_type": "execute_result"
    },
    {
     "data": {
      "image/png": "[encoded data removed]",
      "text/plain": [
       "<Figure size 640x480 with 1 Axes>"
      ]
     },
     "metadata": {},
     "output_type": "display_data"
    }
   ],
   "source": [
    "sns.regplot(x=\"peak-rpm\",y=\"price\",data=df)\n",
    "plt.ylim(0,)"
   ]
  },
  {
   "cell_type": "code",
   "execution_count": 1164,
   "id": "0f1e4fc0",
   "metadata": {},
   "outputs": [
    {
     "data": {
      "text/html": [
       "<div>\n",
       "<style scoped>\n",
       "    .dataframe tbody tr th:only-of-type {\n",
       "        vertical-align: middle;\n",
       "    }\n",
       "\n",
       "    .dataframe tbody tr th {\n",
       "        vertical-align: top;\n",
       "    }\n",
       "\n",
       "    .dataframe thead th {\n",
       "        text-align: right;\n",
       "    }\n",
       "</style>\n",
       "<table border=\"1\" class=\"dataframe\">\n",
       "  <thead>\n",
       "    <tr style=\"text-align: right;\">\n",
       "      <th></th>\n",
       "      <th>peak-rpm</th>\n",
       "      <th>price</th>\n",
       "    </tr>\n",
       "  </thead>\n",
       "  <tbody>\n",
       "    <tr>\n",
       "      <th>peak-rpm</th>\n",
       "      <td>1.000000</td>\n",
       "      <td>-0.101593</td>\n",
       "    </tr>\n",
       "    <tr>\n",
       "      <th>price</th>\n",
       "      <td>-0.101593</td>\n",
       "      <td>1.000000</td>\n",
       "    </tr>\n",
       "  </tbody>\n",
       "</table>\n",
       "</div>"
      ],
      "text/plain": [
       "          peak-rpm     price\n",
       "peak-rpm  1.000000 -0.101593\n",
       "price    -0.101593  1.000000"
      ]
     },
     "execution_count": 1164,
     "metadata": {},
     "output_type": "execute_result"
    }
   ],
   "source": [
    "df[[\"peak-rpm\",\"price\"]].corr()"
   ]
  },
  {
   "cell_type": "code",
   "execution_count": 1165,
   "id": "9862921b",
   "metadata": {},
   "outputs": [],
   "source": [
    "# we can see a weak correlation between peak-rpm and price"
   ]
  },
  {
   "cell_type": "code",
   "execution_count": 1166,
   "id": "ac69efc1",
   "metadata": {},
   "outputs": [],
   "source": [
    "#lets see for highway-kmpl and price"
   ]
  },
  {
   "cell_type": "code",
   "execution_count": 1167,
   "id": "0e455d88",
   "metadata": {},
   "outputs": [
    {
     "data": {
      "text/plain": [
       "(0.0, 47721.04808867924)"
      ]
     },
     "execution_count": 1167,
     "metadata": {},
     "output_type": "execute_result"
    },
    {
     "data": {
      "image/png": "[encoded data removed]",
      "text/plain": [
       "<Figure size 640x480 with 1 Axes>"
      ]
     },
     "metadata": {},
     "output_type": "display_data"
    }
   ],
   "source": [
    "sns.regplot(x=\"highway-kmpl\",y=\"price\",data=df)\n",
    "plt.ylim(0,)"
   ]
  },
  {
   "cell_type": "code",
   "execution_count": 1168,
   "id": "c6ef2015",
   "metadata": {},
   "outputs": [
    {
     "data": {
      "text/html": [
       "<div>\n",
       "<style scoped>\n",
       "    .dataframe tbody tr th:only-of-type {\n",
       "        vertical-align: middle;\n",
       "    }\n",
       "\n",
       "    .dataframe tbody tr th {\n",
       "        vertical-align: top;\n",
       "    }\n",
       "\n",
       "    .dataframe thead th {\n",
       "        text-align: right;\n",
       "    }\n",
       "</style>\n",
       "<table border=\"1\" class=\"dataframe\">\n",
       "  <thead>\n",
       "    <tr style=\"text-align: right;\">\n",
       "      <th></th>\n",
       "      <th>highway-kmpl</th>\n",
       "      <th>price</th>\n",
       "    </tr>\n",
       "  </thead>\n",
       "  <tbody>\n",
       "    <tr>\n",
       "      <th>highway-kmpl</th>\n",
       "      <td>1.000000</td>\n",
       "      <td>0.776926</td>\n",
       "    </tr>\n",
       "    <tr>\n",
       "      <th>price</th>\n",
       "      <td>0.776926</td>\n",
       "      <td>1.000000</td>\n",
       "    </tr>\n",
       "  </tbody>\n",
       "</table>\n",
       "</div>"
      ],
      "text/plain": [
       "              highway-kmpl     price\n",
       "highway-kmpl      1.000000  0.776926\n",
       "price             0.776926  1.000000"
      ]
     },
     "execution_count": 1168,
     "metadata": {},
     "output_type": "execute_result"
    }
   ],
   "source": [
    "df[[\"highway-kmpl\",\"price\"]].corr()"
   ]
  },
  {
   "cell_type": "code",
   "execution_count": 1169,
   "id": "0d2b4f96",
   "metadata": {},
   "outputs": [],
   "source": [
    "#lets see for city-kmpl and price"
   ]
  },
  {
   "cell_type": "code",
   "execution_count": 1170,
   "id": "f165a87c",
   "metadata": {},
   "outputs": [
    {
     "data": {
      "text/plain": [
       "(0.0, 47722.26822800487)"
      ]
     },
     "execution_count": 1170,
     "metadata": {},
     "output_type": "execute_result"
    },
    {
     "data": {
      "image/png": "[encoded data removed]",
      "text/plain": [
       "<Figure size 640x480 with 1 Axes>"
      ]
     },
     "metadata": {},
     "output_type": "display_data"
    }
   ],
   "source": [
    "sns.regplot(x=\"city-kmpl\",y=\"price\",data=df)\n",
    "plt.ylim(0,)"
   ]
  },
  {
   "cell_type": "code",
   "execution_count": 1171,
   "id": "d0a6df9d",
   "metadata": {},
   "outputs": [
    {
     "data": {
      "text/html": [
       "<div>\n",
       "<style scoped>\n",
       "    .dataframe tbody tr th:only-of-type {\n",
       "        vertical-align: middle;\n",
       "    }\n",
       "\n",
       "    .dataframe tbody tr th {\n",
       "        vertical-align: top;\n",
       "    }\n",
       "\n",
       "    .dataframe thead th {\n",
       "        text-align: right;\n",
       "    }\n",
       "</style>\n",
       "<table border=\"1\" class=\"dataframe\">\n",
       "  <thead>\n",
       "    <tr style=\"text-align: right;\">\n",
       "      <th></th>\n",
       "      <th>city-kmpl</th>\n",
       "      <th>price</th>\n",
       "    </tr>\n",
       "  </thead>\n",
       "  <tbody>\n",
       "    <tr>\n",
       "      <th>city-kmpl</th>\n",
       "      <td>1.000000</td>\n",
       "      <td>0.796627</td>\n",
       "    </tr>\n",
       "    <tr>\n",
       "      <th>price</th>\n",
       "      <td>0.796627</td>\n",
       "      <td>1.000000</td>\n",
       "    </tr>\n",
       "  </tbody>\n",
       "</table>\n",
       "</div>"
      ],
      "text/plain": [
       "           city-kmpl     price\n",
       "city-kmpl   1.000000  0.796627\n",
       "price       0.796627  1.000000"
      ]
     },
     "execution_count": 1171,
     "metadata": {},
     "output_type": "execute_result"
    }
   ],
   "source": [
    "df[[\"city-kmpl\",\"price\"]].corr()"
   ]
  },
  {
   "cell_type": "code",
   "execution_count": 1172,
   "id": "5baba024",
   "metadata": {},
   "outputs": [],
   "source": [
    "#lets see for stroke and price"
   ]
  },
  {
   "cell_type": "code",
   "execution_count": 1173,
   "id": "0bb319e9",
   "metadata": {},
   "outputs": [
    {
     "data": {
      "text/plain": [
       "(0.0, 47414.1)"
      ]
     },
     "execution_count": 1173,
     "metadata": {},
     "output_type": "execute_result"
    },
    {
     "data": {
      "image/png": "[encoded data removed]",
      "text/plain": [
       "<Figure size 640x480 with 1 Axes>"
      ]
     },
     "metadata": {},
     "output_type": "display_data"
    }
   ],
   "source": [
    "sns.regplot(x=\"stroke\",y=\"price\",data=df)\n",
    "plt.ylim(0,)"
   ]
  },
  {
   "cell_type": "code",
   "execution_count": 1174,
   "id": "fc3d9f43",
   "metadata": {},
   "outputs": [
    {
     "data": {
      "text/html": [
       "<div>\n",
       "<style scoped>\n",
       "    .dataframe tbody tr th:only-of-type {\n",
       "        vertical-align: middle;\n",
       "    }\n",
       "\n",
       "    .dataframe tbody tr th {\n",
       "        vertical-align: top;\n",
       "    }\n",
       "\n",
       "    .dataframe thead th {\n",
       "        text-align: right;\n",
       "    }\n",
       "</style>\n",
       "<table border=\"1\" class=\"dataframe\">\n",
       "  <thead>\n",
       "    <tr style=\"text-align: right;\">\n",
       "      <th></th>\n",
       "      <th>stroke</th>\n",
       "      <th>price</th>\n",
       "    </tr>\n",
       "  </thead>\n",
       "  <tbody>\n",
       "    <tr>\n",
       "      <th>stroke</th>\n",
       "      <td>1.000000</td>\n",
       "      <td>0.083295</td>\n",
       "    </tr>\n",
       "    <tr>\n",
       "      <th>price</th>\n",
       "      <td>0.083295</td>\n",
       "      <td>1.000000</td>\n",
       "    </tr>\n",
       "  </tbody>\n",
       "</table>\n",
       "</div>"
      ],
      "text/plain": [
       "          stroke     price\n",
       "stroke  1.000000  0.083295\n",
       "price   0.083295  1.000000"
      ]
     },
     "execution_count": 1174,
     "metadata": {},
     "output_type": "execute_result"
    }
   ],
   "source": [
    "df[[\"stroke\",\"price\"]].corr()"
   ]
  },
  {
   "cell_type": "code",
   "execution_count": 1175,
   "id": "d1d07c0d",
   "metadata": {},
   "outputs": [],
   "source": [
    "# we can see a weak correlation between stroke and price"
   ]
  },
  {
   "cell_type": "markdown",
   "id": "eb86d643",
   "metadata": {},
   "source": [
    "## with Categorical variables"
   ]
  },
  {
   "cell_type": "code",
   "execution_count": 1176,
   "id": "156b9db3",
   "metadata": {},
   "outputs": [
    {
     "data": {
      "text/plain": [
       "<Axes: xlabel='body-style', ylabel='price'>"
      ]
     },
     "execution_count": 1176,
     "metadata": {},
     "output_type": "execute_result"
    },
    {
     "data": {
      "image/png": "[encoded data removed]",
      "text/plain": [
       "<Figure size 640x480 with 1 Axes>"
      ]
     },
     "metadata": {},
     "output_type": "display_data"
    }
   ],
   "source": [
    "sns.boxplot(x='body-style',y='price',data=df)"
   ]
  },
  {
   "cell_type": "code",
   "execution_count": 1177,
   "id": "148e60c9",
   "metadata": {},
   "outputs": [],
   "source": [
    "#lets see for drive-wheels and price"
   ]
  },
  {
   "cell_type": "code",
   "execution_count": 1178,
   "id": "0018fb2a",
   "metadata": {},
   "outputs": [
    {
     "data": {
      "text/plain": [
       "<Axes: xlabel='drive-wheels', ylabel='price'>"
      ]
     },
     "execution_count": 1178,
     "metadata": {},
     "output_type": "execute_result"
    },
    {
     "data": {
      "image/png": "[encoded data removed]",
      "text/plain": [
       "<Figure size 640x480 with 1 Axes>"
      ]
     },
     "metadata": {},
     "output_type": "display_data"
    }
   ],
   "source": [
    "sns.boxplot(x=\"drive-wheels\",y=\"price\",data=df)"
   ]
  },
  {
   "cell_type": "code",
   "execution_count": 1179,
   "id": "5adedd2d",
   "metadata": {},
   "outputs": [],
   "source": [
    "#lets see boxplot for engine-location and price"
   ]
  },
  {
   "cell_type": "code",
   "execution_count": 1180,
   "id": "99b9563a",
   "metadata": {},
   "outputs": [
    {
     "data": {
      "text/plain": [
       "<Axes: xlabel='engine-location', ylabel='price'>"
      ]
     },
     "execution_count": 1180,
     "metadata": {},
     "output_type": "execute_result"
    },
    {
     "data": {
      "image/png": "[encoded data removed]",
      "text/plain": [
       "<Figure size 640x480 with 1 Axes>"
      ]
     },
     "metadata": {},
     "output_type": "display_data"
    }
   ],
   "source": [
    "sns.boxplot(x=\"engine-location\",y=\"price\",data=df)"
   ]
  },
  {
   "cell_type": "code",
   "execution_count": 1181,
   "id": "15a664fc",
   "metadata": {},
   "outputs": [],
   "source": [
    "#lets see boxplot for engine-type and price"
   ]
  },
  {
   "cell_type": "code",
   "execution_count": 1182,
   "id": "68e03904",
   "metadata": {},
   "outputs": [
    {
     "data": {
      "text/plain": [
       "<Axes: xlabel='engine-type', ylabel='price'>"
      ]
     },
     "execution_count": 1182,
     "metadata": {},
     "output_type": "execute_result"
    },
    {
     "data": {
      "image/png": "[encoded data removed]",
      "text/plain": [
       "<Figure size 640x480 with 1 Axes>"
      ]
     },
     "metadata": {},
     "output_type": "display_data"
    }
   ],
   "source": [
    "sns.boxplot(x=\"engine-type\",y=\"price\",data=df)"
   ]
  },
  {
   "cell_type": "code",
   "execution_count": 1183,
   "id": "6e512788",
   "metadata": {},
   "outputs": [],
   "source": [
    "#lets see boxplot for num-of-cylinder and price"
   ]
  },
  {
   "cell_type": "code",
   "execution_count": 1184,
   "id": "f23e3782",
   "metadata": {},
   "outputs": [
    {
     "data": {
      "text/plain": [
       "<Axes: xlabel='num-of-cylinders', ylabel='price'>"
      ]
     },
     "execution_count": 1184,
     "metadata": {},
     "output_type": "execute_result"
    },
    {
     "data": {
      "image/png": "[encoded data removed]",
      "text/plain": [
       "<Figure size 640x480 with 1 Axes>"
      ]
     },
     "metadata": {},
     "output_type": "display_data"
    }
   ],
   "source": [
    "sns.boxplot(x=\"num-of-cylinders\",y=\"price\",data=df)"
   ]
  },
  {
   "cell_type": "code",
   "execution_count": 1185,
   "id": "38a427de",
   "metadata": {},
   "outputs": [],
   "source": [
    "#lets see for fuel-system and price"
   ]
  },
  {
   "cell_type": "code",
   "execution_count": 1186,
   "id": "f74205f4",
   "metadata": {},
   "outputs": [
    {
     "data": {
      "text/plain": [
       "<Axes: xlabel='fuel-system', ylabel='price'>"
      ]
     },
     "execution_count": 1186,
     "metadata": {},
     "output_type": "execute_result"
    },
    {
     "data": {
      "image/png": "[encoded data removed]",
      "text/plain": [
       "<Figure size 640x480 with 1 Axes>"
      ]
     },
     "metadata": {},
     "output_type": "display_data"
    }
   ],
   "source": [
    "sns.boxplot(x=\"fuel-system\",y=\"price\",data=df)"
   ]
  },
  {
   "cell_type": "markdown",
   "id": "058ce13b",
   "metadata": {},
   "source": [
    "### 2. Descriptive Statistical Analysis"
   ]
  },
  {
   "cell_type": "markdown",
   "id": "e02d9a9e",
   "metadata": {},
   "source": [
    "#### a) Describe() function"
   ]
  },
  {
   "cell_type": "code",
   "execution_count": 1187,
   "id": "b13d5d19",
   "metadata": {},
   "outputs": [
    {
     "data": {
      "text/html": [
       "<div>\n",
       "<style scoped>\n",
       "    .dataframe tbody tr th:only-of-type {\n",
       "        vertical-align: middle;\n",
       "    }\n",
       "\n",
       "    .dataframe tbody tr th {\n",
       "        vertical-align: top;\n",
       "    }\n",
       "\n",
       "    .dataframe thead th {\n",
       "        text-align: right;\n",
       "    }\n",
       "</style>\n",
       "<table border=\"1\" class=\"dataframe\">\n",
       "  <thead>\n",
       "    <tr style=\"text-align: right;\">\n",
       "      <th></th>\n",
       "      <th>symboling</th>\n",
       "      <th>normalized-losses</th>\n",
       "      <th>wheel-base</th>\n",
       "      <th>length</th>\n",
       "      <th>width</th>\n",
       "      <th>height</th>\n",
       "      <th>curb-weight</th>\n",
       "      <th>engine-size</th>\n",
       "      <th>bore</th>\n",
       "      <th>stroke</th>\n",
       "      <th>compression-ratio</th>\n",
       "      <th>horsepower</th>\n",
       "      <th>peak-rpm</th>\n",
       "      <th>city-kmpl</th>\n",
       "      <th>highway-kmpl</th>\n",
       "      <th>price</th>\n",
       "    </tr>\n",
       "  </thead>\n",
       "  <tbody>\n",
       "    <tr>\n",
       "      <th>count</th>\n",
       "      <td>200.000000</td>\n",
       "      <td>200.000000</td>\n",
       "      <td>200.000000</td>\n",
       "      <td>200.000000</td>\n",
       "      <td>200.000000</td>\n",
       "      <td>200.00000</td>\n",
       "      <td>200.000000</td>\n",
       "      <td>200.000000</td>\n",
       "      <td>200.000000</td>\n",
       "      <td>200.000000</td>\n",
       "      <td>200.000000</td>\n",
       "      <td>200.000000</td>\n",
       "      <td>200.000000</td>\n",
       "      <td>200.000000</td>\n",
       "      <td>200.000000</td>\n",
       "      <td>200.000000</td>\n",
       "    </tr>\n",
       "    <tr>\n",
       "      <th>mean</th>\n",
       "      <td>0.830000</td>\n",
       "      <td>122.000000</td>\n",
       "      <td>98.848000</td>\n",
       "      <td>0.834500</td>\n",
       "      <td>0.914500</td>\n",
       "      <td>0.88800</td>\n",
       "      <td>2555.705000</td>\n",
       "      <td>126.860000</td>\n",
       "      <td>3.330000</td>\n",
       "      <td>3.259850</td>\n",
       "      <td>10.170100</td>\n",
       "      <td>103.365000</td>\n",
       "      <td>5118.260000</td>\n",
       "      <td>9.965000</td>\n",
       "      <td>7.975000</td>\n",
       "      <td>13205.690000</td>\n",
       "    </tr>\n",
       "    <tr>\n",
       "      <th>std</th>\n",
       "      <td>1.248557</td>\n",
       "      <td>32.076542</td>\n",
       "      <td>6.038261</td>\n",
       "      <td>0.063084</td>\n",
       "      <td>0.036694</td>\n",
       "      <td>0.04866</td>\n",
       "      <td>518.594552</td>\n",
       "      <td>41.650501</td>\n",
       "      <td>0.268562</td>\n",
       "      <td>0.314177</td>\n",
       "      <td>4.014163</td>\n",
       "      <td>37.455525</td>\n",
       "      <td>479.240744</td>\n",
       "      <td>2.515035</td>\n",
       "      <td>1.903283</td>\n",
       "      <td>7966.982558</td>\n",
       "    </tr>\n",
       "    <tr>\n",
       "      <th>min</th>\n",
       "      <td>-2.000000</td>\n",
       "      <td>65.000000</td>\n",
       "      <td>86.600000</td>\n",
       "      <td>0.700000</td>\n",
       "      <td>0.800000</td>\n",
       "      <td>0.80000</td>\n",
       "      <td>1488.000000</td>\n",
       "      <td>61.000000</td>\n",
       "      <td>2.540000</td>\n",
       "      <td>2.070000</td>\n",
       "      <td>7.000000</td>\n",
       "      <td>48.000000</td>\n",
       "      <td>4150.000000</td>\n",
       "      <td>5.000000</td>\n",
       "      <td>4.000000</td>\n",
       "      <td>5118.000000</td>\n",
       "    </tr>\n",
       "    <tr>\n",
       "      <th>25%</th>\n",
       "      <td>0.000000</td>\n",
       "      <td>100.250000</td>\n",
       "      <td>94.500000</td>\n",
       "      <td>0.800000</td>\n",
       "      <td>0.900000</td>\n",
       "      <td>0.90000</td>\n",
       "      <td>2163.000000</td>\n",
       "      <td>97.750000</td>\n",
       "      <td>3.150000</td>\n",
       "      <td>3.117500</td>\n",
       "      <td>8.575000</td>\n",
       "      <td>70.000000</td>\n",
       "      <td>4800.000000</td>\n",
       "      <td>8.000000</td>\n",
       "      <td>7.000000</td>\n",
       "      <td>7775.000000</td>\n",
       "    </tr>\n",
       "    <tr>\n",
       "      <th>50%</th>\n",
       "      <td>1.000000</td>\n",
       "      <td>122.000000</td>\n",
       "      <td>97.000000</td>\n",
       "      <td>0.800000</td>\n",
       "      <td>0.900000</td>\n",
       "      <td>0.90000</td>\n",
       "      <td>2414.000000</td>\n",
       "      <td>119.500000</td>\n",
       "      <td>3.310000</td>\n",
       "      <td>3.290000</td>\n",
       "      <td>9.000000</td>\n",
       "      <td>95.000000</td>\n",
       "      <td>5163.000000</td>\n",
       "      <td>10.000000</td>\n",
       "      <td>8.000000</td>\n",
       "      <td>10270.000000</td>\n",
       "    </tr>\n",
       "    <tr>\n",
       "      <th>75%</th>\n",
       "      <td>2.000000</td>\n",
       "      <td>138.250000</td>\n",
       "      <td>102.400000</td>\n",
       "      <td>0.900000</td>\n",
       "      <td>0.900000</td>\n",
       "      <td>0.90000</td>\n",
       "      <td>2928.250000</td>\n",
       "      <td>142.000000</td>\n",
       "      <td>3.582500</td>\n",
       "      <td>3.410000</td>\n",
       "      <td>9.400000</td>\n",
       "      <td>116.000000</td>\n",
       "      <td>5500.000000</td>\n",
       "      <td>12.000000</td>\n",
       "      <td>9.000000</td>\n",
       "      <td>16500.750000</td>\n",
       "    </tr>\n",
       "    <tr>\n",
       "      <th>max</th>\n",
       "      <td>3.000000</td>\n",
       "      <td>256.000000</td>\n",
       "      <td>120.900000</td>\n",
       "      <td>1.000000</td>\n",
       "      <td>1.000000</td>\n",
       "      <td>1.00000</td>\n",
       "      <td>4066.000000</td>\n",
       "      <td>326.000000</td>\n",
       "      <td>3.940000</td>\n",
       "      <td>4.170000</td>\n",
       "      <td>23.000000</td>\n",
       "      <td>262.000000</td>\n",
       "      <td>6600.000000</td>\n",
       "      <td>18.000000</td>\n",
       "      <td>15.000000</td>\n",
       "      <td>45400.000000</td>\n",
       "    </tr>\n",
       "  </tbody>\n",
       "</table>\n",
       "</div>"
      ],
      "text/plain": [
       "        symboling  normalized-losses  wheel-base      length       width  \\\n",
       "count  200.000000         200.000000  200.000000  200.000000  200.000000   \n",
       "mean     0.830000         122.000000   98.848000    0.834500    0.914500   \n",
       "std      1.248557          32.076542    6.038261    0.063084    0.036694   \n",
       "min     -2.000000          65.000000   86.600000    0.700000    0.800000   \n",
       "25%      0.000000         100.250000   94.500000    0.800000    0.900000   \n",
       "50%      1.000000         122.000000   97.000000    0.800000    0.900000   \n",
       "75%      2.000000         138.250000  102.400000    0.900000    0.900000   \n",
       "max      3.000000         256.000000  120.900000    1.000000    1.000000   \n",
       "\n",
       "          height  curb-weight  engine-size        bore      stroke  \\\n",
       "count  200.00000   200.000000   200.000000  200.000000  200.000000   \n",
       "mean     0.88800  2555.705000   126.860000    3.330000    3.259850   \n",
       "std      0.04866   518.594552    41.650501    0.268562    0.314177   \n",
       "min      0.80000  1488.000000    61.000000    2.540000    2.070000   \n",
       "25%      0.90000  2163.000000    97.750000    3.150000    3.117500   \n",
       "50%      0.90000  2414.000000   119.500000    3.310000    3.290000   \n",
       "75%      0.90000  2928.250000   142.000000    3.582500    3.410000   \n",
       "max      1.00000  4066.000000   326.000000    3.940000    4.170000   \n",
       "\n",
       "       compression-ratio  horsepower     peak-rpm   city-kmpl  highway-kmpl  \\\n",
       "count         200.000000  200.000000   200.000000  200.000000    200.000000   \n",
       "mean           10.170100  103.365000  5118.260000    9.965000      7.975000   \n",
       "std             4.014163   37.455525   479.240744    2.515035      1.903283   \n",
       "min             7.000000   48.000000  4150.000000    5.000000      4.000000   \n",
       "25%             8.575000   70.000000  4800.000000    8.000000      7.000000   \n",
       "50%             9.000000   95.000000  5163.000000   10.000000      8.000000   \n",
       "75%             9.400000  116.000000  5500.000000   12.000000      9.000000   \n",
       "max            23.000000  262.000000  6600.000000   18.000000     15.000000   \n",
       "\n",
       "              price  \n",
       "count    200.000000  \n",
       "mean   13205.690000  \n",
       "std     7966.982558  \n",
       "min     5118.000000  \n",
       "25%     7775.000000  \n",
       "50%    10270.000000  \n",
       "75%    16500.750000  \n",
       "max    45400.000000  "
      ]
     },
     "execution_count": 1187,
     "metadata": {},
     "output_type": "execute_result"
    }
   ],
   "source": [
    "df.describe()"
   ]
  },
  {
   "cell_type": "code",
   "execution_count": 1188,
   "id": "83f197f3",
   "metadata": {},
   "outputs": [],
   "source": [
    "#lets include object variables also"
   ]
  },
  {
   "cell_type": "code",
   "execution_count": 1189,
   "id": "a2c9b7b3",
   "metadata": {},
   "outputs": [
    {
     "data": {
      "text/html": [
       "<div>\n",
       "<style scoped>\n",
       "    .dataframe tbody tr th:only-of-type {\n",
       "        vertical-align: middle;\n",
       "    }\n",
       "\n",
       "    .dataframe tbody tr th {\n",
       "        vertical-align: top;\n",
       "    }\n",
       "\n",
       "    .dataframe thead th {\n",
       "        text-align: right;\n",
       "    }\n",
       "</style>\n",
       "<table border=\"1\" class=\"dataframe\">\n",
       "  <thead>\n",
       "    <tr style=\"text-align: right;\">\n",
       "      <th></th>\n",
       "      <th>make</th>\n",
       "      <th>num-of-doors</th>\n",
       "      <th>body-style</th>\n",
       "      <th>drive-wheels</th>\n",
       "      <th>engine-location</th>\n",
       "      <th>engine-type</th>\n",
       "      <th>num-of-cylinders</th>\n",
       "      <th>fuel-system</th>\n",
       "    </tr>\n",
       "  </thead>\n",
       "  <tbody>\n",
       "    <tr>\n",
       "      <th>count</th>\n",
       "      <td>200</td>\n",
       "      <td>200</td>\n",
       "      <td>200</td>\n",
       "      <td>200</td>\n",
       "      <td>200</td>\n",
       "      <td>200</td>\n",
       "      <td>200</td>\n",
       "      <td>200</td>\n",
       "    </tr>\n",
       "    <tr>\n",
       "      <th>unique</th>\n",
       "      <td>22</td>\n",
       "      <td>2</td>\n",
       "      <td>5</td>\n",
       "      <td>3</td>\n",
       "      <td>2</td>\n",
       "      <td>6</td>\n",
       "      <td>7</td>\n",
       "      <td>8</td>\n",
       "    </tr>\n",
       "    <tr>\n",
       "      <th>top</th>\n",
       "      <td>toyota</td>\n",
       "      <td>four</td>\n",
       "      <td>sedan</td>\n",
       "      <td>fwd</td>\n",
       "      <td>front</td>\n",
       "      <td>ohc</td>\n",
       "      <td>four</td>\n",
       "      <td>mpfi</td>\n",
       "    </tr>\n",
       "    <tr>\n",
       "      <th>freq</th>\n",
       "      <td>32</td>\n",
       "      <td>115</td>\n",
       "      <td>94</td>\n",
       "      <td>118</td>\n",
       "      <td>197</td>\n",
       "      <td>145</td>\n",
       "      <td>156</td>\n",
       "      <td>91</td>\n",
       "    </tr>\n",
       "  </tbody>\n",
       "</table>\n",
       "</div>"
      ],
      "text/plain": [
       "          make num-of-doors body-style drive-wheels engine-location  \\\n",
       "count      200          200        200          200             200   \n",
       "unique      22            2          5            3               2   \n",
       "top     toyota         four      sedan          fwd           front   \n",
       "freq        32          115         94          118             197   \n",
       "\n",
       "       engine-type num-of-cylinders fuel-system  \n",
       "count          200              200         200  \n",
       "unique           6                7           8  \n",
       "top            ohc             four        mpfi  \n",
       "freq           145              156          91  "
      ]
     },
     "execution_count": 1189,
     "metadata": {},
     "output_type": "execute_result"
    }
   ],
   "source": [
    "df.describe(include=[\"object\"])"
   ]
  },
  {
   "cell_type": "markdown",
   "id": "00c73a34",
   "metadata": {},
   "source": [
    "#### b) Value_counts() function"
   ]
  },
  {
   "cell_type": "code",
   "execution_count": 1190,
   "id": "550725bb",
   "metadata": {},
   "outputs": [],
   "source": [
    "#lets do value count for drive-wheels"
   ]
  },
  {
   "cell_type": "code",
   "execution_count": 1191,
   "id": "2f9ce60d",
   "metadata": {},
   "outputs": [
    {
     "data": {
      "text/html": [
       "<div>\n",
       "<style scoped>\n",
       "    .dataframe tbody tr th:only-of-type {\n",
       "        vertical-align: middle;\n",
       "    }\n",
       "\n",
       "    .dataframe tbody tr th {\n",
       "        vertical-align: top;\n",
       "    }\n",
       "\n",
       "    .dataframe thead th {\n",
       "        text-align: right;\n",
       "    }\n",
       "</style>\n",
       "<table border=\"1\" class=\"dataframe\">\n",
       "  <thead>\n",
       "    <tr style=\"text-align: right;\">\n",
       "      <th></th>\n",
       "      <th>count</th>\n",
       "    </tr>\n",
       "    <tr>\n",
       "      <th>drive-wheels</th>\n",
       "      <th></th>\n",
       "    </tr>\n",
       "  </thead>\n",
       "  <tbody>\n",
       "    <tr>\n",
       "      <th>fwd</th>\n",
       "      <td>118</td>\n",
       "    </tr>\n",
       "    <tr>\n",
       "      <th>rwd</th>\n",
       "      <td>74</td>\n",
       "    </tr>\n",
       "    <tr>\n",
       "      <th>4wd</th>\n",
       "      <td>8</td>\n",
       "    </tr>\n",
       "  </tbody>\n",
       "</table>\n",
       "</div>"
      ],
      "text/plain": [
       "              count\n",
       "drive-wheels       \n",
       "fwd             118\n",
       "rwd              74\n",
       "4wd               8"
      ]
     },
     "execution_count": 1191,
     "metadata": {},
     "output_type": "execute_result"
    }
   ],
   "source": [
    "drive_wheels_counts = df['drive-wheels'].value_counts().to_frame()\n",
    "drive_wheels_counts.rename(columns={'drive-wheels': 'value_counts'}, inplace=True)\n",
    "drive_wheels_counts"
   ]
  },
  {
   "cell_type": "code",
   "execution_count": 1192,
   "id": "0c8e2172",
   "metadata": {},
   "outputs": [],
   "source": [
    "#lets do value count for body-style"
   ]
  },
  {
   "cell_type": "code",
   "execution_count": 1193,
   "id": "85561d8e",
   "metadata": {},
   "outputs": [
    {
     "data": {
      "text/html": [
       "<div>\n",
       "<style scoped>\n",
       "    .dataframe tbody tr th:only-of-type {\n",
       "        vertical-align: middle;\n",
       "    }\n",
       "\n",
       "    .dataframe tbody tr th {\n",
       "        vertical-align: top;\n",
       "    }\n",
       "\n",
       "    .dataframe thead th {\n",
       "        text-align: right;\n",
       "    }\n",
       "</style>\n",
       "<table border=\"1\" class=\"dataframe\">\n",
       "  <thead>\n",
       "    <tr style=\"text-align: right;\">\n",
       "      <th></th>\n",
       "      <th>count</th>\n",
       "    </tr>\n",
       "    <tr>\n",
       "      <th>body-style</th>\n",
       "      <th></th>\n",
       "    </tr>\n",
       "  </thead>\n",
       "  <tbody>\n",
       "    <tr>\n",
       "      <th>sedan</th>\n",
       "      <td>94</td>\n",
       "    </tr>\n",
       "    <tr>\n",
       "      <th>hatchback</th>\n",
       "      <td>68</td>\n",
       "    </tr>\n",
       "    <tr>\n",
       "      <th>wagon</th>\n",
       "      <td>25</td>\n",
       "    </tr>\n",
       "    <tr>\n",
       "      <th>hardtop</th>\n",
       "      <td>8</td>\n",
       "    </tr>\n",
       "    <tr>\n",
       "      <th>convertible</th>\n",
       "      <td>5</td>\n",
       "    </tr>\n",
       "  </tbody>\n",
       "</table>\n",
       "</div>"
      ],
      "text/plain": [
       "             count\n",
       "body-style        \n",
       "sedan           94\n",
       "hatchback       68\n",
       "wagon           25\n",
       "hardtop          8\n",
       "convertible      5"
      ]
     },
     "execution_count": 1193,
     "metadata": {},
     "output_type": "execute_result"
    }
   ],
   "source": [
    "body_style_counts = df['body-style'].value_counts().to_frame()\n",
    "body_style_counts.rename(columns={'body-style':'value_counts'},inplace=True)\n",
    "body_style_counts"
   ]
  },
  {
   "cell_type": "code",
   "execution_count": 1194,
   "id": "40824e42",
   "metadata": {},
   "outputs": [],
   "source": [
    "#lets do value count for engine-location"
   ]
  },
  {
   "cell_type": "code",
   "execution_count": 1195,
   "id": "778075c0",
   "metadata": {},
   "outputs": [
    {
     "data": {
      "text/html": [
       "<div>\n",
       "<style scoped>\n",
       "    .dataframe tbody tr th:only-of-type {\n",
       "        vertical-align: middle;\n",
       "    }\n",
       "\n",
       "    .dataframe tbody tr th {\n",
       "        vertical-align: top;\n",
       "    }\n",
       "\n",
       "    .dataframe thead th {\n",
       "        text-align: right;\n",
       "    }\n",
       "</style>\n",
       "<table border=\"1\" class=\"dataframe\">\n",
       "  <thead>\n",
       "    <tr style=\"text-align: right;\">\n",
       "      <th></th>\n",
       "      <th>count</th>\n",
       "    </tr>\n",
       "    <tr>\n",
       "      <th>engine-location</th>\n",
       "      <th></th>\n",
       "    </tr>\n",
       "  </thead>\n",
       "  <tbody>\n",
       "    <tr>\n",
       "      <th>front</th>\n",
       "      <td>197</td>\n",
       "    </tr>\n",
       "    <tr>\n",
       "      <th>rear</th>\n",
       "      <td>3</td>\n",
       "    </tr>\n",
       "  </tbody>\n",
       "</table>\n",
       "</div>"
      ],
      "text/plain": [
       "                 count\n",
       "engine-location       \n",
       "front              197\n",
       "rear                 3"
      ]
     },
     "execution_count": 1195,
     "metadata": {},
     "output_type": "execute_result"
    }
   ],
   "source": [
    "engine_location_counts=df['engine-location'].value_counts().to_frame()\n",
    "engine_location_counts.rename(columns={\"engine-location\":\"value_counts\"},inplace=True)\n",
    "engine_location_counts"
   ]
  },
  {
   "cell_type": "code",
   "execution_count": 1196,
   "id": "7d8ae5ed",
   "metadata": {},
   "outputs": [],
   "source": [
    "#lets do value count for engine-type"
   ]
  },
  {
   "cell_type": "code",
   "execution_count": 1197,
   "id": "8c7030c4",
   "metadata": {},
   "outputs": [
    {
     "data": {
      "text/html": [
       "<div>\n",
       "<style scoped>\n",
       "    .dataframe tbody tr th:only-of-type {\n",
       "        vertical-align: middle;\n",
       "    }\n",
       "\n",
       "    .dataframe tbody tr th {\n",
       "        vertical-align: top;\n",
       "    }\n",
       "\n",
       "    .dataframe thead th {\n",
       "        text-align: right;\n",
       "    }\n",
       "</style>\n",
       "<table border=\"1\" class=\"dataframe\">\n",
       "  <thead>\n",
       "    <tr style=\"text-align: right;\">\n",
       "      <th></th>\n",
       "      <th>count</th>\n",
       "    </tr>\n",
       "    <tr>\n",
       "      <th>engine-type</th>\n",
       "      <th></th>\n",
       "    </tr>\n",
       "  </thead>\n",
       "  <tbody>\n",
       "    <tr>\n",
       "      <th>ohc</th>\n",
       "      <td>145</td>\n",
       "    </tr>\n",
       "    <tr>\n",
       "      <th>ohcf</th>\n",
       "      <td>15</td>\n",
       "    </tr>\n",
       "    <tr>\n",
       "      <th>ohcv</th>\n",
       "      <td>13</td>\n",
       "    </tr>\n",
       "    <tr>\n",
       "      <th>l</th>\n",
       "      <td>12</td>\n",
       "    </tr>\n",
       "    <tr>\n",
       "      <th>dohc</th>\n",
       "      <td>11</td>\n",
       "    </tr>\n",
       "    <tr>\n",
       "      <th>rotor</th>\n",
       "      <td>4</td>\n",
       "    </tr>\n",
       "  </tbody>\n",
       "</table>\n",
       "</div>"
      ],
      "text/plain": [
       "             count\n",
       "engine-type       \n",
       "ohc            145\n",
       "ohcf            15\n",
       "ohcv            13\n",
       "l               12\n",
       "dohc            11\n",
       "rotor            4"
      ]
     },
     "execution_count": 1197,
     "metadata": {},
     "output_type": "execute_result"
    }
   ],
   "source": [
    "engine_type_counts=df['engine-type'].value_counts().to_frame()\n",
    "engine_type_counts.rename(columns={'engine-type':'value_counts'},inplace=True)\n",
    "engine_type_counts"
   ]
  },
  {
   "cell_type": "code",
   "execution_count": 1198,
   "id": "0d97875e",
   "metadata": {},
   "outputs": [],
   "source": [
    "#lets do value count for num-of-cylinders"
   ]
  },
  {
   "cell_type": "code",
   "execution_count": 1199,
   "id": "e327d8f5",
   "metadata": {},
   "outputs": [
    {
     "data": {
      "text/html": [
       "<div>\n",
       "<style scoped>\n",
       "    .dataframe tbody tr th:only-of-type {\n",
       "        vertical-align: middle;\n",
       "    }\n",
       "\n",
       "    .dataframe tbody tr th {\n",
       "        vertical-align: top;\n",
       "    }\n",
       "\n",
       "    .dataframe thead th {\n",
       "        text-align: right;\n",
       "    }\n",
       "</style>\n",
       "<table border=\"1\" class=\"dataframe\">\n",
       "  <thead>\n",
       "    <tr style=\"text-align: right;\">\n",
       "      <th></th>\n",
       "      <th>count</th>\n",
       "    </tr>\n",
       "    <tr>\n",
       "      <th>num-of-cylinders</th>\n",
       "      <th></th>\n",
       "    </tr>\n",
       "  </thead>\n",
       "  <tbody>\n",
       "    <tr>\n",
       "      <th>four</th>\n",
       "      <td>156</td>\n",
       "    </tr>\n",
       "    <tr>\n",
       "      <th>six</th>\n",
       "      <td>24</td>\n",
       "    </tr>\n",
       "    <tr>\n",
       "      <th>five</th>\n",
       "      <td>10</td>\n",
       "    </tr>\n",
       "    <tr>\n",
       "      <th>two</th>\n",
       "      <td>4</td>\n",
       "    </tr>\n",
       "    <tr>\n",
       "      <th>eight</th>\n",
       "      <td>4</td>\n",
       "    </tr>\n",
       "    <tr>\n",
       "      <th>three</th>\n",
       "      <td>1</td>\n",
       "    </tr>\n",
       "    <tr>\n",
       "      <th>twelve</th>\n",
       "      <td>1</td>\n",
       "    </tr>\n",
       "  </tbody>\n",
       "</table>\n",
       "</div>"
      ],
      "text/plain": [
       "                  count\n",
       "num-of-cylinders       \n",
       "four                156\n",
       "six                  24\n",
       "five                 10\n",
       "two                   4\n",
       "eight                 4\n",
       "three                 1\n",
       "twelve                1"
      ]
     },
     "execution_count": 1199,
     "metadata": {},
     "output_type": "execute_result"
    }
   ],
   "source": [
    "num_of_cylinders_counts = df['num-of-cylinders'].value_counts().to_frame()\n",
    "num_of_cylinders_counts.rename(columns={'num-of_cylinders':'value_counts'},inplace=True)\n",
    "num_of_cylinders_counts"
   ]
  },
  {
   "cell_type": "code",
   "execution_count": 1200,
   "id": "c2c7dad3",
   "metadata": {},
   "outputs": [],
   "source": [
    "#lets do value count for fuel-system"
   ]
  },
  {
   "cell_type": "code",
   "execution_count": 1201,
   "id": "43b1cd7d",
   "metadata": {},
   "outputs": [
    {
     "data": {
      "text/html": [
       "<div>\n",
       "<style scoped>\n",
       "    .dataframe tbody tr th:only-of-type {\n",
       "        vertical-align: middle;\n",
       "    }\n",
       "\n",
       "    .dataframe tbody tr th {\n",
       "        vertical-align: top;\n",
       "    }\n",
       "\n",
       "    .dataframe thead th {\n",
       "        text-align: right;\n",
       "    }\n",
       "</style>\n",
       "<table border=\"1\" class=\"dataframe\">\n",
       "  <thead>\n",
       "    <tr style=\"text-align: right;\">\n",
       "      <th></th>\n",
       "      <th>count</th>\n",
       "    </tr>\n",
       "    <tr>\n",
       "      <th>fuel-system</th>\n",
       "      <th></th>\n",
       "    </tr>\n",
       "  </thead>\n",
       "  <tbody>\n",
       "    <tr>\n",
       "      <th>mpfi</th>\n",
       "      <td>91</td>\n",
       "    </tr>\n",
       "    <tr>\n",
       "      <th>2bbl</th>\n",
       "      <td>64</td>\n",
       "    </tr>\n",
       "    <tr>\n",
       "      <th>idi</th>\n",
       "      <td>20</td>\n",
       "    </tr>\n",
       "    <tr>\n",
       "      <th>1bbl</th>\n",
       "      <td>11</td>\n",
       "    </tr>\n",
       "    <tr>\n",
       "      <th>spdi</th>\n",
       "      <td>9</td>\n",
       "    </tr>\n",
       "    <tr>\n",
       "      <th>4bbl</th>\n",
       "      <td>3</td>\n",
       "    </tr>\n",
       "    <tr>\n",
       "      <th>mfi</th>\n",
       "      <td>1</td>\n",
       "    </tr>\n",
       "    <tr>\n",
       "      <th>spfi</th>\n",
       "      <td>1</td>\n",
       "    </tr>\n",
       "  </tbody>\n",
       "</table>\n",
       "</div>"
      ],
      "text/plain": [
       "             count\n",
       "fuel-system       \n",
       "mpfi            91\n",
       "2bbl            64\n",
       "idi             20\n",
       "1bbl            11\n",
       "spdi             9\n",
       "4bbl             3\n",
       "mfi              1\n",
       "spfi             1"
      ]
     },
     "execution_count": 1201,
     "metadata": {},
     "output_type": "execute_result"
    }
   ],
   "source": [
    "fuel_system_counts = df['fuel-system'].value_counts().to_frame()\n",
    "fuel_system_counts.rename(columns={'fuel-system':'value_counts'},inplace=True)\n",
    "fuel_system_counts"
   ]
  },
  {
   "cell_type": "markdown",
   "id": "8275cd72",
   "metadata": {},
   "source": [
    "#### c) Groupby() method"
   ]
  },
  {
   "cell_type": "code",
   "execution_count": 1202,
   "id": "cd530d69",
   "metadata": {},
   "outputs": [
    {
     "data": {
      "text/plain": [
       "array(['rwd', 'fwd', '4wd'], dtype=object)"
      ]
     },
     "execution_count": 1202,
     "metadata": {},
     "output_type": "execute_result"
    }
   ],
   "source": [
    "df['drive-wheels'].unique()"
   ]
  },
  {
   "cell_type": "code",
   "execution_count": 1203,
   "id": "ee530862",
   "metadata": {},
   "outputs": [
    {
     "data": {
      "text/html": [
       "<div>\n",
       "<style scoped>\n",
       "    .dataframe tbody tr th:only-of-type {\n",
       "        vertical-align: middle;\n",
       "    }\n",
       "\n",
       "    .dataframe tbody tr th {\n",
       "        vertical-align: top;\n",
       "    }\n",
       "\n",
       "    .dataframe thead th {\n",
       "        text-align: right;\n",
       "    }\n",
       "</style>\n",
       "<table border=\"1\" class=\"dataframe\">\n",
       "  <thead>\n",
       "    <tr style=\"text-align: right;\">\n",
       "      <th></th>\n",
       "      <th>drive-wheels</th>\n",
       "      <th>body-style</th>\n",
       "      <th>price</th>\n",
       "    </tr>\n",
       "  </thead>\n",
       "  <tbody>\n",
       "    <tr>\n",
       "      <th>0</th>\n",
       "      <td>4wd</td>\n",
       "      <td>hatchback</td>\n",
       "      <td>7603.000000</td>\n",
       "    </tr>\n",
       "    <tr>\n",
       "      <th>1</th>\n",
       "      <td>4wd</td>\n",
       "      <td>sedan</td>\n",
       "      <td>12647.333333</td>\n",
       "    </tr>\n",
       "    <tr>\n",
       "      <th>2</th>\n",
       "      <td>4wd</td>\n",
       "      <td>wagon</td>\n",
       "      <td>9095.750000</td>\n",
       "    </tr>\n",
       "    <tr>\n",
       "      <th>3</th>\n",
       "      <td>fwd</td>\n",
       "      <td>convertible</td>\n",
       "      <td>11595.000000</td>\n",
       "    </tr>\n",
       "    <tr>\n",
       "      <th>4</th>\n",
       "      <td>fwd</td>\n",
       "      <td>hardtop</td>\n",
       "      <td>8249.000000</td>\n",
       "    </tr>\n",
       "    <tr>\n",
       "      <th>5</th>\n",
       "      <td>fwd</td>\n",
       "      <td>hatchback</td>\n",
       "      <td>8396.387755</td>\n",
       "    </tr>\n",
       "    <tr>\n",
       "      <th>6</th>\n",
       "      <td>fwd</td>\n",
       "      <td>sedan</td>\n",
       "      <td>9811.800000</td>\n",
       "    </tr>\n",
       "    <tr>\n",
       "      <th>7</th>\n",
       "      <td>fwd</td>\n",
       "      <td>wagon</td>\n",
       "      <td>9997.333333</td>\n",
       "    </tr>\n",
       "    <tr>\n",
       "      <th>8</th>\n",
       "      <td>rwd</td>\n",
       "      <td>convertible</td>\n",
       "      <td>26563.250000</td>\n",
       "    </tr>\n",
       "    <tr>\n",
       "      <th>9</th>\n",
       "      <td>rwd</td>\n",
       "      <td>hardtop</td>\n",
       "      <td>24202.714286</td>\n",
       "    </tr>\n",
       "    <tr>\n",
       "      <th>10</th>\n",
       "      <td>rwd</td>\n",
       "      <td>hatchback</td>\n",
       "      <td>14337.777778</td>\n",
       "    </tr>\n",
       "    <tr>\n",
       "      <th>11</th>\n",
       "      <td>rwd</td>\n",
       "      <td>sedan</td>\n",
       "      <td>21711.833333</td>\n",
       "    </tr>\n",
       "    <tr>\n",
       "      <th>12</th>\n",
       "      <td>rwd</td>\n",
       "      <td>wagon</td>\n",
       "      <td>16994.222222</td>\n",
       "    </tr>\n",
       "  </tbody>\n",
       "</table>\n",
       "</div>"
      ],
      "text/plain": [
       "   drive-wheels   body-style         price\n",
       "0           4wd    hatchback   7603.000000\n",
       "1           4wd        sedan  12647.333333\n",
       "2           4wd        wagon   9095.750000\n",
       "3           fwd  convertible  11595.000000\n",
       "4           fwd      hardtop   8249.000000\n",
       "5           fwd    hatchback   8396.387755\n",
       "6           fwd        sedan   9811.800000\n",
       "7           fwd        wagon   9997.333333\n",
       "8           rwd  convertible  26563.250000\n",
       "9           rwd      hardtop  24202.714286\n",
       "10          rwd    hatchback  14337.777778\n",
       "11          rwd        sedan  21711.833333\n",
       "12          rwd        wagon  16994.222222"
      ]
     },
     "execution_count": 1203,
     "metadata": {},
     "output_type": "execute_result"
    }
   ],
   "source": [
    "df_group_one = df[['drive-wheels','body-style','price']]\n",
    "df_group_one = df_group_one.groupby(['drive-wheels','body-style'],as_index=False).mean()\n",
    "df_group_one"
   ]
  },
  {
   "cell_type": "code",
   "execution_count": 1204,
   "id": "67174ff5",
   "metadata": {},
   "outputs": [
    {
     "data": {
      "text/html": [
       "<div>\n",
       "<style scoped>\n",
       "    .dataframe tbody tr th:only-of-type {\n",
       "        vertical-align: middle;\n",
       "    }\n",
       "\n",
       "    .dataframe tbody tr th {\n",
       "        vertical-align: top;\n",
       "    }\n",
       "\n",
       "    .dataframe thead tr th {\n",
       "        text-align: left;\n",
       "    }\n",
       "\n",
       "    .dataframe thead tr:last-of-type th {\n",
       "        text-align: right;\n",
       "    }\n",
       "</style>\n",
       "<table border=\"1\" class=\"dataframe\">\n",
       "  <thead>\n",
       "    <tr>\n",
       "      <th></th>\n",
       "      <th colspan=\"5\" halign=\"left\">price</th>\n",
       "    </tr>\n",
       "    <tr>\n",
       "      <th>body-style</th>\n",
       "      <th>convertible</th>\n",
       "      <th>hardtop</th>\n",
       "      <th>hatchback</th>\n",
       "      <th>sedan</th>\n",
       "      <th>wagon</th>\n",
       "    </tr>\n",
       "    <tr>\n",
       "      <th>drive-wheels</th>\n",
       "      <th></th>\n",
       "      <th></th>\n",
       "      <th></th>\n",
       "      <th></th>\n",
       "      <th></th>\n",
       "    </tr>\n",
       "  </thead>\n",
       "  <tbody>\n",
       "    <tr>\n",
       "      <th>4wd</th>\n",
       "      <td>0.00</td>\n",
       "      <td>0.000000</td>\n",
       "      <td>7603.000000</td>\n",
       "      <td>12647.333333</td>\n",
       "      <td>9095.750000</td>\n",
       "    </tr>\n",
       "    <tr>\n",
       "      <th>fwd</th>\n",
       "      <td>11595.00</td>\n",
       "      <td>8249.000000</td>\n",
       "      <td>8396.387755</td>\n",
       "      <td>9811.800000</td>\n",
       "      <td>9997.333333</td>\n",
       "    </tr>\n",
       "    <tr>\n",
       "      <th>rwd</th>\n",
       "      <td>26563.25</td>\n",
       "      <td>24202.714286</td>\n",
       "      <td>14337.777778</td>\n",
       "      <td>21711.833333</td>\n",
       "      <td>16994.222222</td>\n",
       "    </tr>\n",
       "  </tbody>\n",
       "</table>\n",
       "</div>"
      ],
      "text/plain": [
       "                   price                                            \\\n",
       "body-style   convertible       hardtop     hatchback         sedan   \n",
       "drive-wheels                                                         \n",
       "4wd                 0.00      0.000000   7603.000000  12647.333333   \n",
       "fwd             11595.00   8249.000000   8396.387755   9811.800000   \n",
       "rwd             26563.25  24202.714286  14337.777778  21711.833333   \n",
       "\n",
       "                            \n",
       "body-style           wagon  \n",
       "drive-wheels                \n",
       "4wd            9095.750000  \n",
       "fwd            9997.333333  \n",
       "rwd           16994.222222  "
      ]
     },
     "execution_count": 1204,
     "metadata": {},
     "output_type": "execute_result"
    }
   ],
   "source": [
    "df_pivot=df_group_one.pivot(index='drive-wheels',columns='body-style')\n",
    "df_pivot=df_pivot.fillna(0)\n",
    "df_pivot"
   ]
  },
  {
   "cell_type": "code",
   "execution_count": 1205,
   "id": "b62da15a",
   "metadata": {},
   "outputs": [
    {
     "data": {
      "image/png": "[encoded data removed]",
      "text/plain": [
       "<Figure size 640x480 with 2 Axes>"
      ]
     },
     "metadata": {},
     "output_type": "display_data"
    }
   ],
   "source": [
    "fig, ax = plt.subplots()\n",
    "im = ax.pcolor(df_pivot, cmap='RdBu')\n",
    "\n",
    "#label names\n",
    "row_labels = df_pivot.columns.levels[1]\n",
    "col_labels = df_pivot.index\n",
    "\n",
    "#move ticks and labels to the center\n",
    "ax.set_xticks(np.arange(df_pivot.shape[1]) + 0.5, minor=False)\n",
    "ax.set_yticks(np.arange(df_pivot.shape[0]) + 0.5, minor=False)\n",
    "\n",
    "#insert labels\n",
    "ax.set_xticklabels(row_labels, minor=False)\n",
    "ax.set_yticklabels(col_labels, minor=False)\n",
    "\n",
    "#rotate label if too long\n",
    "plt.xticks(rotation=90)\n",
    "\n",
    "fig.colorbar(im)\n",
    "plt.show()"
   ]
  },
  {
   "cell_type": "code",
   "execution_count": 1206,
   "id": "c75d939e",
   "metadata": {},
   "outputs": [
    {
     "data": {
      "text/html": [
       "<div>\n",
       "<style scoped>\n",
       "    .dataframe tbody tr th:only-of-type {\n",
       "        vertical-align: middle;\n",
       "    }\n",
       "\n",
       "    .dataframe tbody tr th {\n",
       "        vertical-align: top;\n",
       "    }\n",
       "\n",
       "    .dataframe thead th {\n",
       "        text-align: right;\n",
       "    }\n",
       "</style>\n",
       "<table border=\"1\" class=\"dataframe\">\n",
       "  <thead>\n",
       "    <tr style=\"text-align: right;\">\n",
       "      <th></th>\n",
       "      <th>body-style</th>\n",
       "      <th>price</th>\n",
       "    </tr>\n",
       "  </thead>\n",
       "  <tbody>\n",
       "    <tr>\n",
       "      <th>0</th>\n",
       "      <td>convertible</td>\n",
       "      <td>23569.600000</td>\n",
       "    </tr>\n",
       "    <tr>\n",
       "      <th>1</th>\n",
       "      <td>hardtop</td>\n",
       "      <td>22208.500000</td>\n",
       "    </tr>\n",
       "    <tr>\n",
       "      <th>2</th>\n",
       "      <td>hatchback</td>\n",
       "      <td>9957.441176</td>\n",
       "    </tr>\n",
       "    <tr>\n",
       "      <th>3</th>\n",
       "      <td>sedan</td>\n",
       "      <td>14459.755319</td>\n",
       "    </tr>\n",
       "    <tr>\n",
       "      <th>4</th>\n",
       "      <td>wagon</td>\n",
       "      <td>12371.960000</td>\n",
       "    </tr>\n",
       "  </tbody>\n",
       "</table>\n",
       "</div>"
      ],
      "text/plain": [
       "    body-style         price\n",
       "0  convertible  23569.600000\n",
       "1      hardtop  22208.500000\n",
       "2    hatchback   9957.441176\n",
       "3        sedan  14459.755319\n",
       "4        wagon  12371.960000"
      ]
     },
     "execution_count": 1206,
     "metadata": {},
     "output_type": "execute_result"
    }
   ],
   "source": [
    "df_test2=df[['body-style','price']]\n",
    "df_grp2=df_test2.groupby(['body-style'],as_index=False).mean()\n",
    "df_grp2"
   ]
  },
  {
   "cell_type": "code",
   "execution_count": 1207,
   "id": "c83764f9",
   "metadata": {},
   "outputs": [],
   "source": [
    "# we can see that \"convertible\" body-style has highest avg.price"
   ]
  },
  {
   "cell_type": "code",
   "execution_count": 1208,
   "id": "16afab47",
   "metadata": {},
   "outputs": [],
   "source": [
    "#lets check for num_of_cylinders"
   ]
  },
  {
   "cell_type": "code",
   "execution_count": 1209,
   "id": "3f9488b2",
   "metadata": {},
   "outputs": [
    {
     "data": {
      "text/html": [
       "<div>\n",
       "<style scoped>\n",
       "    .dataframe tbody tr th:only-of-type {\n",
       "        vertical-align: middle;\n",
       "    }\n",
       "\n",
       "    .dataframe tbody tr th {\n",
       "        vertical-align: top;\n",
       "    }\n",
       "\n",
       "    .dataframe thead th {\n",
       "        text-align: right;\n",
       "    }\n",
       "</style>\n",
       "<table border=\"1\" class=\"dataframe\">\n",
       "  <thead>\n",
       "    <tr style=\"text-align: right;\">\n",
       "      <th></th>\n",
       "      <th>num-of-cylinders</th>\n",
       "      <th>price</th>\n",
       "    </tr>\n",
       "  </thead>\n",
       "  <tbody>\n",
       "    <tr>\n",
       "      <th>0</th>\n",
       "      <td>eight</td>\n",
       "      <td>38900.000000</td>\n",
       "    </tr>\n",
       "    <tr>\n",
       "      <th>1</th>\n",
       "      <td>five</td>\n",
       "      <td>22007.600000</td>\n",
       "    </tr>\n",
       "    <tr>\n",
       "      <th>2</th>\n",
       "      <td>four</td>\n",
       "      <td>10282.737179</td>\n",
       "    </tr>\n",
       "    <tr>\n",
       "      <th>3</th>\n",
       "      <td>six</td>\n",
       "      <td>23671.833333</td>\n",
       "    </tr>\n",
       "    <tr>\n",
       "      <th>4</th>\n",
       "      <td>three</td>\n",
       "      <td>5151.000000</td>\n",
       "    </tr>\n",
       "    <tr>\n",
       "      <th>5</th>\n",
       "      <td>twelve</td>\n",
       "      <td>36000.000000</td>\n",
       "    </tr>\n",
       "    <tr>\n",
       "      <th>6</th>\n",
       "      <td>two</td>\n",
       "      <td>13020.000000</td>\n",
       "    </tr>\n",
       "  </tbody>\n",
       "</table>\n",
       "</div>"
      ],
      "text/plain": [
       "  num-of-cylinders         price\n",
       "0            eight  38900.000000\n",
       "1             five  22007.600000\n",
       "2             four  10282.737179\n",
       "3              six  23671.833333\n",
       "4            three   5151.000000\n",
       "5           twelve  36000.000000\n",
       "6              two  13020.000000"
      ]
     },
     "execution_count": 1209,
     "metadata": {},
     "output_type": "execute_result"
    }
   ],
   "source": [
    "df_test3=df[['num-of-cylinders','price']]\n",
    "df_grp3=df_test3.groupby(['num-of-cylinders'],as_index=False).mean()\n",
    "df_grp3"
   ]
  },
  {
   "cell_type": "code",
   "execution_count": 1210,
   "id": "c7de2086",
   "metadata": {},
   "outputs": [],
   "source": [
    "# we can see that as no.of cylinders increases the price increases, and the cars with 8 cylinders have the highest price"
   ]
  },
  {
   "cell_type": "code",
   "execution_count": 1211,
   "id": "b6a2ca63",
   "metadata": {},
   "outputs": [],
   "source": [
    "#lets check for fuel-system"
   ]
  },
  {
   "cell_type": "code",
   "execution_count": 1212,
   "id": "323dd449",
   "metadata": {},
   "outputs": [
    {
     "data": {
      "text/html": [
       "<div>\n",
       "<style scoped>\n",
       "    .dataframe tbody tr th:only-of-type {\n",
       "        vertical-align: middle;\n",
       "    }\n",
       "\n",
       "    .dataframe tbody tr th {\n",
       "        vertical-align: top;\n",
       "    }\n",
       "\n",
       "    .dataframe thead th {\n",
       "        text-align: right;\n",
       "    }\n",
       "</style>\n",
       "<table border=\"1\" class=\"dataframe\">\n",
       "  <thead>\n",
       "    <tr style=\"text-align: right;\">\n",
       "      <th></th>\n",
       "      <th>fuel-system</th>\n",
       "      <th>price</th>\n",
       "    </tr>\n",
       "  </thead>\n",
       "  <tbody>\n",
       "    <tr>\n",
       "      <th>0</th>\n",
       "      <td>1bbl</td>\n",
       "      <td>7555.545455</td>\n",
       "    </tr>\n",
       "    <tr>\n",
       "      <th>1</th>\n",
       "      <td>2bbl</td>\n",
       "      <td>7433.203125</td>\n",
       "    </tr>\n",
       "    <tr>\n",
       "      <th>2</th>\n",
       "      <td>4bbl</td>\n",
       "      <td>12145.000000</td>\n",
       "    </tr>\n",
       "    <tr>\n",
       "      <th>3</th>\n",
       "      <td>idi</td>\n",
       "      <td>15838.150000</td>\n",
       "    </tr>\n",
       "    <tr>\n",
       "      <th>4</th>\n",
       "      <td>mfi</td>\n",
       "      <td>12964.000000</td>\n",
       "    </tr>\n",
       "    <tr>\n",
       "      <th>5</th>\n",
       "      <td>mpfi</td>\n",
       "      <td>17650.307692</td>\n",
       "    </tr>\n",
       "    <tr>\n",
       "      <th>6</th>\n",
       "      <td>spdi</td>\n",
       "      <td>10990.444444</td>\n",
       "    </tr>\n",
       "    <tr>\n",
       "      <th>7</th>\n",
       "      <td>spfi</td>\n",
       "      <td>11048.000000</td>\n",
       "    </tr>\n",
       "  </tbody>\n",
       "</table>\n",
       "</div>"
      ],
      "text/plain": [
       "  fuel-system         price\n",
       "0        1bbl   7555.545455\n",
       "1        2bbl   7433.203125\n",
       "2        4bbl  12145.000000\n",
       "3         idi  15838.150000\n",
       "4         mfi  12964.000000\n",
       "5        mpfi  17650.307692\n",
       "6        spdi  10990.444444\n",
       "7        spfi  11048.000000"
      ]
     },
     "execution_count": 1212,
     "metadata": {},
     "output_type": "execute_result"
    }
   ],
   "source": [
    "df_test4=df[['fuel-system','price']]\n",
    "df_grp4=df_test4.groupby(['fuel-system'],as_index=False).mean()\n",
    "df_grp4"
   ]
  },
  {
   "cell_type": "code",
   "execution_count": 1213,
   "id": "55c29d31",
   "metadata": {},
   "outputs": [],
   "source": [
    "# we can see that 1bbl have highest avg.price"
   ]
  },
  {
   "cell_type": "markdown",
   "id": "066fd10c",
   "metadata": {},
   "source": [
    "## Pearson correlation and P-value"
   ]
  },
  {
   "cell_type": "code",
   "execution_count": 1214,
   "id": "1f0ebe0d",
   "metadata": {},
   "outputs": [],
   "source": [
    "#lets check correlation between wheel-base and price"
   ]
  },
  {
   "cell_type": "code",
   "execution_count": 1215,
   "id": "e2445510",
   "metadata": {},
   "outputs": [
    {
     "name": "stdout",
     "output_type": "stream",
     "text": [
      "The Pearson Correlation Coefficient is 0.5891470005448702  with a P-value of P = 4.457019502050271e-20\n"
     ]
    }
   ],
   "source": [
    "from scipy import stats\n",
    "pearson_coef, p_value = stats.pearsonr(df['wheel-base'], df['price'])\n",
    "print(\"The Pearson Correlation Coefficient is\", pearson_coef, \" with a P-value of P =\", p_value)  "
   ]
  },
  {
   "cell_type": "code",
   "execution_count": 1216,
   "id": "9aa1030c",
   "metadata": {},
   "outputs": [],
   "source": [
    "#linear relation isnt strong but correlation is signficiant"
   ]
  },
  {
   "cell_type": "code",
   "execution_count": 1217,
   "id": "b846e8fc",
   "metadata": {},
   "outputs": [],
   "source": [
    "#lets check correlation between horsepower and price"
   ]
  },
  {
   "cell_type": "code",
   "execution_count": 1218,
   "id": "f4a4f393",
   "metadata": {},
   "outputs": [
    {
     "name": "stdout",
     "output_type": "stream",
     "text": [
      "The Pearson Correlation Coefficient is 0.8096565575365611  with a P-value of P = 1.0468839625926889e-47\n"
     ]
    }
   ],
   "source": [
    "pearson_coef,p_value = stats.pearsonr(df['horsepower'],df['price'])\n",
    "print(\"The Pearson Correlation Coefficient is\", pearson_coef, \" with a P-value of P =\", p_value)"
   ]
  },
  {
   "cell_type": "code",
   "execution_count": 1219,
   "id": "53452b45",
   "metadata": {},
   "outputs": [],
   "source": [
    "#linear relation is significiant strong and as correlation"
   ]
  },
  {
   "cell_type": "code",
   "execution_count": 1220,
   "id": "3953a18e",
   "metadata": {},
   "outputs": [],
   "source": [
    "#lets check correlation between length and price"
   ]
  },
  {
   "cell_type": "code",
   "execution_count": 1221,
   "id": "45d19d86",
   "metadata": {},
   "outputs": [
    {
     "name": "stdout",
     "output_type": "stream",
     "text": [
      "The pearson correlation coefficient is 0.6167919808532225 with p_value of p = 2.378138985841883e-22\n"
     ]
    }
   ],
   "source": [
    "pearson_coef,p_value= stats.pearsonr(df['length'],df['price'])\n",
    "print('The pearson correlation coefficient is',pearson_coef,'with p_value of p =',p_value)"
   ]
  },
  {
   "cell_type": "code",
   "execution_count": 1222,
   "id": "d7e2bfff",
   "metadata": {},
   "outputs": [],
   "source": [
    "#linear relation isnt strong but correlation is signficiant"
   ]
  },
  {
   "cell_type": "code",
   "execution_count": 1223,
   "id": "3cf0790c",
   "metadata": {},
   "outputs": [],
   "source": [
    "#lets check correlation between width and price"
   ]
  },
  {
   "cell_type": "code",
   "execution_count": 1224,
   "id": "0865139d",
   "metadata": {},
   "outputs": [
    {
     "name": "stdout",
     "output_type": "stream",
     "text": [
      "The pearson correlation coefficient is 0.5791775480762448 with p_value of p = 2.6091707881189077e-19\n"
     ]
    }
   ],
   "source": [
    "pearson_coef,p_value= stats.pearsonr(df['width'],df['price'])\n",
    "print('The pearson correlation coefficient is',pearson_coef,'with p_value of p =',p_value)"
   ]
  },
  {
   "cell_type": "code",
   "execution_count": 1225,
   "id": "8e27953e",
   "metadata": {},
   "outputs": [],
   "source": [
    "#linear relation isnt strong but correlation is signficiant"
   ]
  },
  {
   "cell_type": "code",
   "execution_count": 1226,
   "id": "ff161132",
   "metadata": {},
   "outputs": [],
   "source": [
    "#lets check correlation between curb-weight and price"
   ]
  },
  {
   "cell_type": "code",
   "execution_count": 1227,
   "id": "bd25cbfb",
   "metadata": {},
   "outputs": [
    {
     "name": "stdout",
     "output_type": "stream",
     "text": [
      "The pearson correlation coefficient is 0.8344204348498461 with p_value of p = 3.969977536021817e-53\n"
     ]
    }
   ],
   "source": [
    "pearson_coef,p_value= stats.pearsonr(df['curb-weight'],df['price'])\n",
    "print('The pearson correlation coefficient is',pearson_coef,'with p_value of p =',p_value)"
   ]
  },
  {
   "cell_type": "code",
   "execution_count": 1228,
   "id": "62c16e7e",
   "metadata": {},
   "outputs": [],
   "source": [
    "#linear relation is significiant strong and as correlation"
   ]
  },
  {
   "cell_type": "code",
   "execution_count": 1229,
   "id": "fadc8f52",
   "metadata": {},
   "outputs": [],
   "source": [
    "#lets check correlation between engine-size and price"
   ]
  },
  {
   "cell_type": "code",
   "execution_count": 1230,
   "id": "8dff9bc6",
   "metadata": {},
   "outputs": [
    {
     "name": "stdout",
     "output_type": "stream",
     "text": [
      "The pearson correlation coefficient is 0.8723367498521142 with p_value of p = 1.8977171466561833e-63\n"
     ]
    }
   ],
   "source": [
    "pearson_coef,p_value= stats.pearsonr(df['engine-size'],df['price'])\n",
    "print('The pearson correlation coefficient is',pearson_coef,'with p_value of p =',p_value)"
   ]
  },
  {
   "cell_type": "code",
   "execution_count": 1231,
   "id": "0d1473a6",
   "metadata": {},
   "outputs": [],
   "source": [
    "#linear relation is significiant strong and as correlation"
   ]
  },
  {
   "cell_type": "code",
   "execution_count": 1232,
   "id": "7386d0a3",
   "metadata": {},
   "outputs": [],
   "source": [
    "#lets check correlation between bore and price"
   ]
  },
  {
   "cell_type": "code",
   "execution_count": 1233,
   "id": "30ff4f63",
   "metadata": {},
   "outputs": [
    {
     "name": "stdout",
     "output_type": "stream",
     "text": [
      "The pearson correlation coefficient is 0.5434310033088074 with p_value of p = 9.209749630850712e-17\n"
     ]
    }
   ],
   "source": [
    "pearson_coef,p_value= stats.pearsonr(df['bore'],df['price'])\n",
    "print('The pearson correlation coefficient is',pearson_coef,'with p_value of p =',p_value)"
   ]
  },
  {
   "cell_type": "code",
   "execution_count": 1234,
   "id": "b7a62f7e",
   "metadata": {},
   "outputs": [],
   "source": [
    "#linear relation isnt strong but correlation is signficiant"
   ]
  },
  {
   "cell_type": "code",
   "execution_count": 1235,
   "id": "26cddc63",
   "metadata": {},
   "outputs": [],
   "source": [
    "#lets check correlation between city-kmpl and price"
   ]
  },
  {
   "cell_type": "code",
   "execution_count": 1236,
   "id": "4ca53717",
   "metadata": {},
   "outputs": [
    {
     "name": "stdout",
     "output_type": "stream",
     "text": [
      "The pearson correlation coefficient is 0.7966273815190126 with p_value of p = 3.654781176685478e-45\n"
     ]
    }
   ],
   "source": [
    "pearson_coef,p_value= stats.pearsonr(df['city-kmpl'],df['price'])\n",
    "print('The pearson correlation coefficient is',pearson_coef,'with p_value of p =',p_value)"
   ]
  },
  {
   "cell_type": "code",
   "execution_count": 1237,
   "id": "33558633",
   "metadata": {},
   "outputs": [],
   "source": [
    "#linear relation is significiant strong and as correlation"
   ]
  },
  {
   "cell_type": "code",
   "execution_count": 1238,
   "id": "aeca1df1",
   "metadata": {},
   "outputs": [],
   "source": [
    "#lets check correlation between highway-kmpl and price"
   ]
  },
  {
   "cell_type": "code",
   "execution_count": 1239,
   "id": "7f0fbeff",
   "metadata": {},
   "outputs": [
    {
     "name": "stdout",
     "output_type": "stream",
     "text": [
      "The pearson correlation coefficient is 0.776926486323497 with p_value of p = 1.1882122324612203e-41\n"
     ]
    }
   ],
   "source": [
    "pearson_coef,p_value= stats.pearsonr(df['highway-kmpl'],df['price'])\n",
    "print('The pearson correlation coefficient is',pearson_coef,'with p_value of p =',p_value)"
   ]
  },
  {
   "cell_type": "code",
   "execution_count": 1240,
   "id": "298897c5",
   "metadata": {},
   "outputs": [],
   "source": [
    "#linear relation isnt strong but correlation is signficiant"
   ]
  },
  {
   "cell_type": "code",
   "execution_count": 1241,
   "id": "94aa969a",
   "metadata": {},
   "outputs": [
    {
     "data": {
      "text/html": [
       "<div>\n",
       "<style scoped>\n",
       "    .dataframe tbody tr th:only-of-type {\n",
       "        vertical-align: middle;\n",
       "    }\n",
       "\n",
       "    .dataframe tbody tr th {\n",
       "        vertical-align: top;\n",
       "    }\n",
       "\n",
       "    .dataframe thead th {\n",
       "        text-align: right;\n",
       "    }\n",
       "</style>\n",
       "<table border=\"1\" class=\"dataframe\">\n",
       "  <thead>\n",
       "    <tr style=\"text-align: right;\">\n",
       "      <th></th>\n",
       "      <th>symboling</th>\n",
       "      <th>normalized-losses</th>\n",
       "      <th>make</th>\n",
       "      <th>num-of-doors</th>\n",
       "      <th>body-style</th>\n",
       "      <th>drive-wheels</th>\n",
       "      <th>engine-location</th>\n",
       "      <th>wheel-base</th>\n",
       "      <th>length</th>\n",
       "      <th>width</th>\n",
       "      <th>height</th>\n",
       "      <th>curb-weight</th>\n",
       "      <th>engine-type</th>\n",
       "      <th>num-of-cylinders</th>\n",
       "      <th>engine-size</th>\n",
       "      <th>fuel-system</th>\n",
       "      <th>bore</th>\n",
       "      <th>stroke</th>\n",
       "      <th>compression-ratio</th>\n",
       "      <th>horsepower</th>\n",
       "      <th>peak-rpm</th>\n",
       "      <th>city-kmpl</th>\n",
       "      <th>highway-kmpl</th>\n",
       "      <th>price</th>\n",
       "      <th>horsepower-binned</th>\n",
       "      <th>fuel-type-diesel</th>\n",
       "      <th>fuel-type-gas</th>\n",
       "      <th>aspiration_std</th>\n",
       "      <th>aspiration-turbo</th>\n",
       "    </tr>\n",
       "  </thead>\n",
       "  <tbody>\n",
       "    <tr>\n",
       "      <th>0</th>\n",
       "      <td>3</td>\n",
       "      <td>122</td>\n",
       "      <td>alfa-romero</td>\n",
       "      <td>two</td>\n",
       "      <td>convertible</td>\n",
       "      <td>rwd</td>\n",
       "      <td>front</td>\n",
       "      <td>88.6</td>\n",
       "      <td>0.8</td>\n",
       "      <td>0.9</td>\n",
       "      <td>0.8</td>\n",
       "      <td>2548</td>\n",
       "      <td>dohc</td>\n",
       "      <td>four</td>\n",
       "      <td>130</td>\n",
       "      <td>mpfi</td>\n",
       "      <td>3.47</td>\n",
       "      <td>2.68</td>\n",
       "      <td>9.0</td>\n",
       "      <td>111</td>\n",
       "      <td>5000</td>\n",
       "      <td>11</td>\n",
       "      <td>9</td>\n",
       "      <td>16500</td>\n",
       "      <td>low</td>\n",
       "      <td>False</td>\n",
       "      <td>True</td>\n",
       "      <td>True</td>\n",
       "      <td>False</td>\n",
       "    </tr>\n",
       "    <tr>\n",
       "      <th>1</th>\n",
       "      <td>1</td>\n",
       "      <td>122</td>\n",
       "      <td>alfa-romero</td>\n",
       "      <td>two</td>\n",
       "      <td>hatchback</td>\n",
       "      <td>rwd</td>\n",
       "      <td>front</td>\n",
       "      <td>94.5</td>\n",
       "      <td>0.8</td>\n",
       "      <td>0.9</td>\n",
       "      <td>0.9</td>\n",
       "      <td>2823</td>\n",
       "      <td>ohcv</td>\n",
       "      <td>six</td>\n",
       "      <td>152</td>\n",
       "      <td>mpfi</td>\n",
       "      <td>2.68</td>\n",
       "      <td>3.47</td>\n",
       "      <td>9.0</td>\n",
       "      <td>154</td>\n",
       "      <td>5000</td>\n",
       "      <td>12</td>\n",
       "      <td>9</td>\n",
       "      <td>16500</td>\n",
       "      <td>medium</td>\n",
       "      <td>False</td>\n",
       "      <td>True</td>\n",
       "      <td>True</td>\n",
       "      <td>False</td>\n",
       "    </tr>\n",
       "    <tr>\n",
       "      <th>2</th>\n",
       "      <td>2</td>\n",
       "      <td>164</td>\n",
       "      <td>audi</td>\n",
       "      <td>four</td>\n",
       "      <td>sedan</td>\n",
       "      <td>fwd</td>\n",
       "      <td>front</td>\n",
       "      <td>99.8</td>\n",
       "      <td>0.8</td>\n",
       "      <td>0.9</td>\n",
       "      <td>0.9</td>\n",
       "      <td>2337</td>\n",
       "      <td>ohc</td>\n",
       "      <td>four</td>\n",
       "      <td>109</td>\n",
       "      <td>mpfi</td>\n",
       "      <td>3.19</td>\n",
       "      <td>3.40</td>\n",
       "      <td>10.0</td>\n",
       "      <td>102</td>\n",
       "      <td>5500</td>\n",
       "      <td>10</td>\n",
       "      <td>8</td>\n",
       "      <td>13950</td>\n",
       "      <td>low</td>\n",
       "      <td>False</td>\n",
       "      <td>True</td>\n",
       "      <td>True</td>\n",
       "      <td>False</td>\n",
       "    </tr>\n",
       "    <tr>\n",
       "      <th>3</th>\n",
       "      <td>2</td>\n",
       "      <td>164</td>\n",
       "      <td>audi</td>\n",
       "      <td>four</td>\n",
       "      <td>sedan</td>\n",
       "      <td>4wd</td>\n",
       "      <td>front</td>\n",
       "      <td>99.4</td>\n",
       "      <td>0.8</td>\n",
       "      <td>0.9</td>\n",
       "      <td>0.9</td>\n",
       "      <td>2824</td>\n",
       "      <td>ohc</td>\n",
       "      <td>five</td>\n",
       "      <td>136</td>\n",
       "      <td>mpfi</td>\n",
       "      <td>3.19</td>\n",
       "      <td>3.40</td>\n",
       "      <td>8.0</td>\n",
       "      <td>115</td>\n",
       "      <td>5500</td>\n",
       "      <td>13</td>\n",
       "      <td>11</td>\n",
       "      <td>17450</td>\n",
       "      <td>low</td>\n",
       "      <td>False</td>\n",
       "      <td>True</td>\n",
       "      <td>True</td>\n",
       "      <td>False</td>\n",
       "    </tr>\n",
       "    <tr>\n",
       "      <th>4</th>\n",
       "      <td>2</td>\n",
       "      <td>122</td>\n",
       "      <td>audi</td>\n",
       "      <td>two</td>\n",
       "      <td>sedan</td>\n",
       "      <td>fwd</td>\n",
       "      <td>front</td>\n",
       "      <td>99.8</td>\n",
       "      <td>0.9</td>\n",
       "      <td>0.9</td>\n",
       "      <td>0.9</td>\n",
       "      <td>2507</td>\n",
       "      <td>ohc</td>\n",
       "      <td>five</td>\n",
       "      <td>136</td>\n",
       "      <td>mpfi</td>\n",
       "      <td>3.19</td>\n",
       "      <td>3.40</td>\n",
       "      <td>8.5</td>\n",
       "      <td>110</td>\n",
       "      <td>5500</td>\n",
       "      <td>12</td>\n",
       "      <td>9</td>\n",
       "      <td>15250</td>\n",
       "      <td>low</td>\n",
       "      <td>False</td>\n",
       "      <td>True</td>\n",
       "      <td>True</td>\n",
       "      <td>False</td>\n",
       "    </tr>\n",
       "    <tr>\n",
       "      <th>5</th>\n",
       "      <td>1</td>\n",
       "      <td>158</td>\n",
       "      <td>audi</td>\n",
       "      <td>four</td>\n",
       "      <td>sedan</td>\n",
       "      <td>fwd</td>\n",
       "      <td>front</td>\n",
       "      <td>105.8</td>\n",
       "      <td>0.9</td>\n",
       "      <td>1.0</td>\n",
       "      <td>0.9</td>\n",
       "      <td>2844</td>\n",
       "      <td>ohc</td>\n",
       "      <td>five</td>\n",
       "      <td>136</td>\n",
       "      <td>mpfi</td>\n",
       "      <td>3.19</td>\n",
       "      <td>3.40</td>\n",
       "      <td>8.5</td>\n",
       "      <td>110</td>\n",
       "      <td>5500</td>\n",
       "      <td>12</td>\n",
       "      <td>9</td>\n",
       "      <td>17710</td>\n",
       "      <td>low</td>\n",
       "      <td>False</td>\n",
       "      <td>True</td>\n",
       "      <td>True</td>\n",
       "      <td>False</td>\n",
       "    </tr>\n",
       "    <tr>\n",
       "      <th>6</th>\n",
       "      <td>1</td>\n",
       "      <td>122</td>\n",
       "      <td>audi</td>\n",
       "      <td>four</td>\n",
       "      <td>wagon</td>\n",
       "      <td>fwd</td>\n",
       "      <td>front</td>\n",
       "      <td>105.8</td>\n",
       "      <td>0.9</td>\n",
       "      <td>1.0</td>\n",
       "      <td>0.9</td>\n",
       "      <td>2954</td>\n",
       "      <td>ohc</td>\n",
       "      <td>five</td>\n",
       "      <td>136</td>\n",
       "      <td>mpfi</td>\n",
       "      <td>3.19</td>\n",
       "      <td>3.40</td>\n",
       "      <td>8.5</td>\n",
       "      <td>110</td>\n",
       "      <td>5500</td>\n",
       "      <td>12</td>\n",
       "      <td>9</td>\n",
       "      <td>18920</td>\n",
       "      <td>low</td>\n",
       "      <td>False</td>\n",
       "      <td>True</td>\n",
       "      <td>True</td>\n",
       "      <td>False</td>\n",
       "    </tr>\n",
       "    <tr>\n",
       "      <th>7</th>\n",
       "      <td>1</td>\n",
       "      <td>158</td>\n",
       "      <td>audi</td>\n",
       "      <td>four</td>\n",
       "      <td>sedan</td>\n",
       "      <td>fwd</td>\n",
       "      <td>front</td>\n",
       "      <td>105.8</td>\n",
       "      <td>0.9</td>\n",
       "      <td>1.0</td>\n",
       "      <td>0.9</td>\n",
       "      <td>3086</td>\n",
       "      <td>ohc</td>\n",
       "      <td>five</td>\n",
       "      <td>131</td>\n",
       "      <td>mpfi</td>\n",
       "      <td>3.13</td>\n",
       "      <td>3.40</td>\n",
       "      <td>8.3</td>\n",
       "      <td>140</td>\n",
       "      <td>5500</td>\n",
       "      <td>14</td>\n",
       "      <td>12</td>\n",
       "      <td>23875</td>\n",
       "      <td>medium</td>\n",
       "      <td>False</td>\n",
       "      <td>True</td>\n",
       "      <td>False</td>\n",
       "      <td>True</td>\n",
       "    </tr>\n",
       "    <tr>\n",
       "      <th>8</th>\n",
       "      <td>2</td>\n",
       "      <td>192</td>\n",
       "      <td>bmw</td>\n",
       "      <td>two</td>\n",
       "      <td>sedan</td>\n",
       "      <td>rwd</td>\n",
       "      <td>front</td>\n",
       "      <td>101.2</td>\n",
       "      <td>0.8</td>\n",
       "      <td>0.9</td>\n",
       "      <td>0.9</td>\n",
       "      <td>2395</td>\n",
       "      <td>ohc</td>\n",
       "      <td>four</td>\n",
       "      <td>108</td>\n",
       "      <td>mpfi</td>\n",
       "      <td>3.50</td>\n",
       "      <td>2.80</td>\n",
       "      <td>8.8</td>\n",
       "      <td>101</td>\n",
       "      <td>5800</td>\n",
       "      <td>10</td>\n",
       "      <td>8</td>\n",
       "      <td>16430</td>\n",
       "      <td>low</td>\n",
       "      <td>False</td>\n",
       "      <td>True</td>\n",
       "      <td>True</td>\n",
       "      <td>False</td>\n",
       "    </tr>\n",
       "    <tr>\n",
       "      <th>9</th>\n",
       "      <td>0</td>\n",
       "      <td>192</td>\n",
       "      <td>bmw</td>\n",
       "      <td>four</td>\n",
       "      <td>sedan</td>\n",
       "      <td>rwd</td>\n",
       "      <td>front</td>\n",
       "      <td>101.2</td>\n",
       "      <td>0.8</td>\n",
       "      <td>0.9</td>\n",
       "      <td>0.9</td>\n",
       "      <td>2395</td>\n",
       "      <td>ohc</td>\n",
       "      <td>four</td>\n",
       "      <td>108</td>\n",
       "      <td>mpfi</td>\n",
       "      <td>3.50</td>\n",
       "      <td>2.80</td>\n",
       "      <td>8.8</td>\n",
       "      <td>101</td>\n",
       "      <td>5800</td>\n",
       "      <td>10</td>\n",
       "      <td>8</td>\n",
       "      <td>16925</td>\n",
       "      <td>low</td>\n",
       "      <td>False</td>\n",
       "      <td>True</td>\n",
       "      <td>True</td>\n",
       "      <td>False</td>\n",
       "    </tr>\n",
       "  </tbody>\n",
       "</table>\n",
       "</div>"
      ],
      "text/plain": [
       "   symboling  normalized-losses         make num-of-doors   body-style  \\\n",
       "0          3                122  alfa-romero          two  convertible   \n",
       "1          1                122  alfa-romero          two    hatchback   \n",
       "2          2                164         audi         four        sedan   \n",
       "3          2                164         audi         four        sedan   \n",
       "4          2                122         audi          two        sedan   \n",
       "5          1                158         audi         four        sedan   \n",
       "6          1                122         audi         four        wagon   \n",
       "7          1                158         audi         four        sedan   \n",
       "8          2                192          bmw          two        sedan   \n",
       "9          0                192          bmw         four        sedan   \n",
       "\n",
       "  drive-wheels engine-location  wheel-base  length  width  height  \\\n",
       "0          rwd           front        88.6     0.8    0.9     0.8   \n",
       "1          rwd           front        94.5     0.8    0.9     0.9   \n",
       "2          fwd           front        99.8     0.8    0.9     0.9   \n",
       "3          4wd           front        99.4     0.8    0.9     0.9   \n",
       "4          fwd           front        99.8     0.9    0.9     0.9   \n",
       "5          fwd           front       105.8     0.9    1.0     0.9   \n",
       "6          fwd           front       105.8     0.9    1.0     0.9   \n",
       "7          fwd           front       105.8     0.9    1.0     0.9   \n",
       "8          rwd           front       101.2     0.8    0.9     0.9   \n",
       "9          rwd           front       101.2     0.8    0.9     0.9   \n",
       "\n",
       "   curb-weight engine-type num-of-cylinders  engine-size fuel-system  bore  \\\n",
       "0         2548        dohc             four          130        mpfi  3.47   \n",
       "1         2823        ohcv              six          152        mpfi  2.68   \n",
       "2         2337         ohc             four          109        mpfi  3.19   \n",
       "3         2824         ohc             five          136        mpfi  3.19   \n",
       "4         2507         ohc             five          136        mpfi  3.19   \n",
       "5         2844         ohc             five          136        mpfi  3.19   \n",
       "6         2954         ohc             five          136        mpfi  3.19   \n",
       "7         3086         ohc             five          131        mpfi  3.13   \n",
       "8         2395         ohc             four          108        mpfi  3.50   \n",
       "9         2395         ohc             four          108        mpfi  3.50   \n",
       "\n",
       "   stroke  compression-ratio  horsepower  peak-rpm  city-kmpl  highway-kmpl  \\\n",
       "0    2.68                9.0         111      5000         11             9   \n",
       "1    3.47                9.0         154      5000         12             9   \n",
       "2    3.40               10.0         102      5500         10             8   \n",
       "3    3.40                8.0         115      5500         13            11   \n",
       "4    3.40                8.5         110      5500         12             9   \n",
       "5    3.40                8.5         110      5500         12             9   \n",
       "6    3.40                8.5         110      5500         12             9   \n",
       "7    3.40                8.3         140      5500         14            12   \n",
       "8    2.80                8.8         101      5800         10             8   \n",
       "9    2.80                8.8         101      5800         10             8   \n",
       "\n",
       "   price horsepower-binned  fuel-type-diesel  fuel-type-gas  aspiration_std  \\\n",
       "0  16500               low             False           True            True   \n",
       "1  16500            medium             False           True            True   \n",
       "2  13950               low             False           True            True   \n",
       "3  17450               low             False           True            True   \n",
       "4  15250               low             False           True            True   \n",
       "5  17710               low             False           True            True   \n",
       "6  18920               low             False           True            True   \n",
       "7  23875            medium             False           True           False   \n",
       "8  16430               low             False           True            True   \n",
       "9  16925               low             False           True            True   \n",
       "\n",
       "   aspiration-turbo  \n",
       "0             False  \n",
       "1             False  \n",
       "2             False  \n",
       "3             False  \n",
       "4             False  \n",
       "5             False  \n",
       "6             False  \n",
       "7              True  \n",
       "8             False  \n",
       "9             False  "
      ]
     },
     "execution_count": 1241,
     "metadata": {},
     "output_type": "execute_result"
    }
   ],
   "source": [
    "df.head(10)"
   ]
  },
  {
   "cell_type": "code",
   "execution_count": null,
   "id": "e02a56e1",
   "metadata": {},
   "outputs": [],
   "source": []
  }
 ],
 "metadata": {
  "kernelspec": {
   "display_name": "Python 3 (ipykernel)",
   "language": "python",
   "name": "python3"
  },
  "language_info": {
   "codemirror_mode": {
    "name": "ipython",
    "version": 3
   },
   "file_extension": ".py",
   "mimetype": "text/x-python",
   "name": "python",
   "nbconvert_exporter": "python",
   "pygments_lexer": "ipython3",
   "version": "3.11.5"
  }
 },
 "nbformat": 4,
 "nbformat_minor": 5
}
